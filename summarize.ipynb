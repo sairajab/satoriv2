{
 "cells": [
  {
   "cell_type": "code",
   "execution_count": 79,
   "id": "82cdc6ff",
   "metadata": {},
   "outputs": [],
   "source": [
    "import pandas as pd"
   ]
  },
  {
   "cell_type": "code",
   "execution_count": 89,
   "id": "11280a3f",
   "metadata": {},
   "outputs": [],
   "source": [
    "output_path = \"/s/jawar/i/nobackup/Saira/original/satori/results/human_promoters/LAST_exps/fhd_entropy/E2_0.01/Interactions_SATORI/\"\n"
   ]
  },
  {
   "cell_type": "code",
   "execution_count": 90,
   "id": "9ace532e",
   "metadata": {},
   "outputs": [],
   "source": [
    "suffix = \"SATORI\"\n",
    "df_resTRUSTv2x = pd.read_csv(f'{output_path}/Human_ATTN_TRRUSTv2_{suffix}.csv')"
   ]
  },
  {
   "cell_type": "code",
   "execution_count": 91,
   "id": "f7367865",
   "metadata": {},
   "outputs": [
    {
     "data": {
      "text/html": [
       "<div>\n",
       "<style scoped>\n",
       "    .dataframe tbody tr th:only-of-type {\n",
       "        vertical-align: middle;\n",
       "    }\n",
       "\n",
       "    .dataframe tbody tr th {\n",
       "        vertical-align: top;\n",
       "    }\n",
       "\n",
       "    .dataframe thead th {\n",
       "        text-align: right;\n",
       "    }\n",
       "</style>\n",
       "<table border=\"1\" class=\"dataframe\">\n",
       "  <thead>\n",
       "    <tr style=\"text-align: right;\">\n",
       "      <th></th>\n",
       "      <th>TF_Interaction</th>\n",
       "      <th>TF1_Family</th>\n",
       "      <th>TF2_Family</th>\n",
       "      <th>adjusted_pval</th>\n",
       "    </tr>\n",
       "  </thead>\n",
       "  <tbody>\n",
       "    <tr>\n",
       "      <th>0</th>\n",
       "      <td>DNMT1$\\longleftrightarrow$EGR1</td>\n",
       "      <td>C2H2 ZF</td>\n",
       "      <td>CxxC</td>\n",
       "      <td>1.932109e-21</td>\n",
       "    </tr>\n",
       "    <tr>\n",
       "      <th>1</th>\n",
       "      <td>DNMT1$\\longleftrightarrow$LCOR</td>\n",
       "      <td>Pipsqueak</td>\n",
       "      <td>CxxC</td>\n",
       "      <td>1.180544e-20</td>\n",
       "    </tr>\n",
       "    <tr>\n",
       "      <th>2</th>\n",
       "      <td>DNMT1$\\longleftrightarrow$ESR1</td>\n",
       "      <td>Nuclear receptor</td>\n",
       "      <td>CxxC</td>\n",
       "      <td>1.124069e-18</td>\n",
       "    </tr>\n",
       "    <tr>\n",
       "      <th>3</th>\n",
       "      <td>EGR1$\\longleftrightarrow$LCOR</td>\n",
       "      <td>C2H2 ZF</td>\n",
       "      <td>Pipsqueak</td>\n",
       "      <td>1.273169e-17</td>\n",
       "    </tr>\n",
       "    <tr>\n",
       "      <th>4</th>\n",
       "      <td>DNMT1$\\longleftrightarrow$SP4</td>\n",
       "      <td>C2H2 ZF</td>\n",
       "      <td>CxxC</td>\n",
       "      <td>5.222619e-16</td>\n",
       "    </tr>\n",
       "    <tr>\n",
       "      <th>5</th>\n",
       "      <td>EGR1$\\longleftrightarrow$SP4</td>\n",
       "      <td>C2H2 ZF</td>\n",
       "      <td>C2H2 ZF</td>\n",
       "      <td>1.031384e-12</td>\n",
       "    </tr>\n",
       "    <tr>\n",
       "      <th>6</th>\n",
       "      <td>LCOR$\\longleftrightarrow$ESR1</td>\n",
       "      <td>Nuclear receptor</td>\n",
       "      <td>Pipsqueak</td>\n",
       "      <td>1.250176e-12</td>\n",
       "    </tr>\n",
       "    <tr>\n",
       "      <th>7</th>\n",
       "      <td>EGR1$\\longleftrightarrow$ESR1</td>\n",
       "      <td>C2H2 ZF</td>\n",
       "      <td>Nuclear receptor</td>\n",
       "      <td>1.323268e-12</td>\n",
       "    </tr>\n",
       "    <tr>\n",
       "      <th>8</th>\n",
       "      <td>ESR1$\\longleftrightarrow$SP4</td>\n",
       "      <td>Nuclear receptor</td>\n",
       "      <td>C2H2 ZF</td>\n",
       "      <td>1.206493e-06</td>\n",
       "    </tr>\n",
       "  </tbody>\n",
       "</table>\n",
       "</div>"
      ],
      "text/plain": [
       "                   TF_Interaction        TF1_Family        TF2_Family  \\\n",
       "0  DNMT1$\\longleftrightarrow$EGR1           C2H2 ZF              CxxC   \n",
       "1  DNMT1$\\longleftrightarrow$LCOR         Pipsqueak              CxxC   \n",
       "2  DNMT1$\\longleftrightarrow$ESR1  Nuclear receptor              CxxC   \n",
       "3   EGR1$\\longleftrightarrow$LCOR           C2H2 ZF         Pipsqueak   \n",
       "4   DNMT1$\\longleftrightarrow$SP4           C2H2 ZF              CxxC   \n",
       "5    EGR1$\\longleftrightarrow$SP4           C2H2 ZF           C2H2 ZF   \n",
       "6   LCOR$\\longleftrightarrow$ESR1  Nuclear receptor         Pipsqueak   \n",
       "7   EGR1$\\longleftrightarrow$ESR1           C2H2 ZF  Nuclear receptor   \n",
       "8    ESR1$\\longleftrightarrow$SP4  Nuclear receptor           C2H2 ZF   \n",
       "\n",
       "   adjusted_pval  \n",
       "0   1.932109e-21  \n",
       "1   1.180544e-20  \n",
       "2   1.124069e-18  \n",
       "3   1.273169e-17  \n",
       "4   5.222619e-16  \n",
       "5   1.031384e-12  \n",
       "6   1.250176e-12  \n",
       "7   1.323268e-12  \n",
       "8   1.206493e-06  "
      ]
     },
     "execution_count": 91,
     "metadata": {},
     "output_type": "execute_result"
    }
   ],
   "source": [
    "df_resTRUSTv2x = df_resTRUSTv2x.drop('Unnamed: 0', axis=1)\n",
    "df_resTRUSTv2x"
   ]
  },
  {
   "cell_type": "code",
   "execution_count": 92,
   "id": "22e8face",
   "metadata": {},
   "outputs": [],
   "source": [
    "df_resHIPPIEx = pd.read_csv(f'{output_path}/Human_ATTN_HIPPIE_{suffix}.csv')"
   ]
  },
  {
   "cell_type": "code",
   "execution_count": 93,
   "id": "6639c15d",
   "metadata": {},
   "outputs": [],
   "source": [
    "df_resHIPPIEx = df_resHIPPIEx.drop('Unnamed: 0', axis=1)"
   ]
  },
  {
   "cell_type": "code",
   "execution_count": 94,
   "id": "d3e71795",
   "metadata": {},
   "outputs": [
    {
     "data": {
      "text/html": [
       "<div>\n",
       "<style scoped>\n",
       "    .dataframe tbody tr th:only-of-type {\n",
       "        vertical-align: middle;\n",
       "    }\n",
       "\n",
       "    .dataframe tbody tr th {\n",
       "        vertical-align: top;\n",
       "    }\n",
       "\n",
       "    .dataframe thead th {\n",
       "        text-align: right;\n",
       "    }\n",
       "</style>\n",
       "<table border=\"1\" class=\"dataframe\">\n",
       "  <thead>\n",
       "    <tr style=\"text-align: right;\">\n",
       "      <th></th>\n",
       "      <th>TF_Interaction</th>\n",
       "      <th>TF1_Family</th>\n",
       "      <th>TF2_Family</th>\n",
       "      <th>adjusted_pval</th>\n",
       "    </tr>\n",
       "  </thead>\n",
       "  <tbody>\n",
       "    <tr>\n",
       "      <th>0</th>\n",
       "      <td>DNMT1$\\longleftrightarrow$KDM2B</td>\n",
       "      <td>CxxC</td>\n",
       "      <td>CxxC</td>\n",
       "      <td>4.454151e-30</td>\n",
       "    </tr>\n",
       "    <tr>\n",
       "      <th>1</th>\n",
       "      <td>LCOR$\\longleftrightarrow$KDM2B</td>\n",
       "      <td>Pipsqueak</td>\n",
       "      <td>CxxC</td>\n",
       "      <td>8.329536e-23</td>\n",
       "    </tr>\n",
       "    <tr>\n",
       "      <th>2</th>\n",
       "      <td>EGR1$\\longleftrightarrow$SOX3</td>\n",
       "      <td>C2H2 ZF</td>\n",
       "      <td>Sox</td>\n",
       "      <td>2.482832e-21</td>\n",
       "    </tr>\n",
       "    <tr>\n",
       "      <th>3</th>\n",
       "      <td>KDM2B$\\longleftrightarrow$ESR1</td>\n",
       "      <td>Nuclear receptor</td>\n",
       "      <td>CxxC</td>\n",
       "      <td>9.584394e-21</td>\n",
       "    </tr>\n",
       "    <tr>\n",
       "      <th>4</th>\n",
       "      <td>DNMT1$\\longleftrightarrow$LCOR</td>\n",
       "      <td>Pipsqueak</td>\n",
       "      <td>CxxC</td>\n",
       "      <td>1.180544e-20</td>\n",
       "    </tr>\n",
       "    <tr>\n",
       "      <th>5</th>\n",
       "      <td>ESR1$\\longleftrightarrow$ARID2</td>\n",
       "      <td>Nuclear receptor</td>\n",
       "      <td>ARID/BRIGHT,RFX</td>\n",
       "      <td>9.587440e-20</td>\n",
       "    </tr>\n",
       "    <tr>\n",
       "      <th>6</th>\n",
       "      <td>DNMT1$\\longleftrightarrow$ESR1</td>\n",
       "      <td>Nuclear receptor</td>\n",
       "      <td>CxxC</td>\n",
       "      <td>1.124069e-18</td>\n",
       "    </tr>\n",
       "    <tr>\n",
       "      <th>7</th>\n",
       "      <td>SOX1$\\longleftrightarrow$ESR1</td>\n",
       "      <td>Nuclear receptor</td>\n",
       "      <td>Sox</td>\n",
       "      <td>4.791568e-18</td>\n",
       "    </tr>\n",
       "    <tr>\n",
       "      <th>8</th>\n",
       "      <td>ESR1$\\longleftrightarrow$ZHX1</td>\n",
       "      <td>Nuclear receptor</td>\n",
       "      <td>Homeodomain</td>\n",
       "      <td>3.923343e-17</td>\n",
       "    </tr>\n",
       "    <tr>\n",
       "      <th>9</th>\n",
       "      <td>SOX3$\\longleftrightarrow$ESR1</td>\n",
       "      <td>Nuclear receptor</td>\n",
       "      <td>Sox</td>\n",
       "      <td>1.796496e-15</td>\n",
       "    </tr>\n",
       "    <tr>\n",
       "      <th>10</th>\n",
       "      <td>IRX4$\\longleftrightarrow$ESR1</td>\n",
       "      <td>Homeodomain</td>\n",
       "      <td>Nuclear receptor</td>\n",
       "      <td>4.071339e-15</td>\n",
       "    </tr>\n",
       "    <tr>\n",
       "      <th>11</th>\n",
       "      <td>SP7$\\longleftrightarrow$ESR1</td>\n",
       "      <td>Nuclear receptor</td>\n",
       "      <td>C2H2 ZF</td>\n",
       "      <td>3.775693e-13</td>\n",
       "    </tr>\n",
       "    <tr>\n",
       "      <th>12</th>\n",
       "      <td>LCOR$\\longleftrightarrow$ESR1</td>\n",
       "      <td>Nuclear receptor</td>\n",
       "      <td>Pipsqueak</td>\n",
       "      <td>1.250176e-12</td>\n",
       "    </tr>\n",
       "    <tr>\n",
       "      <th>13</th>\n",
       "      <td>EGR1$\\longleftrightarrow$ESR1</td>\n",
       "      <td>C2H2 ZF</td>\n",
       "      <td>Nuclear receptor</td>\n",
       "      <td>1.323268e-12</td>\n",
       "    </tr>\n",
       "    <tr>\n",
       "      <th>14</th>\n",
       "      <td>FOXN3$\\longleftrightarrow$ESR1</td>\n",
       "      <td>Forkhead</td>\n",
       "      <td>Nuclear receptor</td>\n",
       "      <td>5.182436e-12</td>\n",
       "    </tr>\n",
       "    <tr>\n",
       "      <th>15</th>\n",
       "      <td>TLX2$\\longleftrightarrow$HLX</td>\n",
       "      <td>Homeodomain</td>\n",
       "      <td>Homeodomain</td>\n",
       "      <td>6.301252e-08</td>\n",
       "    </tr>\n",
       "    <tr>\n",
       "      <th>16</th>\n",
       "      <td>LCOR$\\longleftrightarrow$HLX</td>\n",
       "      <td>Pipsqueak</td>\n",
       "      <td>Homeodomain</td>\n",
       "      <td>1.620884e-05</td>\n",
       "    </tr>\n",
       "    <tr>\n",
       "      <th>17</th>\n",
       "      <td>HHEX$\\longleftrightarrow$KDM2B</td>\n",
       "      <td>Homeodomain</td>\n",
       "      <td>CxxC</td>\n",
       "      <td>4.999435e-05</td>\n",
       "    </tr>\n",
       "    <tr>\n",
       "      <th>18</th>\n",
       "      <td>FOXN3$\\longleftrightarrow$HLX</td>\n",
       "      <td>Forkhead</td>\n",
       "      <td>Homeodomain</td>\n",
       "      <td>2.555665e-04</td>\n",
       "    </tr>\n",
       "    <tr>\n",
       "      <th>19</th>\n",
       "      <td>TLX2$\\longleftrightarrow$HHEX</td>\n",
       "      <td>Homeodomain</td>\n",
       "      <td>Homeodomain</td>\n",
       "      <td>8.923798e-04</td>\n",
       "    </tr>\n",
       "    <tr>\n",
       "      <th>20</th>\n",
       "      <td>ZNF32$\\longleftrightarrow$HHEX</td>\n",
       "      <td>C2H2 ZF</td>\n",
       "      <td>Homeodomain</td>\n",
       "      <td>1.181182e-03</td>\n",
       "    </tr>\n",
       "  </tbody>\n",
       "</table>\n",
       "</div>"
      ],
      "text/plain": [
       "                     TF_Interaction        TF1_Family        TF2_Family  \\\n",
       "0   DNMT1$\\longleftrightarrow$KDM2B              CxxC              CxxC   \n",
       "1    LCOR$\\longleftrightarrow$KDM2B         Pipsqueak              CxxC   \n",
       "2     EGR1$\\longleftrightarrow$SOX3           C2H2 ZF               Sox   \n",
       "3    KDM2B$\\longleftrightarrow$ESR1  Nuclear receptor              CxxC   \n",
       "4    DNMT1$\\longleftrightarrow$LCOR         Pipsqueak              CxxC   \n",
       "5    ESR1$\\longleftrightarrow$ARID2  Nuclear receptor   ARID/BRIGHT,RFX   \n",
       "6    DNMT1$\\longleftrightarrow$ESR1  Nuclear receptor              CxxC   \n",
       "7     SOX1$\\longleftrightarrow$ESR1  Nuclear receptor               Sox   \n",
       "8     ESR1$\\longleftrightarrow$ZHX1  Nuclear receptor       Homeodomain   \n",
       "9     SOX3$\\longleftrightarrow$ESR1  Nuclear receptor               Sox   \n",
       "10    IRX4$\\longleftrightarrow$ESR1       Homeodomain  Nuclear receptor   \n",
       "11     SP7$\\longleftrightarrow$ESR1  Nuclear receptor           C2H2 ZF   \n",
       "12    LCOR$\\longleftrightarrow$ESR1  Nuclear receptor         Pipsqueak   \n",
       "13    EGR1$\\longleftrightarrow$ESR1           C2H2 ZF  Nuclear receptor   \n",
       "14   FOXN3$\\longleftrightarrow$ESR1          Forkhead  Nuclear receptor   \n",
       "15     TLX2$\\longleftrightarrow$HLX       Homeodomain       Homeodomain   \n",
       "16     LCOR$\\longleftrightarrow$HLX         Pipsqueak       Homeodomain   \n",
       "17   HHEX$\\longleftrightarrow$KDM2B       Homeodomain              CxxC   \n",
       "18    FOXN3$\\longleftrightarrow$HLX          Forkhead       Homeodomain   \n",
       "19    TLX2$\\longleftrightarrow$HHEX       Homeodomain       Homeodomain   \n",
       "20   ZNF32$\\longleftrightarrow$HHEX           C2H2 ZF       Homeodomain   \n",
       "\n",
       "    adjusted_pval  \n",
       "0    4.454151e-30  \n",
       "1    8.329536e-23  \n",
       "2    2.482832e-21  \n",
       "3    9.584394e-21  \n",
       "4    1.180544e-20  \n",
       "5    9.587440e-20  \n",
       "6    1.124069e-18  \n",
       "7    4.791568e-18  \n",
       "8    3.923343e-17  \n",
       "9    1.796496e-15  \n",
       "10   4.071339e-15  \n",
       "11   3.775693e-13  \n",
       "12   1.250176e-12  \n",
       "13   1.323268e-12  \n",
       "14   5.182436e-12  \n",
       "15   6.301252e-08  \n",
       "16   1.620884e-05  \n",
       "17   4.999435e-05  \n",
       "18   2.555665e-04  \n",
       "19   8.923798e-04  \n",
       "20   1.181182e-03  "
      ]
     },
     "execution_count": 94,
     "metadata": {},
     "output_type": "execute_result"
    }
   ],
   "source": [
    "df_resHIPPIEx"
   ]
  },
  {
   "cell_type": "code",
   "execution_count": 95,
   "id": "9ca26f2c",
   "metadata": {},
   "outputs": [
    {
     "data": {
      "text/plain": [
       "4"
      ]
     },
     "execution_count": 95,
     "metadata": {},
     "output_type": "execute_result"
    }
   ],
   "source": [
    "len(set(df_resTRUSTv2x[\"TF_Interaction\"].values)  & set(df_resHIPPIEx[\"TF_Interaction\"].values))"
   ]
  },
  {
   "cell_type": "code",
   "execution_count": 67,
   "id": "18539cfe",
   "metadata": {},
   "outputs": [],
   "source": [
    "df_all = pd.read_csv(f'{output_path}/Human-Promoter_interactions_{suffix}.csv')"
   ]
  },
  {
   "cell_type": "code",
   "execution_count": 68,
   "id": "df138008",
   "metadata": {},
   "outputs": [
    {
     "data": {
      "text/plain": [
       "(556, 19)"
      ]
     },
     "execution_count": 68,
     "metadata": {},
     "output_type": "execute_result"
    }
   ],
   "source": [
    "df_all.shape"
   ]
  },
  {
   "cell_type": "code",
   "execution_count": 69,
   "id": "f4146bb8",
   "metadata": {},
   "outputs": [],
   "source": [
    "ax = df_all[\"TF_Interaction\"].value_counts()[:15]#.plot(kind='bar', color=color, figsize=fig_size, fontsize=14)"
   ]
  },
  {
   "cell_type": "code",
   "execution_count": 70,
   "id": "4efab879",
   "metadata": {},
   "outputs": [
    {
     "data": {
      "text/plain": [
       "{'DNMT1', 'E2F1', 'EGR1', 'KDM2B', 'MLL', 'SOX1', 'TLX2'}"
      ]
     },
     "execution_count": 70,
     "metadata": {},
     "output_type": "execute_result"
    }
   ],
   "source": [
    "unique = []\n",
    "for j in ax.index:\n",
    "    m1, m2 = j.split(\"$\\longleftrightarrow$\")\n",
    "    unique.append(m1)\n",
    "    unique.append(m2)\n",
    "set(unique)\n",
    "    \n",
    "    "
   ]
  },
  {
   "cell_type": "code",
   "execution_count": 71,
   "id": "7564c3f0",
   "metadata": {},
   "outputs": [],
   "source": [
    "hippie_intr = df_resHIPPIEx[\"TF_Interaction\"].values"
   ]
  },
  {
   "cell_type": "code",
   "execution_count": 72,
   "id": "fbd59383",
   "metadata": {},
   "outputs": [
    {
     "name": "stdout",
     "output_type": "stream",
     "text": [
      "KDM2B$\\longleftrightarrow$EGR1 False\n",
      "SOX1$\\longleftrightarrow$EGR1 False\n",
      "TLX2$\\longleftrightarrow$EGR1 False\n",
      "KDM2B$\\longleftrightarrow$TLX2 False\n",
      "EGR1$\\longleftrightarrow$DNMT1 False\n",
      "SOX1$\\longleftrightarrow$TLX2 False\n",
      "SOX1$\\longleftrightarrow$KDM2B False\n",
      "TLX2$\\longleftrightarrow$E2F1 False\n",
      "TLX2$\\longleftrightarrow$DNMT1 False\n",
      "True\n",
      "SOX1$\\longleftrightarrow$DNMT1 False\n",
      "TLX2$\\longleftrightarrow$MLL False\n",
      "SOX1$\\longleftrightarrow$E2F1 False\n",
      "EGR1$\\longleftrightarrow$MLL False\n",
      "KDM2B$\\longleftrightarrow$MLL False\n"
     ]
    }
   ],
   "source": [
    "for j in ax.index:\n",
    "    if j in hippie_intr:\n",
    "        print(True)\n",
    "    else:\n",
    "        print(j , False)"
   ]
  },
  {
   "cell_type": "code",
   "execution_count": 73,
   "id": "8a4fb4e2",
   "metadata": {},
   "outputs": [
    {
     "name": "stdout",
     "output_type": "stream",
     "text": [
      "KDM2B$\\longleftrightarrow$EGR1 False\n",
      "SOX1$\\longleftrightarrow$EGR1 False\n",
      "TLX2$\\longleftrightarrow$EGR1 False\n",
      "KDM2B$\\longleftrightarrow$TLX2 False\n",
      "True\n",
      "SOX1$\\longleftrightarrow$TLX2 False\n",
      "SOX1$\\longleftrightarrow$KDM2B False\n",
      "TLX2$\\longleftrightarrow$E2F1 False\n",
      "TLX2$\\longleftrightarrow$DNMT1 False\n",
      "KDM2B$\\longleftrightarrow$DNMT1 False\n",
      "SOX1$\\longleftrightarrow$DNMT1 False\n",
      "TLX2$\\longleftrightarrow$MLL False\n",
      "SOX1$\\longleftrightarrow$E2F1 False\n",
      "EGR1$\\longleftrightarrow$MLL False\n",
      "KDM2B$\\longleftrightarrow$MLL False\n"
     ]
    }
   ],
   "source": [
    "trust_intr = df_resTRUSTv2x[\"TF_Interaction\"].values\n",
    "for j in ax.index:\n",
    "    if j in trust_intr:\n",
    "        print(True)\n",
    "    else:\n",
    "        print(j , False)"
   ]
  },
  {
   "cell_type": "code",
   "execution_count": 52,
   "id": "0affe6a3",
   "metadata": {},
   "outputs": [
    {
     "data": {
      "text/plain": [
       "0      DNMT1$\\longleftrightarrow$ESR1\n",
       "1        ESR1$\\longleftrightarrow$SRF\n",
       "2       EGR1$\\longleftrightarrow$ESR1\n",
       "3        EGR1$\\longleftrightarrow$SRF\n",
       "4       DNMT1$\\longleftrightarrow$SP4\n",
       "5      ESR1$\\longleftrightarrow$TGIF1\n",
       "6        EGR1$\\longleftrightarrow$SP4\n",
       "7        ESR1$\\longleftrightarrow$SP4\n",
       "8       TGIF1$\\longleftrightarrow$SRF\n",
       "9      EGR1$\\longleftrightarrow$DNMT1\n",
       "10     DNMT1$\\longleftrightarrow$LCOR\n",
       "11      ESR1$\\longleftrightarrow$LCOR\n",
       "12      EGR1$\\longleftrightarrow$LCOR\n",
       "13     EGR1$\\longleftrightarrow$RUNX2\n",
       "14      RUNX2$\\longleftrightarrow$SRF\n",
       "15     ESR1$\\longleftrightarrow$RUNX2\n",
       "16     EGR1$\\longleftrightarrow$FOXK2\n",
       "17    DNMT1$\\longleftrightarrow$RUNX2\n",
       "Name: TF_Interaction, dtype: object"
      ]
     },
     "execution_count": 52,
     "metadata": {},
     "output_type": "execute_result"
    }
   ],
   "source": [
    "df_resTRUSTv2x[\"TF_Interaction\"]"
   ]
  },
  {
   "cell_type": "code",
   "execution_count": 46,
   "id": "6e4c801a",
   "metadata": {},
   "outputs": [
    {
     "data": {
      "text/plain": [
       "4"
      ]
     },
     "execution_count": 46,
     "metadata": {},
     "output_type": "execute_result"
    }
   ],
   "source": [
    " df_all[\"TF_Interaction\"].value_counts()[\"ESR1$\\\\longleftrightarrow$KDM2B\"]"
   ]
  },
  {
   "cell_type": "code",
   "execution_count": null,
   "id": "13fca0d9",
   "metadata": {},
   "outputs": [],
   "source": [
    "def read_metadata(file_path = \"/s/chromatin/a/nobackup/Saira/Downloads/Experiment_level_ChipHub_metadata.xlsx\"):\n",
    "    df = pd.read_excel(file_path)\n",
    "    print(df)"
   ]
  }
 ],
 "metadata": {
  "kernelspec": {
   "display_name": "Python 3 (ipykernel)",
   "language": "python",
   "name": "python3"
  },
  "language_info": {
   "codemirror_mode": {
    "name": "ipython",
    "version": 3
   },
   "file_extension": ".py",
   "mimetype": "text/x-python",
   "name": "python",
   "nbconvert_exporter": "python",
   "pygments_lexer": "ipython3",
   "version": "3.12.1"
  }
 },
 "nbformat": 4,
 "nbformat_minor": 5
}
