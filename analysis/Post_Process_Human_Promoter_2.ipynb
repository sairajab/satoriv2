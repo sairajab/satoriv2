{
 "cells": [
  {
   "cell_type": "markdown",
   "metadata": {},
   "source": [
    "## Imports"
   ]
  },
  {
   "cell_type": "code",
   "execution_count": 104,
   "metadata": {},
   "outputs": [],
   "source": [
    "import pandas as pd\n",
    "import sys\n",
    "\n",
    "sys.path.insert(0,'../satori')\n",
    "\n",
    "from postprocess import *"
   ]
  },
  {
   "cell_type": "markdown",
   "metadata": {},
   "source": [
    "## Interaction data processing"
   ]
  },
  {
   "cell_type": "code",
   "execution_count": 136,
   "metadata": {},
   "outputs": [],
   "source": [
    "exp_name = \"../results/human_promoters/fhd/adam/E3/Interactions_SATORI/interactions_summary_attnLimit-0.09919409446793113.txt\""
   ]
  },
  {
   "cell_type": "code",
   "execution_count": 137,
   "metadata": {},
   "outputs": [],
   "source": [
    "# For SATORI based interactions\n",
    "df,suffix = pd.read_csv(exp_name,sep='\\t'),'SATORI'\n",
    "##df = pd.read_csv('../results/Human_Promoter_Analysis_euclidean_v8/Interactions_SATORI/interactions_summary_attnLimit-0.04.txt',sep='\\t')\n",
    "\n",
    "# For FIS based interactions\n",
    "#df,suffix = pd.read_csv('../results/Human_Promoter_Analysis_euclidean_v8/Interactions_FIS/interactions_summary_attnLimit-50.0.txt',sep='\\t'),'FIS'\n",
    "##df = pd.read_csv('../results/Human_Promoter_Analysis_euclidean_v8_fixed/Interactions_FIS/interactions_summary_attnLimit-0.txt',sep='\\t')"
   ]
  },
  {
   "cell_type": "markdown",
   "metadata": {},
   "source": [
    "### Filter based on interaction and motif hit p-values, and keep the most significant interactions"
   ]
  },
  {
   "cell_type": "code",
   "execution_count": 138,
   "metadata": {},
   "outputs": [],
   "source": [
    "df = filter_data_on_thresholds(df, motifA_pval_cutoff=0.05, motifB_pval_cutoff=0.05)"
   ]
  },
  {
   "cell_type": "code",
   "execution_count": 140,
   "metadata": {},
   "outputs": [
    {
     "data": {
      "text/html": [
       "<div>\n",
       "<style scoped>\n",
       "    .dataframe tbody tr th:only-of-type {\n",
       "        vertical-align: middle;\n",
       "    }\n",
       "\n",
       "    .dataframe tbody tr th {\n",
       "        vertical-align: top;\n",
       "    }\n",
       "\n",
       "    .dataframe thead th {\n",
       "        text-align: right;\n",
       "    }\n",
       "</style>\n",
       "<table border=\"1\" class=\"dataframe\">\n",
       "  <thead>\n",
       "    <tr style=\"text-align: right;\">\n",
       "      <th></th>\n",
       "      <th>filter_interaction</th>\n",
       "      <th>example_no</th>\n",
       "      <th>motif1</th>\n",
       "      <th>motif1_qval</th>\n",
       "      <th>motif2</th>\n",
       "      <th>motif2_qval</th>\n",
       "      <th>mean_distance</th>\n",
       "      <th>mean_distance_bg</th>\n",
       "      <th>num_obs</th>\n",
       "      <th>num_obs_bg</th>\n",
       "      <th>pval</th>\n",
       "      <th>adjusted_pval</th>\n",
       "    </tr>\n",
       "  </thead>\n",
       "  <tbody>\n",
       "    <tr>\n",
       "      <th>505</th>\n",
       "      <td>filter9&lt;--&gt;filter33</td>\n",
       "      <td>1778</td>\n",
       "      <td>M0436_1.02</td>\n",
       "      <td>0.025992</td>\n",
       "      <td>M0608_1.02</td>\n",
       "      <td>0.003359</td>\n",
       "      <td>378.0</td>\n",
       "      <td>228.0</td>\n",
       "      <td>124.0</td>\n",
       "      <td>104.0</td>\n",
       "      <td>0.000032</td>\n",
       "      <td>0.039335</td>\n",
       "    </tr>\n",
       "    <tr>\n",
       "      <th>1204</th>\n",
       "      <td>filter17&lt;--&gt;filter33</td>\n",
       "      <td>3262</td>\n",
       "      <td>M0437_1.02</td>\n",
       "      <td>0.032468</td>\n",
       "      <td>M0608_1.02</td>\n",
       "      <td>0.003359</td>\n",
       "      <td>408.0</td>\n",
       "      <td>24.0</td>\n",
       "      <td>90.0</td>\n",
       "      <td>185.0</td>\n",
       "      <td>0.000043</td>\n",
       "      <td>0.042792</td>\n",
       "    </tr>\n",
       "    <tr>\n",
       "      <th>3294</th>\n",
       "      <td>filter52&lt;--&gt;filter67</td>\n",
       "      <td>9036</td>\n",
       "      <td>M0609_1.02</td>\n",
       "      <td>0.000584</td>\n",
       "      <td>M0608_1.02</td>\n",
       "      <td>0.013925</td>\n",
       "      <td>6.0</td>\n",
       "      <td>204.0</td>\n",
       "      <td>300.0</td>\n",
       "      <td>124.0</td>\n",
       "      <td>0.000043</td>\n",
       "      <td>0.042792</td>\n",
       "    </tr>\n",
       "    <tr>\n",
       "      <th>3708</th>\n",
       "      <td>filter58&lt;--&gt;filter138</td>\n",
       "      <td>9968</td>\n",
       "      <td>M1110_1.02</td>\n",
       "      <td>0.026777</td>\n",
       "      <td>M0408_1.02</td>\n",
       "      <td>0.009027</td>\n",
       "      <td>198.0</td>\n",
       "      <td>288.0</td>\n",
       "      <td>243.0</td>\n",
       "      <td>194.0</td>\n",
       "      <td>0.000002</td>\n",
       "      <td>0.009075</td>\n",
       "    </tr>\n",
       "    <tr>\n",
       "      <th>4039</th>\n",
       "      <td>filter63&lt;--&gt;filter106</td>\n",
       "      <td>10626</td>\n",
       "      <td>M0609_1.02</td>\n",
       "      <td>0.003054</td>\n",
       "      <td>M0608_1.02</td>\n",
       "      <td>0.000298</td>\n",
       "      <td>294.0</td>\n",
       "      <td>192.0</td>\n",
       "      <td>322.0</td>\n",
       "      <td>203.0</td>\n",
       "      <td>0.000005</td>\n",
       "      <td>0.014585</td>\n",
       "    </tr>\n",
       "  </tbody>\n",
       "</table>\n",
       "</div>"
      ],
      "text/plain": [
       "         filter_interaction  example_no      motif1  motif1_qval      motif2  \\\n",
       "505     filter9<-->filter33        1778  M0436_1.02     0.025992  M0608_1.02   \n",
       "1204   filter17<-->filter33        3262  M0437_1.02     0.032468  M0608_1.02   \n",
       "3294   filter52<-->filter67        9036  M0609_1.02     0.000584  M0608_1.02   \n",
       "3708  filter58<-->filter138        9968  M1110_1.02     0.026777  M0408_1.02   \n",
       "4039  filter63<-->filter106       10626  M0609_1.02     0.003054  M0608_1.02   \n",
       "\n",
       "      motif2_qval  mean_distance  mean_distance_bg  num_obs  num_obs_bg  \\\n",
       "505      0.003359          378.0             228.0    124.0       104.0   \n",
       "1204     0.003359          408.0              24.0     90.0       185.0   \n",
       "3294     0.013925            6.0             204.0    300.0       124.0   \n",
       "3708     0.009027          198.0             288.0    243.0       194.0   \n",
       "4039     0.000298          294.0             192.0    322.0       203.0   \n",
       "\n",
       "          pval  adjusted_pval  \n",
       "505   0.000032       0.039335  \n",
       "1204  0.000043       0.042792  \n",
       "3294  0.000043       0.042792  \n",
       "3708  0.000002       0.009075  \n",
       "4039  0.000005       0.014585  "
      ]
     },
     "execution_count": 140,
     "metadata": {},
     "output_type": "execute_result"
    }
   ],
   "source": [
    "df.head()"
   ]
  },
  {
   "cell_type": "code",
   "execution_count": 141,
   "metadata": {},
   "outputs": [
    {
     "data": {
      "text/plain": [
       "(5, 12)"
      ]
     },
     "execution_count": 141,
     "metadata": {},
     "output_type": "execute_result"
    }
   ],
   "source": [
    "df.shape"
   ]
  },
  {
   "cell_type": "markdown",
   "metadata": {},
   "source": [
    "### Load the motif description file to annotate the interactions. \n",
    "Here we use CISBP (U toronto) motif description file. "
   ]
  },
  {
   "cell_type": "code",
   "execution_count": 142,
   "metadata": {},
   "outputs": [
    {
     "name": "stderr",
     "output_type": "stream",
     "text": [
      "/tmp/ipykernel_1484340/1523184318.py:1: DtypeWarning: Columns (19) have mixed types. Specify dtype option on import or set low_memory=False.\n",
      "  df_annotate = pd.read_csv('/s/jawar/i/nobackup/Saira/latest/satori_v2/TF_info/TF_Information_all_motifs.txt',sep='\\t')\n"
     ]
    }
   ],
   "source": [
    "df_annotate = pd.read_csv('/s/jawar/i/nobackup/Saira/latest/satori_v2/TF_info/TF_Information_all_motifs.txt',sep='\\t')"
   ]
  },
  {
   "cell_type": "code",
   "execution_count": 143,
   "metadata": {},
   "outputs": [
    {
     "data": {
      "text/html": [
       "<div>\n",
       "<style scoped>\n",
       "    .dataframe tbody tr th:only-of-type {\n",
       "        vertical-align: middle;\n",
       "    }\n",
       "\n",
       "    .dataframe tbody tr th {\n",
       "        vertical-align: top;\n",
       "    }\n",
       "\n",
       "    .dataframe thead th {\n",
       "        text-align: right;\n",
       "    }\n",
       "</style>\n",
       "<table border=\"1\" class=\"dataframe\">\n",
       "  <thead>\n",
       "    <tr style=\"text-align: right;\">\n",
       "      <th></th>\n",
       "      <th>TF_ID</th>\n",
       "      <th>Family_ID</th>\n",
       "      <th>TSource_ID</th>\n",
       "      <th>Motif_ID</th>\n",
       "      <th>MSource_ID</th>\n",
       "      <th>DBID</th>\n",
       "      <th>TF_Name</th>\n",
       "      <th>TF_Species</th>\n",
       "      <th>TF_Status</th>\n",
       "      <th>Family_Name</th>\n",
       "      <th>...</th>\n",
       "      <th>MSource_Year</th>\n",
       "      <th>PMID</th>\n",
       "      <th>MSource_Version</th>\n",
       "      <th>SR_Model</th>\n",
       "      <th>SR_NoThreshold</th>\n",
       "      <th>TfSource_Name</th>\n",
       "      <th>TfSource_URL</th>\n",
       "      <th>TfSource_Year</th>\n",
       "      <th>TfSource_Month</th>\n",
       "      <th>TfSource_Day</th>\n",
       "    </tr>\n",
       "  </thead>\n",
       "  <tbody>\n",
       "    <tr>\n",
       "      <th>0</th>\n",
       "      <td>T000001_2.00</td>\n",
       "      <td>F001_2.00</td>\n",
       "      <td>TS12_2.00</td>\n",
       "      <td>.</td>\n",
       "      <td>.</td>\n",
       "      <td>BRADI2G60554</td>\n",
       "      <td>BRADI2G60554</td>\n",
       "      <td>Brachypodium_distachyon</td>\n",
       "      <td>N</td>\n",
       "      <td>ABF1,B3</td>\n",
       "      <td>...</td>\n",
       "      <td>.</td>\n",
       "      <td>.</td>\n",
       "      <td>.</td>\n",
       "      <td>SequenceIdentity</td>\n",
       "      <td>True</td>\n",
       "      <td>Ensembl</td>\n",
       "      <td>http://www.ensembl.org/</td>\n",
       "      <td>2018</td>\n",
       "      <td>Dec</td>\n",
       "      <td>8</td>\n",
       "    </tr>\n",
       "    <tr>\n",
       "      <th>1</th>\n",
       "      <td>T000002_2.00</td>\n",
       "      <td>F001_2.00</td>\n",
       "      <td>TS12_2.00</td>\n",
       "      <td>.</td>\n",
       "      <td>.</td>\n",
       "      <td>LPERR05G06870</td>\n",
       "      <td>LPERR05G06870</td>\n",
       "      <td>Leersia_perrieri</td>\n",
       "      <td>N</td>\n",
       "      <td>ABF1,B3</td>\n",
       "      <td>...</td>\n",
       "      <td>.</td>\n",
       "      <td>.</td>\n",
       "      <td>.</td>\n",
       "      <td>SequenceIdentity</td>\n",
       "      <td>True</td>\n",
       "      <td>Ensembl</td>\n",
       "      <td>http://www.ensembl.org/</td>\n",
       "      <td>2018</td>\n",
       "      <td>Dec</td>\n",
       "      <td>8</td>\n",
       "    </tr>\n",
       "    <tr>\n",
       "      <th>2</th>\n",
       "      <td>T000003_2.00</td>\n",
       "      <td>F002_2.00</td>\n",
       "      <td>TS04_2.00</td>\n",
       "      <td>.</td>\n",
       "      <td>.</td>\n",
       "      <td>CPAG_02544</td>\n",
       "      <td>CPAG_02544</td>\n",
       "      <td>Candida_parapsilosis</td>\n",
       "      <td>N</td>\n",
       "      <td>ABF1</td>\n",
       "      <td>...</td>\n",
       "      <td>.</td>\n",
       "      <td>.</td>\n",
       "      <td>.</td>\n",
       "      <td>SequenceIdentity</td>\n",
       "      <td>True</td>\n",
       "      <td>Broad</td>\n",
       "      <td>http://www.broadinstitute.org/</td>\n",
       "      <td>2016</td>\n",
       "      <td>May</td>\n",
       "      <td>1</td>\n",
       "    </tr>\n",
       "    <tr>\n",
       "      <th>3</th>\n",
       "      <td>T000004_2.00</td>\n",
       "      <td>F002_2.00</td>\n",
       "      <td>TS04_2.00</td>\n",
       "      <td>.</td>\n",
       "      <td>.</td>\n",
       "      <td>PTSG_00627</td>\n",
       "      <td>PTSG_00627</td>\n",
       "      <td>Salpingoeca_rosetta</td>\n",
       "      <td>N</td>\n",
       "      <td>ABF1</td>\n",
       "      <td>...</td>\n",
       "      <td>.</td>\n",
       "      <td>.</td>\n",
       "      <td>.</td>\n",
       "      <td>SequenceIdentity</td>\n",
       "      <td>True</td>\n",
       "      <td>Broad</td>\n",
       "      <td>http://www.broadinstitute.org/</td>\n",
       "      <td>2016</td>\n",
       "      <td>May</td>\n",
       "      <td>1</td>\n",
       "    </tr>\n",
       "    <tr>\n",
       "      <th>4</th>\n",
       "      <td>T000005_2.00</td>\n",
       "      <td>F002_2.00</td>\n",
       "      <td>TS04_2.00</td>\n",
       "      <td>.</td>\n",
       "      <td>.</td>\n",
       "      <td>WUBG_06707</td>\n",
       "      <td>WUBG_06707</td>\n",
       "      <td>Wuchereria_bancrofti</td>\n",
       "      <td>N</td>\n",
       "      <td>ABF1</td>\n",
       "      <td>...</td>\n",
       "      <td>.</td>\n",
       "      <td>.</td>\n",
       "      <td>.</td>\n",
       "      <td>SequenceIdentity</td>\n",
       "      <td>True</td>\n",
       "      <td>Broad</td>\n",
       "      <td>http://www.broadinstitute.org/</td>\n",
       "      <td>2016</td>\n",
       "      <td>May</td>\n",
       "      <td>1</td>\n",
       "    </tr>\n",
       "  </tbody>\n",
       "</table>\n",
       "<p>5 rows × 28 columns</p>\n",
       "</div>"
      ],
      "text/plain": [
       "          TF_ID  Family_ID TSource_ID Motif_ID MSource_ID           DBID  \\\n",
       "0  T000001_2.00  F001_2.00  TS12_2.00        .          .   BRADI2G60554   \n",
       "1  T000002_2.00  F001_2.00  TS12_2.00        .          .  LPERR05G06870   \n",
       "2  T000003_2.00  F002_2.00  TS04_2.00        .          .     CPAG_02544   \n",
       "3  T000004_2.00  F002_2.00  TS04_2.00        .          .     PTSG_00627   \n",
       "4  T000005_2.00  F002_2.00  TS04_2.00        .          .     WUBG_06707   \n",
       "\n",
       "         TF_Name               TF_Species TF_Status Family_Name  ...  \\\n",
       "0   BRADI2G60554  Brachypodium_distachyon         N     ABF1,B3  ...   \n",
       "1  LPERR05G06870         Leersia_perrieri         N     ABF1,B3  ...   \n",
       "2     CPAG_02544     Candida_parapsilosis         N        ABF1  ...   \n",
       "3     PTSG_00627      Salpingoeca_rosetta         N        ABF1  ...   \n",
       "4     WUBG_06707     Wuchereria_bancrofti         N        ABF1  ...   \n",
       "\n",
       "  MSource_Year  PMID  MSource_Version          SR_Model SR_NoThreshold  \\\n",
       "0            .     .                .  SequenceIdentity           True   \n",
       "1            .     .                .  SequenceIdentity           True   \n",
       "2            .     .                .  SequenceIdentity           True   \n",
       "3            .     .                .  SequenceIdentity           True   \n",
       "4            .     .                .  SequenceIdentity           True   \n",
       "\n",
       "  TfSource_Name                    TfSource_URL TfSource_Year TfSource_Month  \\\n",
       "0       Ensembl         http://www.ensembl.org/          2018            Dec   \n",
       "1       Ensembl         http://www.ensembl.org/          2018            Dec   \n",
       "2         Broad  http://www.broadinstitute.org/          2016            May   \n",
       "3         Broad  http://www.broadinstitute.org/          2016            May   \n",
       "4         Broad  http://www.broadinstitute.org/          2016            May   \n",
       "\n",
       "  TfSource_Day  \n",
       "0            8  \n",
       "1            8  \n",
       "2            1  \n",
       "3            1  \n",
       "4            1  \n",
       "\n",
       "[5 rows x 28 columns]"
      ]
     },
     "execution_count": 143,
     "metadata": {},
     "output_type": "execute_result"
    }
   ],
   "source": [
    "df_annotate.head()"
   ]
  },
  {
   "cell_type": "code",
   "execution_count": 144,
   "metadata": {},
   "outputs": [],
   "source": [
    "fhd_file = \"/s/jawar/p/nobackup/altsplice1/fahad/DeepLearning/Basset_Splicing_IR-iDiffIR/Analysis_For_none_network-typeB_lotus_posThresh-0.60/MEME_analysis/Homo_sapiens_2019_01_14_4_17_pm/TF_Information_all_motifs.txt\"\n",
    "df2_annotate = pd.read_csv(fhd_file, sep='\\t')"
   ]
  },
  {
   "cell_type": "code",
   "execution_count": 145,
   "metadata": {},
   "outputs": [
    {
     "data": {
      "text/html": [
       "<div>\n",
       "<style scoped>\n",
       "    .dataframe tbody tr th:only-of-type {\n",
       "        vertical-align: middle;\n",
       "    }\n",
       "\n",
       "    .dataframe tbody tr th {\n",
       "        vertical-align: top;\n",
       "    }\n",
       "\n",
       "    .dataframe thead th {\n",
       "        text-align: right;\n",
       "    }\n",
       "</style>\n",
       "<table border=\"1\" class=\"dataframe\">\n",
       "  <thead>\n",
       "    <tr style=\"text-align: right;\">\n",
       "      <th></th>\n",
       "      <th>TF_ID</th>\n",
       "      <th>Family_ID</th>\n",
       "      <th>TSource_ID</th>\n",
       "      <th>Motif_ID</th>\n",
       "      <th>MSource_ID</th>\n",
       "      <th>DBID</th>\n",
       "      <th>TF_Name</th>\n",
       "      <th>TF_Species</th>\n",
       "      <th>TF_Status</th>\n",
       "      <th>Family_Name</th>\n",
       "      <th>...</th>\n",
       "      <th>MSource_Type</th>\n",
       "      <th>MSource_Author</th>\n",
       "      <th>MSource_Year</th>\n",
       "      <th>PMID</th>\n",
       "      <th>MSource_Version</th>\n",
       "      <th>TfSource_Name</th>\n",
       "      <th>TfSource_URL</th>\n",
       "      <th>TfSource_Year</th>\n",
       "      <th>TfSource_Month</th>\n",
       "      <th>TfSource_Day</th>\n",
       "    </tr>\n",
       "  </thead>\n",
       "  <tbody>\n",
       "    <tr>\n",
       "      <th>0</th>\n",
       "      <td>T004843_1.02</td>\n",
       "      <td>F035_1.02</td>\n",
       "      <td>TS19_1.02</td>\n",
       "      <td>M2938_1.02</td>\n",
       "      <td>MS26_1.02</td>\n",
       "      <td>ENSG00000008196</td>\n",
       "      <td>TFAP2B</td>\n",
       "      <td>Homo_sapiens</td>\n",
       "      <td>D</td>\n",
       "      <td>AP-2</td>\n",
       "      <td>...</td>\n",
       "      <td>Transfac</td>\n",
       "      <td>Matys</td>\n",
       "      <td>2006</td>\n",
       "      <td>16381825</td>\n",
       "      <td>2014.2</td>\n",
       "      <td>Ensembl</td>\n",
       "      <td>http://www.ensembl.org/</td>\n",
       "      <td>2011</td>\n",
       "      <td>Oct</td>\n",
       "      <td>26</td>\n",
       "    </tr>\n",
       "    <tr>\n",
       "      <th>1</th>\n",
       "      <td>T004843_1.02</td>\n",
       "      <td>F035_1.02</td>\n",
       "      <td>TS19_1.02</td>\n",
       "      <td>M5917_1.02</td>\n",
       "      <td>MS20_1.02</td>\n",
       "      <td>ENSG00000008196</td>\n",
       "      <td>TFAP2B</td>\n",
       "      <td>Homo_sapiens</td>\n",
       "      <td>D</td>\n",
       "      <td>AP-2</td>\n",
       "      <td>...</td>\n",
       "      <td>SELEX</td>\n",
       "      <td>Jolma</td>\n",
       "      <td>2013</td>\n",
       "      <td>23332764</td>\n",
       "      <td>January 2013</td>\n",
       "      <td>Ensembl</td>\n",
       "      <td>http://www.ensembl.org/</td>\n",
       "      <td>2011</td>\n",
       "      <td>Oct</td>\n",
       "      <td>26</td>\n",
       "    </tr>\n",
       "    <tr>\n",
       "      <th>2</th>\n",
       "      <td>T004843_1.02</td>\n",
       "      <td>F035_1.02</td>\n",
       "      <td>TS19_1.02</td>\n",
       "      <td>M5918_1.02</td>\n",
       "      <td>MS20_1.02</td>\n",
       "      <td>ENSG00000008196</td>\n",
       "      <td>TFAP2B</td>\n",
       "      <td>Homo_sapiens</td>\n",
       "      <td>D</td>\n",
       "      <td>AP-2</td>\n",
       "      <td>...</td>\n",
       "      <td>SELEX</td>\n",
       "      <td>Jolma</td>\n",
       "      <td>2013</td>\n",
       "      <td>23332764</td>\n",
       "      <td>January 2013</td>\n",
       "      <td>Ensembl</td>\n",
       "      <td>http://www.ensembl.org/</td>\n",
       "      <td>2011</td>\n",
       "      <td>Oct</td>\n",
       "      <td>26</td>\n",
       "    </tr>\n",
       "    <tr>\n",
       "      <th>3</th>\n",
       "      <td>T004843_1.02</td>\n",
       "      <td>F035_1.02</td>\n",
       "      <td>TS19_1.02</td>\n",
       "      <td>M5919_1.02</td>\n",
       "      <td>MS20_1.02</td>\n",
       "      <td>ENSG00000008196</td>\n",
       "      <td>TFAP2B</td>\n",
       "      <td>Homo_sapiens</td>\n",
       "      <td>D</td>\n",
       "      <td>AP-2</td>\n",
       "      <td>...</td>\n",
       "      <td>SELEX</td>\n",
       "      <td>Jolma</td>\n",
       "      <td>2013</td>\n",
       "      <td>23332764</td>\n",
       "      <td>January 2013</td>\n",
       "      <td>Ensembl</td>\n",
       "      <td>http://www.ensembl.org/</td>\n",
       "      <td>2011</td>\n",
       "      <td>Oct</td>\n",
       "      <td>26</td>\n",
       "    </tr>\n",
       "    <tr>\n",
       "      <th>4</th>\n",
       "      <td>T004843_1.02</td>\n",
       "      <td>F035_1.02</td>\n",
       "      <td>TS19_1.02</td>\n",
       "      <td>M6144_1.02</td>\n",
       "      <td>MS18_1.02</td>\n",
       "      <td>ENSG00000008196</td>\n",
       "      <td>TFAP2B</td>\n",
       "      <td>Homo_sapiens</td>\n",
       "      <td>D</td>\n",
       "      <td>AP-2</td>\n",
       "      <td>...</td>\n",
       "      <td>HocoMoco</td>\n",
       "      <td>Kulakovskiy</td>\n",
       "      <td>2013</td>\n",
       "      <td>23175603</td>\n",
       "      <td>July 2014</td>\n",
       "      <td>Ensembl</td>\n",
       "      <td>http://www.ensembl.org/</td>\n",
       "      <td>2011</td>\n",
       "      <td>Oct</td>\n",
       "      <td>26</td>\n",
       "    </tr>\n",
       "  </tbody>\n",
       "</table>\n",
       "<p>5 rows × 26 columns</p>\n",
       "</div>"
      ],
      "text/plain": [
       "          TF_ID  Family_ID TSource_ID    Motif_ID MSource_ID             DBID  \\\n",
       "0  T004843_1.02  F035_1.02  TS19_1.02  M2938_1.02  MS26_1.02  ENSG00000008196   \n",
       "1  T004843_1.02  F035_1.02  TS19_1.02  M5917_1.02  MS20_1.02  ENSG00000008196   \n",
       "2  T004843_1.02  F035_1.02  TS19_1.02  M5918_1.02  MS20_1.02  ENSG00000008196   \n",
       "3  T004843_1.02  F035_1.02  TS19_1.02  M5919_1.02  MS20_1.02  ENSG00000008196   \n",
       "4  T004843_1.02  F035_1.02  TS19_1.02  M6144_1.02  MS18_1.02  ENSG00000008196   \n",
       "\n",
       "  TF_Name    TF_Species TF_Status Family_Name  ... MSource_Type  \\\n",
       "0  TFAP2B  Homo_sapiens         D        AP-2  ...     Transfac   \n",
       "1  TFAP2B  Homo_sapiens         D        AP-2  ...        SELEX   \n",
       "2  TFAP2B  Homo_sapiens         D        AP-2  ...        SELEX   \n",
       "3  TFAP2B  Homo_sapiens         D        AP-2  ...        SELEX   \n",
       "4  TFAP2B  Homo_sapiens         D        AP-2  ...     HocoMoco   \n",
       "\n",
       "   MSource_Author  MSource_Year      PMID MSource_Version TfSource_Name  \\\n",
       "0           Matys          2006  16381825          2014.2       Ensembl   \n",
       "1           Jolma          2013  23332764    January 2013       Ensembl   \n",
       "2           Jolma          2013  23332764    January 2013       Ensembl   \n",
       "3           Jolma          2013  23332764    January 2013       Ensembl   \n",
       "4     Kulakovskiy          2013  23175603       July 2014       Ensembl   \n",
       "\n",
       "              TfSource_URL TfSource_Year TfSource_Month TfSource_Day  \n",
       "0  http://www.ensembl.org/          2011            Oct           26  \n",
       "1  http://www.ensembl.org/          2011            Oct           26  \n",
       "2  http://www.ensembl.org/          2011            Oct           26  \n",
       "3  http://www.ensembl.org/          2011            Oct           26  \n",
       "4  http://www.ensembl.org/          2011            Oct           26  \n",
       "\n",
       "[5 rows x 26 columns]"
      ]
     },
     "execution_count": 145,
     "metadata": {},
     "output_type": "execute_result"
    }
   ],
   "source": [
    "df2_annotate.head()"
   ]
  },
  {
   "cell_type": "code",
   "execution_count": 12,
   "metadata": {},
   "outputs": [],
   "source": [
    "#df_annotate[df_annotate[\"TF_Name\"] == \"CTCF\"][df_annotate[\"TF_Species\"] == \"Homo_sapiens\"]"
   ]
  },
  {
   "cell_type": "code",
   "execution_count": 26,
   "metadata": {},
   "outputs": [
    {
     "data": {
      "text/html": [
       "<div>\n",
       "<style scoped>\n",
       "    .dataframe tbody tr th:only-of-type {\n",
       "        vertical-align: middle;\n",
       "    }\n",
       "\n",
       "    .dataframe tbody tr th {\n",
       "        vertical-align: top;\n",
       "    }\n",
       "\n",
       "    .dataframe thead th {\n",
       "        text-align: right;\n",
       "    }\n",
       "</style>\n",
       "<table border=\"1\" class=\"dataframe\">\n",
       "  <thead>\n",
       "    <tr style=\"text-align: right;\">\n",
       "      <th></th>\n",
       "      <th>TF_ID</th>\n",
       "      <th>Family_ID</th>\n",
       "      <th>TSource_ID</th>\n",
       "      <th>Motif_ID</th>\n",
       "      <th>MSource_ID</th>\n",
       "      <th>DBID</th>\n",
       "      <th>TF_Name</th>\n",
       "      <th>TF_Species</th>\n",
       "      <th>TF_Status</th>\n",
       "      <th>Family_Name</th>\n",
       "      <th>...</th>\n",
       "      <th>MSource_Type</th>\n",
       "      <th>MSource_Author</th>\n",
       "      <th>MSource_Year</th>\n",
       "      <th>PMID</th>\n",
       "      <th>MSource_Version</th>\n",
       "      <th>TfSource_Name</th>\n",
       "      <th>TfSource_URL</th>\n",
       "      <th>TfSource_Year</th>\n",
       "      <th>TfSource_Month</th>\n",
       "      <th>TfSource_Day</th>\n",
       "    </tr>\n",
       "  </thead>\n",
       "  <tbody>\n",
       "    <tr>\n",
       "      <th>1170</th>\n",
       "      <td>T044306_1.02</td>\n",
       "      <td>F115_1.02</td>\n",
       "      <td>TS19_1.02</td>\n",
       "      <td>M4459_1.02</td>\n",
       "      <td>MS13_1.02</td>\n",
       "      <td>ENSG00000120738</td>\n",
       "      <td>EGR1</td>\n",
       "      <td>Homo_sapiens</td>\n",
       "      <td>D</td>\n",
       "      <td>C2H2 ZF</td>\n",
       "      <td>...</td>\n",
       "      <td>ChIP-seq</td>\n",
       "      <td>Gerstein</td>\n",
       "      <td>2012</td>\n",
       "      <td>22955619</td>\n",
       "      <td>January 2011</td>\n",
       "      <td>Ensembl</td>\n",
       "      <td>http://www.ensembl.org/</td>\n",
       "      <td>2011</td>\n",
       "      <td>Oct</td>\n",
       "      <td>26</td>\n",
       "    </tr>\n",
       "  </tbody>\n",
       "</table>\n",
       "<p>1 rows × 26 columns</p>\n",
       "</div>"
      ],
      "text/plain": [
       "             TF_ID  Family_ID TSource_ID    Motif_ID MSource_ID  \\\n",
       "1170  T044306_1.02  F115_1.02  TS19_1.02  M4459_1.02  MS13_1.02   \n",
       "\n",
       "                 DBID TF_Name    TF_Species TF_Status Family_Name  ...  \\\n",
       "1170  ENSG00000120738    EGR1  Homo_sapiens         D     C2H2 ZF  ...   \n",
       "\n",
       "     MSource_Type  MSource_Author  MSource_Year      PMID MSource_Version  \\\n",
       "1170     ChIP-seq        Gerstein          2012  22955619    January 2011   \n",
       "\n",
       "     TfSource_Name             TfSource_URL TfSource_Year TfSource_Month  \\\n",
       "1170       Ensembl  http://www.ensembl.org/          2011            Oct   \n",
       "\n",
       "     TfSource_Day  \n",
       "1170           26  \n",
       "\n",
       "[1 rows x 26 columns]"
      ]
     },
     "execution_count": 26,
     "metadata": {},
     "output_type": "execute_result"
    }
   ],
   "source": [
    "df2_annotate[df2_annotate[\"Motif_ID\"] == \"M4459_1.02\"]\n"
   ]
  },
  {
   "cell_type": "markdown",
   "metadata": {},
   "source": [
    "### Annotate the interacting motifs"
   ]
  },
  {
   "cell_type": "code",
   "execution_count": 110,
   "metadata": {},
   "outputs": [],
   "source": [
    "df['TF1'] = df['motif1'].apply(get_annotation, annotation_data=df2_annotate, single_TF=True)\n",
    "df['TF2'] = df['motif2'].apply(get_annotation, annotation_data=df2_annotate, single_TF=True)"
   ]
  },
  {
   "cell_type": "code",
   "execution_count": 111,
   "metadata": {
    "scrolled": true
   },
   "outputs": [
    {
     "data": {
      "text/html": [
       "<div>\n",
       "<style scoped>\n",
       "    .dataframe tbody tr th:only-of-type {\n",
       "        vertical-align: middle;\n",
       "    }\n",
       "\n",
       "    .dataframe tbody tr th {\n",
       "        vertical-align: top;\n",
       "    }\n",
       "\n",
       "    .dataframe thead th {\n",
       "        text-align: right;\n",
       "    }\n",
       "</style>\n",
       "<table border=\"1\" class=\"dataframe\">\n",
       "  <thead>\n",
       "    <tr style=\"text-align: right;\">\n",
       "      <th></th>\n",
       "      <th>filter_interaction</th>\n",
       "      <th>example_no</th>\n",
       "      <th>motif1</th>\n",
       "      <th>motif1_qval</th>\n",
       "      <th>motif2</th>\n",
       "      <th>motif2_qval</th>\n",
       "      <th>mean_distance</th>\n",
       "      <th>mean_distance_bg</th>\n",
       "      <th>num_obs</th>\n",
       "      <th>num_obs_bg</th>\n",
       "      <th>pval</th>\n",
       "      <th>adjusted_pval</th>\n",
       "      <th>TF1</th>\n",
       "      <th>TF2</th>\n",
       "    </tr>\n",
       "  </thead>\n",
       "  <tbody>\n",
       "    <tr>\n",
       "      <th>681</th>\n",
       "      <td>filter8&lt;--&gt;filter44</td>\n",
       "      <td>1599</td>\n",
       "      <td>M0891_1.02</td>\n",
       "      <td>0.016848</td>\n",
       "      <td>M6442_1.02</td>\n",
       "      <td>0.007496</td>\n",
       "      <td>120.0</td>\n",
       "      <td>240.0</td>\n",
       "      <td>184.0</td>\n",
       "      <td>197.0</td>\n",
       "      <td>1.543904e-04</td>\n",
       "      <td>0.037917</td>\n",
       "      <td>TLX2</td>\n",
       "      <td>PURA</td>\n",
       "    </tr>\n",
       "    <tr>\n",
       "      <th>1121</th>\n",
       "      <td>filter22&lt;--&gt;filter44</td>\n",
       "      <td>4168</td>\n",
       "      <td>M0942_1.02</td>\n",
       "      <td>0.002521</td>\n",
       "      <td>M6442_1.02</td>\n",
       "      <td>0.007496</td>\n",
       "      <td>36.0</td>\n",
       "      <td>198.0</td>\n",
       "      <td>293.0</td>\n",
       "      <td>181.0</td>\n",
       "      <td>2.482934e-08</td>\n",
       "      <td>0.000044</td>\n",
       "      <td>IRX4</td>\n",
       "      <td>PURA</td>\n",
       "    </tr>\n",
       "    <tr>\n",
       "      <th>2077</th>\n",
       "      <td>filter44&lt;--&gt;filter54</td>\n",
       "      <td>7819</td>\n",
       "      <td>M6442_1.02</td>\n",
       "      <td>0.007496</td>\n",
       "      <td>M0891_1.02</td>\n",
       "      <td>0.006606</td>\n",
       "      <td>42.0</td>\n",
       "      <td>474.0</td>\n",
       "      <td>176.0</td>\n",
       "      <td>198.0</td>\n",
       "      <td>3.068973e-06</td>\n",
       "      <td>0.001744</td>\n",
       "      <td>PURA</td>\n",
       "      <td>TLX2</td>\n",
       "    </tr>\n",
       "    <tr>\n",
       "      <th>2082</th>\n",
       "      <td>filter44&lt;--&gt;filter62</td>\n",
       "      <td>7827</td>\n",
       "      <td>M6442_1.02</td>\n",
       "      <td>0.007496</td>\n",
       "      <td>M0942_1.02</td>\n",
       "      <td>0.016708</td>\n",
       "      <td>174.0</td>\n",
       "      <td>30.0</td>\n",
       "      <td>256.0</td>\n",
       "      <td>224.0</td>\n",
       "      <td>1.006981e-06</td>\n",
       "      <td>0.000770</td>\n",
       "      <td>PURA</td>\n",
       "      <td>IRX4</td>\n",
       "    </tr>\n",
       "    <tr>\n",
       "      <th>2086</th>\n",
       "      <td>filter44&lt;--&gt;filter70</td>\n",
       "      <td>7835</td>\n",
       "      <td>M6442_1.02</td>\n",
       "      <td>0.007496</td>\n",
       "      <td>M4459_1.02</td>\n",
       "      <td>0.000340</td>\n",
       "      <td>294.0</td>\n",
       "      <td>198.0</td>\n",
       "      <td>291.0</td>\n",
       "      <td>149.0</td>\n",
       "      <td>1.389106e-08</td>\n",
       "      <td>0.000031</td>\n",
       "      <td>PURA</td>\n",
       "      <td>EGR1</td>\n",
       "    </tr>\n",
       "  </tbody>\n",
       "</table>\n",
       "</div>"
      ],
      "text/plain": [
       "        filter_interaction  example_no      motif1  motif1_qval      motif2  \\\n",
       "681    filter8<-->filter44        1599  M0891_1.02     0.016848  M6442_1.02   \n",
       "1121  filter22<-->filter44        4168  M0942_1.02     0.002521  M6442_1.02   \n",
       "2077  filter44<-->filter54        7819  M6442_1.02     0.007496  M0891_1.02   \n",
       "2082  filter44<-->filter62        7827  M6442_1.02     0.007496  M0942_1.02   \n",
       "2086  filter44<-->filter70        7835  M6442_1.02     0.007496  M4459_1.02   \n",
       "\n",
       "      motif2_qval  mean_distance  mean_distance_bg  num_obs  num_obs_bg  \\\n",
       "681      0.007496          120.0             240.0    184.0       197.0   \n",
       "1121     0.007496           36.0             198.0    293.0       181.0   \n",
       "2077     0.006606           42.0             474.0    176.0       198.0   \n",
       "2082     0.016708          174.0              30.0    256.0       224.0   \n",
       "2086     0.000340          294.0             198.0    291.0       149.0   \n",
       "\n",
       "              pval  adjusted_pval   TF1   TF2  \n",
       "681   1.543904e-04       0.037917  TLX2  PURA  \n",
       "1121  2.482934e-08       0.000044  IRX4  PURA  \n",
       "2077  3.068973e-06       0.001744  PURA  TLX2  \n",
       "2082  1.006981e-06       0.000770  PURA  IRX4  \n",
       "2086  1.389106e-08       0.000031  PURA  EGR1  "
      ]
     },
     "execution_count": 111,
     "metadata": {},
     "output_type": "execute_result"
    }
   ],
   "source": [
    "df.head()"
   ]
  },
  {
   "cell_type": "code",
   "execution_count": 112,
   "metadata": {},
   "outputs": [],
   "source": [
    "df['TF_Interaction'] = df.apply(lambda x: x['TF1']+r'$\\longleftrightarrow$'+x['TF2'], axis=1)"
   ]
  },
  {
   "cell_type": "markdown",
   "metadata": {},
   "source": [
    "### Drop same motif interactions"
   ]
  },
  {
   "cell_type": "code",
   "execution_count": 113,
   "metadata": {},
   "outputs": [],
   "source": [
    "df = df[df['TF1']!=df['TF2']]"
   ]
  },
  {
   "cell_type": "code",
   "execution_count": 114,
   "metadata": {},
   "outputs": [
    {
     "data": {
      "text/plain": [
       "(19, 15)"
      ]
     },
     "execution_count": 114,
     "metadata": {},
     "output_type": "execute_result"
    }
   ],
   "source": [
    "df.shape"
   ]
  },
  {
   "cell_type": "code",
   "execution_count": 115,
   "metadata": {},
   "outputs": [],
   "source": [
    "df = df.reset_index(drop=True)"
   ]
  },
  {
   "cell_type": "markdown",
   "metadata": {},
   "source": [
    "### Fix redundant interaction pairs"
   ]
  },
  {
   "cell_type": "code",
   "execution_count": 116,
   "metadata": {},
   "outputs": [],
   "source": [
    "df = process_for_redundant_interactions(df, intr_type='TF')"
   ]
  },
  {
   "cell_type": "code",
   "execution_count": 117,
   "metadata": {},
   "outputs": [
    {
     "data": {
      "text/html": [
       "<div>\n",
       "<style scoped>\n",
       "    .dataframe tbody tr th:only-of-type {\n",
       "        vertical-align: middle;\n",
       "    }\n",
       "\n",
       "    .dataframe tbody tr th {\n",
       "        vertical-align: top;\n",
       "    }\n",
       "\n",
       "    .dataframe thead th {\n",
       "        text-align: right;\n",
       "    }\n",
       "</style>\n",
       "<table border=\"1\" class=\"dataframe\">\n",
       "  <thead>\n",
       "    <tr style=\"text-align: right;\">\n",
       "      <th></th>\n",
       "      <th>filter_interaction</th>\n",
       "      <th>example_no</th>\n",
       "      <th>motif1</th>\n",
       "      <th>motif1_qval</th>\n",
       "      <th>motif2</th>\n",
       "      <th>motif2_qval</th>\n",
       "      <th>mean_distance</th>\n",
       "      <th>mean_distance_bg</th>\n",
       "      <th>num_obs</th>\n",
       "      <th>num_obs_bg</th>\n",
       "      <th>pval</th>\n",
       "      <th>adjusted_pval</th>\n",
       "      <th>TF1</th>\n",
       "      <th>TF2</th>\n",
       "      <th>TF_Interaction</th>\n",
       "    </tr>\n",
       "  </thead>\n",
       "  <tbody>\n",
       "    <tr>\n",
       "      <th>0</th>\n",
       "      <td>filter8&lt;--&gt;filter44</td>\n",
       "      <td>1599</td>\n",
       "      <td>M0891_1.02</td>\n",
       "      <td>0.016848</td>\n",
       "      <td>M6442_1.02</td>\n",
       "      <td>0.007496</td>\n",
       "      <td>120.0</td>\n",
       "      <td>240.0</td>\n",
       "      <td>184.0</td>\n",
       "      <td>197.0</td>\n",
       "      <td>1.543904e-04</td>\n",
       "      <td>0.037917</td>\n",
       "      <td>TLX2</td>\n",
       "      <td>PURA</td>\n",
       "      <td>TLX2$\\longleftrightarrow$PURA</td>\n",
       "    </tr>\n",
       "    <tr>\n",
       "      <th>1</th>\n",
       "      <td>filter22&lt;--&gt;filter44</td>\n",
       "      <td>4168</td>\n",
       "      <td>M0942_1.02</td>\n",
       "      <td>0.002521</td>\n",
       "      <td>M6442_1.02</td>\n",
       "      <td>0.007496</td>\n",
       "      <td>36.0</td>\n",
       "      <td>198.0</td>\n",
       "      <td>293.0</td>\n",
       "      <td>181.0</td>\n",
       "      <td>2.482934e-08</td>\n",
       "      <td>0.000044</td>\n",
       "      <td>IRX4</td>\n",
       "      <td>PURA</td>\n",
       "      <td>IRX4$\\longleftrightarrow$PURA</td>\n",
       "    </tr>\n",
       "    <tr>\n",
       "      <th>2</th>\n",
       "      <td>filter44&lt;--&gt;filter54</td>\n",
       "      <td>7819</td>\n",
       "      <td>M6442_1.02</td>\n",
       "      <td>0.007496</td>\n",
       "      <td>M0891_1.02</td>\n",
       "      <td>0.006606</td>\n",
       "      <td>42.0</td>\n",
       "      <td>474.0</td>\n",
       "      <td>176.0</td>\n",
       "      <td>198.0</td>\n",
       "      <td>3.068973e-06</td>\n",
       "      <td>0.001744</td>\n",
       "      <td>PURA</td>\n",
       "      <td>TLX2</td>\n",
       "      <td>TLX2$\\longleftrightarrow$PURA</td>\n",
       "    </tr>\n",
       "    <tr>\n",
       "      <th>3</th>\n",
       "      <td>filter44&lt;--&gt;filter62</td>\n",
       "      <td>7827</td>\n",
       "      <td>M6442_1.02</td>\n",
       "      <td>0.007496</td>\n",
       "      <td>M0942_1.02</td>\n",
       "      <td>0.016708</td>\n",
       "      <td>174.0</td>\n",
       "      <td>30.0</td>\n",
       "      <td>256.0</td>\n",
       "      <td>224.0</td>\n",
       "      <td>1.006981e-06</td>\n",
       "      <td>0.000770</td>\n",
       "      <td>PURA</td>\n",
       "      <td>IRX4</td>\n",
       "      <td>IRX4$\\longleftrightarrow$PURA</td>\n",
       "    </tr>\n",
       "    <tr>\n",
       "      <th>4</th>\n",
       "      <td>filter44&lt;--&gt;filter70</td>\n",
       "      <td>7835</td>\n",
       "      <td>M6442_1.02</td>\n",
       "      <td>0.007496</td>\n",
       "      <td>M4459_1.02</td>\n",
       "      <td>0.000340</td>\n",
       "      <td>294.0</td>\n",
       "      <td>198.0</td>\n",
       "      <td>291.0</td>\n",
       "      <td>149.0</td>\n",
       "      <td>1.389106e-08</td>\n",
       "      <td>0.000031</td>\n",
       "      <td>PURA</td>\n",
       "      <td>EGR1</td>\n",
       "      <td>PURA$\\longleftrightarrow$EGR1</td>\n",
       "    </tr>\n",
       "  </tbody>\n",
       "</table>\n",
       "</div>"
      ],
      "text/plain": [
       "     filter_interaction  example_no      motif1  motif1_qval      motif2  \\\n",
       "0   filter8<-->filter44        1599  M0891_1.02     0.016848  M6442_1.02   \n",
       "1  filter22<-->filter44        4168  M0942_1.02     0.002521  M6442_1.02   \n",
       "2  filter44<-->filter54        7819  M6442_1.02     0.007496  M0891_1.02   \n",
       "3  filter44<-->filter62        7827  M6442_1.02     0.007496  M0942_1.02   \n",
       "4  filter44<-->filter70        7835  M6442_1.02     0.007496  M4459_1.02   \n",
       "\n",
       "   motif2_qval  mean_distance  mean_distance_bg  num_obs  num_obs_bg  \\\n",
       "0     0.007496          120.0             240.0    184.0       197.0   \n",
       "1     0.007496           36.0             198.0    293.0       181.0   \n",
       "2     0.006606           42.0             474.0    176.0       198.0   \n",
       "3     0.016708          174.0              30.0    256.0       224.0   \n",
       "4     0.000340          294.0             198.0    291.0       149.0   \n",
       "\n",
       "           pval  adjusted_pval   TF1   TF2                 TF_Interaction  \n",
       "0  1.543904e-04       0.037917  TLX2  PURA  TLX2$\\longleftrightarrow$PURA  \n",
       "1  2.482934e-08       0.000044  IRX4  PURA  IRX4$\\longleftrightarrow$PURA  \n",
       "2  3.068973e-06       0.001744  PURA  TLX2  TLX2$\\longleftrightarrow$PURA  \n",
       "3  1.006981e-06       0.000770  PURA  IRX4  IRX4$\\longleftrightarrow$PURA  \n",
       "4  1.389106e-08       0.000031  PURA  EGR1  PURA$\\longleftrightarrow$EGR1  "
      ]
     },
     "execution_count": 117,
     "metadata": {},
     "output_type": "execute_result"
    }
   ],
   "source": [
    "df.head()"
   ]
  },
  {
   "cell_type": "code",
   "execution_count": 118,
   "metadata": {},
   "outputs": [
    {
     "data": {
      "text/plain": [
       "(19, 15)"
      ]
     },
     "execution_count": 118,
     "metadata": {},
     "output_type": "execute_result"
    }
   ],
   "source": [
    "df.shape"
   ]
  },
  {
   "cell_type": "markdown",
   "metadata": {},
   "source": [
    "## Most Frequent TF Family Interactions"
   ]
  },
  {
   "cell_type": "code",
   "execution_count": 119,
   "metadata": {},
   "outputs": [],
   "source": [
    "tf_family_dict = {}\n",
    "for TF in df2_annotate['TF_Name']:\n",
    "    tf_family_dict[TF] = df2_annotate[df2_annotate['TF_Name']==TF]['Family_Name'].iloc[0]\n",
    "df['TF1_Family'] = df['TF1'].apply(lambda x: tf_family_dict[x] if x in tf_family_dict else 'UNKNOWN')\n",
    "df['TF2_Family'] = df['TF2'].apply(lambda x: tf_family_dict[x] if x in tf_family_dict else 'UNKNOWN')"
   ]
  },
  {
   "cell_type": "code",
   "execution_count": 120,
   "metadata": {},
   "outputs": [],
   "source": [
    "df['Family_Interaction'] = df.apply(lambda x: x['TF1_Family']+r'$\\longleftrightarrow$'+x['TF2_Family'],axis=1)"
   ]
  },
  {
   "cell_type": "code",
   "execution_count": 121,
   "metadata": {},
   "outputs": [],
   "source": [
    "df = process_for_redundant_interactions(df, intr_type='Family')"
   ]
  },
  {
   "cell_type": "code",
   "execution_count": 122,
   "metadata": {},
   "outputs": [
    {
     "data": {
      "text/html": [
       "<div>\n",
       "<style scoped>\n",
       "    .dataframe tbody tr th:only-of-type {\n",
       "        vertical-align: middle;\n",
       "    }\n",
       "\n",
       "    .dataframe tbody tr th {\n",
       "        vertical-align: top;\n",
       "    }\n",
       "\n",
       "    .dataframe thead th {\n",
       "        text-align: right;\n",
       "    }\n",
       "</style>\n",
       "<table border=\"1\" class=\"dataframe\">\n",
       "  <thead>\n",
       "    <tr style=\"text-align: right;\">\n",
       "      <th></th>\n",
       "      <th>filter_interaction</th>\n",
       "      <th>example_no</th>\n",
       "      <th>motif1</th>\n",
       "      <th>motif1_qval</th>\n",
       "      <th>motif2</th>\n",
       "      <th>motif2_qval</th>\n",
       "      <th>mean_distance</th>\n",
       "      <th>mean_distance_bg</th>\n",
       "      <th>num_obs</th>\n",
       "      <th>num_obs_bg</th>\n",
       "      <th>pval</th>\n",
       "      <th>adjusted_pval</th>\n",
       "      <th>TF1</th>\n",
       "      <th>TF2</th>\n",
       "      <th>TF_Interaction</th>\n",
       "      <th>TF1_Family</th>\n",
       "      <th>TF2_Family</th>\n",
       "      <th>Family_Interaction</th>\n",
       "    </tr>\n",
       "  </thead>\n",
       "  <tbody>\n",
       "    <tr>\n",
       "      <th>0</th>\n",
       "      <td>filter8&lt;--&gt;filter44</td>\n",
       "      <td>1599</td>\n",
       "      <td>M0891_1.02</td>\n",
       "      <td>0.016848</td>\n",
       "      <td>M6442_1.02</td>\n",
       "      <td>0.007496</td>\n",
       "      <td>120.0</td>\n",
       "      <td>240.0</td>\n",
       "      <td>184.0</td>\n",
       "      <td>197.0</td>\n",
       "      <td>1.543904e-04</td>\n",
       "      <td>0.037917</td>\n",
       "      <td>TLX2</td>\n",
       "      <td>PURA</td>\n",
       "      <td>TLX2$\\longleftrightarrow$PURA</td>\n",
       "      <td>Homeodomain</td>\n",
       "      <td>Unknown</td>\n",
       "      <td>Homeodomain$\\longleftrightarrow$Unknown</td>\n",
       "    </tr>\n",
       "    <tr>\n",
       "      <th>1</th>\n",
       "      <td>filter22&lt;--&gt;filter44</td>\n",
       "      <td>4168</td>\n",
       "      <td>M0942_1.02</td>\n",
       "      <td>0.002521</td>\n",
       "      <td>M6442_1.02</td>\n",
       "      <td>0.007496</td>\n",
       "      <td>36.0</td>\n",
       "      <td>198.0</td>\n",
       "      <td>293.0</td>\n",
       "      <td>181.0</td>\n",
       "      <td>2.482934e-08</td>\n",
       "      <td>0.000044</td>\n",
       "      <td>IRX4</td>\n",
       "      <td>PURA</td>\n",
       "      <td>IRX4$\\longleftrightarrow$PURA</td>\n",
       "      <td>Homeodomain</td>\n",
       "      <td>Unknown</td>\n",
       "      <td>Homeodomain$\\longleftrightarrow$Unknown</td>\n",
       "    </tr>\n",
       "    <tr>\n",
       "      <th>2</th>\n",
       "      <td>filter44&lt;--&gt;filter54</td>\n",
       "      <td>7819</td>\n",
       "      <td>M6442_1.02</td>\n",
       "      <td>0.007496</td>\n",
       "      <td>M0891_1.02</td>\n",
       "      <td>0.006606</td>\n",
       "      <td>42.0</td>\n",
       "      <td>474.0</td>\n",
       "      <td>176.0</td>\n",
       "      <td>198.0</td>\n",
       "      <td>3.068973e-06</td>\n",
       "      <td>0.001744</td>\n",
       "      <td>PURA</td>\n",
       "      <td>TLX2</td>\n",
       "      <td>TLX2$\\longleftrightarrow$PURA</td>\n",
       "      <td>Unknown</td>\n",
       "      <td>Homeodomain</td>\n",
       "      <td>Homeodomain$\\longleftrightarrow$Unknown</td>\n",
       "    </tr>\n",
       "    <tr>\n",
       "      <th>3</th>\n",
       "      <td>filter44&lt;--&gt;filter62</td>\n",
       "      <td>7827</td>\n",
       "      <td>M6442_1.02</td>\n",
       "      <td>0.007496</td>\n",
       "      <td>M0942_1.02</td>\n",
       "      <td>0.016708</td>\n",
       "      <td>174.0</td>\n",
       "      <td>30.0</td>\n",
       "      <td>256.0</td>\n",
       "      <td>224.0</td>\n",
       "      <td>1.006981e-06</td>\n",
       "      <td>0.000770</td>\n",
       "      <td>PURA</td>\n",
       "      <td>IRX4</td>\n",
       "      <td>IRX4$\\longleftrightarrow$PURA</td>\n",
       "      <td>Unknown</td>\n",
       "      <td>Homeodomain</td>\n",
       "      <td>Homeodomain$\\longleftrightarrow$Unknown</td>\n",
       "    </tr>\n",
       "    <tr>\n",
       "      <th>4</th>\n",
       "      <td>filter44&lt;--&gt;filter70</td>\n",
       "      <td>7835</td>\n",
       "      <td>M6442_1.02</td>\n",
       "      <td>0.007496</td>\n",
       "      <td>M4459_1.02</td>\n",
       "      <td>0.000340</td>\n",
       "      <td>294.0</td>\n",
       "      <td>198.0</td>\n",
       "      <td>291.0</td>\n",
       "      <td>149.0</td>\n",
       "      <td>1.389106e-08</td>\n",
       "      <td>0.000031</td>\n",
       "      <td>PURA</td>\n",
       "      <td>EGR1</td>\n",
       "      <td>PURA$\\longleftrightarrow$EGR1</td>\n",
       "      <td>Unknown</td>\n",
       "      <td>C2H2 ZF</td>\n",
       "      <td>Unknown$\\longleftrightarrow$C2H2 ZF</td>\n",
       "    </tr>\n",
       "  </tbody>\n",
       "</table>\n",
       "</div>"
      ],
      "text/plain": [
       "     filter_interaction  example_no      motif1  motif1_qval      motif2  \\\n",
       "0   filter8<-->filter44        1599  M0891_1.02     0.016848  M6442_1.02   \n",
       "1  filter22<-->filter44        4168  M0942_1.02     0.002521  M6442_1.02   \n",
       "2  filter44<-->filter54        7819  M6442_1.02     0.007496  M0891_1.02   \n",
       "3  filter44<-->filter62        7827  M6442_1.02     0.007496  M0942_1.02   \n",
       "4  filter44<-->filter70        7835  M6442_1.02     0.007496  M4459_1.02   \n",
       "\n",
       "   motif2_qval  mean_distance  mean_distance_bg  num_obs  num_obs_bg  \\\n",
       "0     0.007496          120.0             240.0    184.0       197.0   \n",
       "1     0.007496           36.0             198.0    293.0       181.0   \n",
       "2     0.006606           42.0             474.0    176.0       198.0   \n",
       "3     0.016708          174.0              30.0    256.0       224.0   \n",
       "4     0.000340          294.0             198.0    291.0       149.0   \n",
       "\n",
       "           pval  adjusted_pval   TF1   TF2                 TF_Interaction  \\\n",
       "0  1.543904e-04       0.037917  TLX2  PURA  TLX2$\\longleftrightarrow$PURA   \n",
       "1  2.482934e-08       0.000044  IRX4  PURA  IRX4$\\longleftrightarrow$PURA   \n",
       "2  3.068973e-06       0.001744  PURA  TLX2  TLX2$\\longleftrightarrow$PURA   \n",
       "3  1.006981e-06       0.000770  PURA  IRX4  IRX4$\\longleftrightarrow$PURA   \n",
       "4  1.389106e-08       0.000031  PURA  EGR1  PURA$\\longleftrightarrow$EGR1   \n",
       "\n",
       "    TF1_Family   TF2_Family                       Family_Interaction  \n",
       "0  Homeodomain      Unknown  Homeodomain$\\longleftrightarrow$Unknown  \n",
       "1  Homeodomain      Unknown  Homeodomain$\\longleftrightarrow$Unknown  \n",
       "2      Unknown  Homeodomain  Homeodomain$\\longleftrightarrow$Unknown  \n",
       "3      Unknown  Homeodomain  Homeodomain$\\longleftrightarrow$Unknown  \n",
       "4      Unknown      C2H2 ZF      Unknown$\\longleftrightarrow$C2H2 ZF  "
      ]
     },
     "execution_count": 122,
     "metadata": {},
     "output_type": "execute_result"
    }
   ],
   "source": [
    "df.head()"
   ]
  },
  {
   "cell_type": "code",
   "execution_count": 91,
   "metadata": {},
   "outputs": [],
   "source": [
    "df['filter_interaction'] = df['filter_interaction'].apply(lambda x: x.replace('<-->',r'$\\longleftrightarrow$'))"
   ]
  },
  {
   "cell_type": "code",
   "execution_count": 92,
   "metadata": {},
   "outputs": [
    {
     "data": {
      "text/html": [
       "<div>\n",
       "<style scoped>\n",
       "    .dataframe tbody tr th:only-of-type {\n",
       "        vertical-align: middle;\n",
       "    }\n",
       "\n",
       "    .dataframe tbody tr th {\n",
       "        vertical-align: top;\n",
       "    }\n",
       "\n",
       "    .dataframe thead th {\n",
       "        text-align: right;\n",
       "    }\n",
       "</style>\n",
       "<table border=\"1\" class=\"dataframe\">\n",
       "  <thead>\n",
       "    <tr style=\"text-align: right;\">\n",
       "      <th></th>\n",
       "      <th>filter_interaction</th>\n",
       "      <th>example_no</th>\n",
       "      <th>motif1</th>\n",
       "      <th>motif1_qval</th>\n",
       "      <th>motif2</th>\n",
       "      <th>motif2_qval</th>\n",
       "      <th>mean_distance</th>\n",
       "      <th>mean_distance_bg</th>\n",
       "      <th>num_obs</th>\n",
       "      <th>num_obs_bg</th>\n",
       "      <th>pval</th>\n",
       "      <th>adjusted_pval</th>\n",
       "      <th>TF1</th>\n",
       "      <th>TF2</th>\n",
       "      <th>TF_Interaction</th>\n",
       "      <th>TF1_Family</th>\n",
       "      <th>TF2_Family</th>\n",
       "      <th>Family_Interaction</th>\n",
       "    </tr>\n",
       "  </thead>\n",
       "  <tbody>\n",
       "    <tr>\n",
       "      <th>0</th>\n",
       "      <td>filter2$\\longleftrightarrow$filter67</td>\n",
       "      <td>461</td>\n",
       "      <td>M0891_1.02</td>\n",
       "      <td>0.000938</td>\n",
       "      <td>M0609_1.02</td>\n",
       "      <td>0.018144</td>\n",
       "      <td>36.0</td>\n",
       "      <td>198.0</td>\n",
       "      <td>342.0</td>\n",
       "      <td>282.0</td>\n",
       "      <td>5.082589e-04</td>\n",
       "      <td>0.040736</td>\n",
       "      <td>TLX2</td>\n",
       "      <td>DNMT1</td>\n",
       "      <td>TLX2$\\longleftrightarrow$DNMT1</td>\n",
       "      <td>Homeodomain</td>\n",
       "      <td>CxxC</td>\n",
       "      <td>Homeodomain$\\longleftrightarrow$CxxC</td>\n",
       "    </tr>\n",
       "    <tr>\n",
       "      <th>1</th>\n",
       "      <td>filter7$\\longleftrightarrow$filter14</td>\n",
       "      <td>1378</td>\n",
       "      <td>M6483_1.02</td>\n",
       "      <td>0.000131</td>\n",
       "      <td>M6482_1.02</td>\n",
       "      <td>0.010460</td>\n",
       "      <td>6.0</td>\n",
       "      <td>42.0</td>\n",
       "      <td>328.0</td>\n",
       "      <td>135.0</td>\n",
       "      <td>2.288124e-04</td>\n",
       "      <td>0.021828</td>\n",
       "      <td>SP4</td>\n",
       "      <td>SP7</td>\n",
       "      <td>SP4$\\longleftrightarrow$SP7</td>\n",
       "      <td>C2H2 ZF</td>\n",
       "      <td>C2H2 ZF</td>\n",
       "      <td>C2H2 ZF$\\longleftrightarrow$C2H2 ZF</td>\n",
       "    </tr>\n",
       "    <tr>\n",
       "      <th>2</th>\n",
       "      <td>filter7$\\longleftrightarrow$filter15</td>\n",
       "      <td>1379</td>\n",
       "      <td>M6483_1.02</td>\n",
       "      <td>0.000131</td>\n",
       "      <td>M0609_1.02</td>\n",
       "      <td>0.011875</td>\n",
       "      <td>102.0</td>\n",
       "      <td>78.0</td>\n",
       "      <td>354.0</td>\n",
       "      <td>163.0</td>\n",
       "      <td>3.372806e-07</td>\n",
       "      <td>0.000137</td>\n",
       "      <td>SP4</td>\n",
       "      <td>DNMT1</td>\n",
       "      <td>SP4$\\longleftrightarrow$DNMT1</td>\n",
       "      <td>C2H2 ZF</td>\n",
       "      <td>CxxC</td>\n",
       "      <td>C2H2 ZF$\\longleftrightarrow$CxxC</td>\n",
       "    </tr>\n",
       "    <tr>\n",
       "      <th>3</th>\n",
       "      <td>filter7$\\longleftrightarrow$filter27</td>\n",
       "      <td>1391</td>\n",
       "      <td>M6483_1.02</td>\n",
       "      <td>0.000131</td>\n",
       "      <td>M0609_1.02</td>\n",
       "      <td>0.039545</td>\n",
       "      <td>102.0</td>\n",
       "      <td>384.0</td>\n",
       "      <td>379.0</td>\n",
       "      <td>175.0</td>\n",
       "      <td>1.422019e-07</td>\n",
       "      <td>0.000071</td>\n",
       "      <td>SP4</td>\n",
       "      <td>DNMT1</td>\n",
       "      <td>SP4$\\longleftrightarrow$DNMT1</td>\n",
       "      <td>C2H2 ZF</td>\n",
       "      <td>CxxC</td>\n",
       "      <td>C2H2 ZF$\\longleftrightarrow$CxxC</td>\n",
       "    </tr>\n",
       "    <tr>\n",
       "      <th>4</th>\n",
       "      <td>filter7$\\longleftrightarrow$filter40</td>\n",
       "      <td>1404</td>\n",
       "      <td>M6483_1.02</td>\n",
       "      <td>0.000131</td>\n",
       "      <td>M0609_1.02</td>\n",
       "      <td>0.004897</td>\n",
       "      <td>138.0</td>\n",
       "      <td>480.0</td>\n",
       "      <td>282.0</td>\n",
       "      <td>117.0</td>\n",
       "      <td>2.890278e-05</td>\n",
       "      <td>0.004522</td>\n",
       "      <td>SP4</td>\n",
       "      <td>DNMT1</td>\n",
       "      <td>SP4$\\longleftrightarrow$DNMT1</td>\n",
       "      <td>C2H2 ZF</td>\n",
       "      <td>CxxC</td>\n",
       "      <td>C2H2 ZF$\\longleftrightarrow$CxxC</td>\n",
       "    </tr>\n",
       "  </tbody>\n",
       "</table>\n",
       "</div>"
      ],
      "text/plain": [
       "                     filter_interaction  example_no      motif1  motif1_qval  \\\n",
       "0  filter2$\\longleftrightarrow$filter67         461  M0891_1.02     0.000938   \n",
       "1  filter7$\\longleftrightarrow$filter14        1378  M6483_1.02     0.000131   \n",
       "2  filter7$\\longleftrightarrow$filter15        1379  M6483_1.02     0.000131   \n",
       "3  filter7$\\longleftrightarrow$filter27        1391  M6483_1.02     0.000131   \n",
       "4  filter7$\\longleftrightarrow$filter40        1404  M6483_1.02     0.000131   \n",
       "\n",
       "       motif2  motif2_qval  mean_distance  mean_distance_bg  num_obs  \\\n",
       "0  M0609_1.02     0.018144           36.0             198.0    342.0   \n",
       "1  M6482_1.02     0.010460            6.0              42.0    328.0   \n",
       "2  M0609_1.02     0.011875          102.0              78.0    354.0   \n",
       "3  M0609_1.02     0.039545          102.0             384.0    379.0   \n",
       "4  M0609_1.02     0.004897          138.0             480.0    282.0   \n",
       "\n",
       "   num_obs_bg          pval  adjusted_pval   TF1    TF2  \\\n",
       "0       282.0  5.082589e-04       0.040736  TLX2  DNMT1   \n",
       "1       135.0  2.288124e-04       0.021828   SP4    SP7   \n",
       "2       163.0  3.372806e-07       0.000137   SP4  DNMT1   \n",
       "3       175.0  1.422019e-07       0.000071   SP4  DNMT1   \n",
       "4       117.0  2.890278e-05       0.004522   SP4  DNMT1   \n",
       "\n",
       "                   TF_Interaction   TF1_Family TF2_Family  \\\n",
       "0  TLX2$\\longleftrightarrow$DNMT1  Homeodomain       CxxC   \n",
       "1     SP4$\\longleftrightarrow$SP7      C2H2 ZF    C2H2 ZF   \n",
       "2   SP4$\\longleftrightarrow$DNMT1      C2H2 ZF       CxxC   \n",
       "3   SP4$\\longleftrightarrow$DNMT1      C2H2 ZF       CxxC   \n",
       "4   SP4$\\longleftrightarrow$DNMT1      C2H2 ZF       CxxC   \n",
       "\n",
       "                     Family_Interaction  \n",
       "0  Homeodomain$\\longleftrightarrow$CxxC  \n",
       "1   C2H2 ZF$\\longleftrightarrow$C2H2 ZF  \n",
       "2      C2H2 ZF$\\longleftrightarrow$CxxC  \n",
       "3      C2H2 ZF$\\longleftrightarrow$CxxC  \n",
       "4      C2H2 ZF$\\longleftrightarrow$CxxC  "
      ]
     },
     "execution_count": 92,
     "metadata": {},
     "output_type": "execute_result"
    }
   ],
   "source": [
    "df.head()"
   ]
  },
  {
   "cell_type": "code",
   "execution_count": 57,
   "metadata": {},
   "outputs": [],
   "source": [
    "df.to_csv(f'output/Human-Promoter_interactions_relative_ns_{suffix}.csv')"
   ]
  },
  {
   "cell_type": "markdown",
   "metadata": {},
   "source": [
    "### Distribution of individual TF or TF family interactions"
   ]
  },
  {
   "cell_type": "code",
   "execution_count": 58,
   "metadata": {
    "scrolled": false
   },
   "outputs": [
    {
     "data": {
      "image/png": "[encoded data removed]",
      "text/plain": [
       "<Figure size 1800x600 with 1 Axes>"
      ]
     },
     "metadata": {},
     "output_type": "display_data"
    }
   ],
   "source": [
    "plot_frequent_interactions(df, intr_level='Family_Interaction', first_n=15, store_pdf_path=f'output/Human_rel_attn_TF-Fams_supp_{suffix}.pdf')"
   ]
  },
  {
   "cell_type": "markdown",
   "metadata": {},
   "source": [
    "### Plot interaction distance distribution"
   ]
  },
  {
   "cell_type": "code",
   "execution_count": 59,
   "metadata": {
    "scrolled": false
   },
   "outputs": [
    {
     "data": {
      "image/png": "[encoded data removed]",
      "text/plain": [
       "<Figure size 800x600 with 1 Axes>"
      ]
     },
     "metadata": {},
     "output_type": "display_data"
    }
   ],
   "source": [
    "plot_interaction_distance_distribution(df, nbins=50, fig_size=(8,6))"
   ]
  },
  {
   "cell_type": "code",
   "execution_count": 105,
   "metadata": {},
   "outputs": [
    {
     "data": {
      "text/plain": [
       "(183.23387096774192, 150.0)"
      ]
     },
     "execution_count": 105,
     "metadata": {},
     "output_type": "execute_result"
    }
   ],
   "source": [
    "df['mean_distance'].mean(), df['mean_distance'].median()"
   ]
  },
  {
   "cell_type": "markdown",
   "metadata": {},
   "source": [
    "### Most frequent interactions and their respective interaction distances"
   ]
  },
  {
   "cell_type": "code",
   "execution_count": 106,
   "metadata": {},
   "outputs": [
    {
     "data": {
      "image/png": "[encoded data removed]",
      "text/plain": [
       "<Figure size 1296x360 with 2 Axes>"
      ]
     },
     "metadata": {
      "needs_background": "light"
     },
     "output_type": "display_data"
    }
   ],
   "source": [
    "plot_interactions_and_distances_boxplot(df, first_n=15, sort_distances=False, add_sub_caption=True, show_median_dist=True, store_pdf_path=f'output/human_promoter_main_distance_boxplot_{suffix}.pdf')"
   ]
  },
  {
   "cell_type": "code",
   "execution_count": 107,
   "metadata": {},
   "outputs": [
    {
     "data": {
      "image/png": "[encoded data removed]",
      "text/plain": [
       "<Figure size 1296x360 with 2 Axes>"
      ]
     },
     "metadata": {
      "needs_background": "light"
     },
     "output_type": "display_data"
    }
   ],
   "source": [
    "plot_interactions_and_distances_histogram(df, first_n=15, dist_nbins=25, add_sub_caption=True, show_median_dist=True, store_pdf_path=f'output/human_promoter_main_distance_histogram_{suffix}.pdf')"
   ]
  },
  {
   "cell_type": "markdown",
   "metadata": {},
   "source": [
    "### Annotate Interactions using TRRUSTv2 (and other sources)"
   ]
  },
  {
   "cell_type": "markdown",
   "metadata": {},
   "source": [
    "#### Read TRRUSTv2 interactions"
   ]
  },
  {
   "cell_type": "code",
   "execution_count": 123,
   "metadata": {},
   "outputs": [],
   "source": [
    "#dictionaries with genes/TFs as keys and [target_gene/TF, role, PUBMID ID] as value\n",
    "with open('/s/jawar/i/nobackup/Saira/motif_databases/Human_Chromatin/TrustV2/human_co-regulate_dict.pckl','rb') as f:\n",
    "    human_dict = pickle.load(f)"
   ]
  },
  {
   "cell_type": "code",
   "execution_count": 124,
   "metadata": {},
   "outputs": [],
   "source": [
    "df['Interaction_in_TRUSTv2'] = df['TF_Interaction'].apply(db_annotate_interaction, intr_dict = human_dict)"
   ]
  },
  {
   "cell_type": "code",
   "execution_count": 125,
   "metadata": {},
   "outputs": [],
   "source": [
    "df_resTRUSTv2 = df[df['Interaction_in_TRUSTv2']==1]"
   ]
  },
  {
   "cell_type": "code",
   "execution_count": 126,
   "metadata": {},
   "outputs": [],
   "source": [
    "df_resTRUSTv2x = df_resTRUSTv2[['TF_Interaction','TF1_Family','TF2_Family','adjusted_pval']].sort_values(by='adjusted_pval').drop_duplicates('TF_Interaction')"
   ]
  },
  {
   "cell_type": "code",
   "execution_count": 127,
   "metadata": {},
   "outputs": [
    {
     "data": {
      "text/html": [
       "<div>\n",
       "<style scoped>\n",
       "    .dataframe tbody tr th:only-of-type {\n",
       "        vertical-align: middle;\n",
       "    }\n",
       "\n",
       "    .dataframe tbody tr th {\n",
       "        vertical-align: top;\n",
       "    }\n",
       "\n",
       "    .dataframe thead th {\n",
       "        text-align: right;\n",
       "    }\n",
       "</style>\n",
       "<table border=\"1\" class=\"dataframe\">\n",
       "  <thead>\n",
       "    <tr style=\"text-align: right;\">\n",
       "      <th></th>\n",
       "      <th>TF_Interaction</th>\n",
       "      <th>TF1_Family</th>\n",
       "      <th>TF2_Family</th>\n",
       "      <th>adjusted_pval</th>\n",
       "    </tr>\n",
       "  </thead>\n",
       "  <tbody>\n",
       "    <tr>\n",
       "      <th>4</th>\n",
       "      <td>PURA$\\longleftrightarrow$EGR1</td>\n",
       "      <td>Unknown</td>\n",
       "      <td>C2H2 ZF</td>\n",
       "      <td>0.000031</td>\n",
       "    </tr>\n",
       "    <tr>\n",
       "      <th>8</th>\n",
       "      <td>PURA$\\longleftrightarrow$ESR1</td>\n",
       "      <td>Unknown</td>\n",
       "      <td>Nuclear receptor</td>\n",
       "      <td>0.005072</td>\n",
       "    </tr>\n",
       "  </tbody>\n",
       "</table>\n",
       "</div>"
      ],
      "text/plain": [
       "                  TF_Interaction TF1_Family        TF2_Family  adjusted_pval\n",
       "4  PURA$\\longleftrightarrow$EGR1    Unknown           C2H2 ZF       0.000031\n",
       "8  PURA$\\longleftrightarrow$ESR1    Unknown  Nuclear receptor       0.005072"
      ]
     },
     "execution_count": 127,
     "metadata": {},
     "output_type": "execute_result"
    }
   ],
   "source": [
    "df_resTRUSTv2x"
   ]
  },
  {
   "cell_type": "code",
   "execution_count": 65,
   "metadata": {},
   "outputs": [],
   "source": [
    "df_resTRUSTv2x.to_csv(f'output/Human_ATTN_TRRUSTv2_relative_ns_{suffix}.csv')"
   ]
  },
  {
   "cell_type": "markdown",
   "metadata": {},
   "source": [
    "### Annotate Interactions using HIPPIE database"
   ]
  },
  {
   "cell_type": "markdown",
   "metadata": {},
   "source": [
    "#### Read hippie interactions"
   ]
  },
  {
   "cell_type": "code",
   "execution_count": 128,
   "metadata": {},
   "outputs": [],
   "source": [
    "#dictionaries with genes/TFs as keys and [target_gene/TF, role, PUBMID ID] as value\n",
    "with open('/s/jawar/i/nobackup/Saira/motif_databases/Human_Chromatin/hippie/interactions_dict.pckl','rb') as f:\n",
    "    human_dict = pickle.load(f)"
   ]
  },
  {
   "cell_type": "code",
   "execution_count": 129,
   "metadata": {},
   "outputs": [],
   "source": [
    "for key,value in human_dict.items():\n",
    "    human_dict[key] = np.array([[val, '', '0'] for val in value])"
   ]
  },
  {
   "cell_type": "code",
   "execution_count": 130,
   "metadata": {},
   "outputs": [],
   "source": [
    "df['Interaction_in_HIPPIE'] = df['TF_Interaction'].apply(db_annotate_interaction, intr_dict = human_dict)"
   ]
  },
  {
   "cell_type": "code",
   "execution_count": 131,
   "metadata": {},
   "outputs": [],
   "source": [
    "df_resHIPPIE = df[df['Interaction_in_HIPPIE']==1]"
   ]
  },
  {
   "cell_type": "code",
   "execution_count": 132,
   "metadata": {},
   "outputs": [],
   "source": [
    "df_resHIPPIEx = df_resHIPPIE[['TF_Interaction','TF1_Family','TF2_Family','adjusted_pval']].sort_values(by='adjusted_pval').drop_duplicates('TF_Interaction')"
   ]
  },
  {
   "cell_type": "code",
   "execution_count": 133,
   "metadata": {},
   "outputs": [
    {
     "data": {
      "text/html": [
       "<div>\n",
       "<style scoped>\n",
       "    .dataframe tbody tr th:only-of-type {\n",
       "        vertical-align: middle;\n",
       "    }\n",
       "\n",
       "    .dataframe tbody tr th {\n",
       "        vertical-align: top;\n",
       "    }\n",
       "\n",
       "    .dataframe thead th {\n",
       "        text-align: right;\n",
       "    }\n",
       "</style>\n",
       "<table border=\"1\" class=\"dataframe\">\n",
       "  <thead>\n",
       "    <tr style=\"text-align: right;\">\n",
       "      <th></th>\n",
       "      <th>TF_Interaction</th>\n",
       "      <th>TF1_Family</th>\n",
       "      <th>TF2_Family</th>\n",
       "      <th>adjusted_pval</th>\n",
       "    </tr>\n",
       "  </thead>\n",
       "  <tbody>\n",
       "    <tr>\n",
       "      <th>4</th>\n",
       "      <td>PURA$\\longleftrightarrow$EGR1</td>\n",
       "      <td>Unknown</td>\n",
       "      <td>C2H2 ZF</td>\n",
       "      <td>0.000031</td>\n",
       "    </tr>\n",
       "    <tr>\n",
       "      <th>8</th>\n",
       "      <td>PURA$\\longleftrightarrow$ESR1</td>\n",
       "      <td>Unknown</td>\n",
       "      <td>Nuclear receptor</td>\n",
       "      <td>0.005072</td>\n",
       "    </tr>\n",
       "  </tbody>\n",
       "</table>\n",
       "</div>"
      ],
      "text/plain": [
       "                  TF_Interaction TF1_Family        TF2_Family  adjusted_pval\n",
       "4  PURA$\\longleftrightarrow$EGR1    Unknown           C2H2 ZF       0.000031\n",
       "8  PURA$\\longleftrightarrow$ESR1    Unknown  Nuclear receptor       0.005072"
      ]
     },
     "execution_count": 133,
     "metadata": {},
     "output_type": "execute_result"
    }
   ],
   "source": [
    "df_resHIPPIEx"
   ]
  },
  {
   "cell_type": "code",
   "execution_count": 72,
   "metadata": {},
   "outputs": [],
   "source": [
    "df_resHIPPIEx.to_csv(f'output/Human_ATTN_HIPPIE_{suffix}.csv')"
   ]
  },
  {
   "cell_type": "code",
   "execution_count": null,
   "metadata": {},
   "outputs": [],
   "source": []
  }
 ],
 "metadata": {
  "kernelspec": {
   "display_name": "Python 3 (ipykernel)",
   "language": "python",
   "name": "python3"
  },
  "language_info": {
   "codemirror_mode": {
    "name": "ipython",
    "version": 3
   },
   "file_extension": ".py",
   "mimetype": "text/x-python",
   "name": "python",
   "nbconvert_exporter": "python",
   "pygments_lexer": "ipython3",
   "version": "3.10.10"
  }
 },
 "nbformat": 4,
 "nbformat_minor": 2
}
