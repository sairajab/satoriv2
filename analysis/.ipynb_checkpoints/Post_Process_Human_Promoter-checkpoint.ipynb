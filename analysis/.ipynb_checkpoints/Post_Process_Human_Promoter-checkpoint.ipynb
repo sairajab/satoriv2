{
 "cells": [
  {
   "cell_type": "markdown",
   "metadata": {},
   "source": [
    "## Imports"
   ]
  },
  {
   "cell_type": "code",
   "execution_count": 1,
   "metadata": {},
   "outputs": [],
   "source": [
    "import pandas as pd\n",
    "import sys\n",
    "\n",
    "sys.path.insert(0,'../satori')\n",
    "\n",
    "from postprocess import *"
   ]
  },
  {
   "cell_type": "markdown",
   "metadata": {},
   "source": [
    "## Interaction data processing"
   ]
  },
  {
   "cell_type": "code",
   "execution_count": 2,
   "metadata": {},
   "outputs": [],
   "source": [
    "exp_name = \"../results/human_promoters/fhd_entropy/E2/Interactions_SATORI/\"\n",
    "interaction_file = \"interactions_summary_attnLimit-0.33486722433984273.txt\""
   ]
  },
  {
   "cell_type": "code",
   "execution_count": 3,
   "metadata": {},
   "outputs": [],
   "source": [
    "# For SATORI based interactions\n",
    "df,suffix = pd.read_csv(exp_name + interaction_file ,sep='\\t'),'SATORI'\n",
    "output_path = exp_name\n",
    "##df = pd.read_csv('../results/Human_Promoter_Analysis_euclidean_v8/Interactions_SATORI/interactions_summary_attnLimit-0.04.txt',sep='\\t')\n",
    "\n",
    "# For FIS based interactions\n",
    "#df,suffix = pd.read_csv('../results/Human_Promoter_Analysis_euclidean_v8/Interactions_FIS/interactions_summary_attnLimit-50.0.txt',sep='\\t'),'FIS'\n",
    "##df = pd.read_csv('../results/Human_Promoter_Analysis_euclidean_v8_fixed/Interactions_FIS/interactions_summary_attnLimit-0.txt',sep='\\t')"
   ]
  },
  {
   "cell_type": "markdown",
   "metadata": {},
   "source": [
    "### Filter based on interaction and motif hit p-values, and keep the most significant interactions"
   ]
  },
  {
   "cell_type": "code",
   "execution_count": 4,
   "metadata": {},
   "outputs": [],
   "source": [
    "df = filter_data_on_thresholds(df, motifA_pval_cutoff=0.05, motifB_pval_cutoff=0.05)"
   ]
  },
  {
   "cell_type": "code",
   "execution_count": 5,
   "metadata": {},
   "outputs": [
    {
     "data": {
      "text/plain": [
       "(4932, 12)"
      ]
     },
     "execution_count": 5,
     "metadata": {},
     "output_type": "execute_result"
    }
   ],
   "source": [
    "df.shape"
   ]
  },
  {
   "cell_type": "markdown",
   "metadata": {},
   "source": [
    "### Load the motif description file to annotate the interactions. \n",
    "Here we use CISBP (U toronto) motif description file. "
   ]
  },
  {
   "cell_type": "code",
   "execution_count": 6,
   "metadata": {},
   "outputs": [],
   "source": [
    "fhd_file = \"/s/jawar/p/nobackup/altsplice1/fahad/DeepLearning/Basset_Splicing_IR-iDiffIR/Analysis_For_none_network-typeB_lotus_posThresh-0.60/MEME_analysis/Homo_sapiens_2019_01_14_4_17_pm/TF_Information_all_motifs.txt\"\n",
    "\n",
    "df_annotate = pd.read_csv(fhd_file,sep='\\t')"
   ]
  },
  {
   "cell_type": "code",
   "execution_count": 7,
   "metadata": {},
   "outputs": [
    {
     "data": {
      "text/html": [
       "<div>\n",
       "<style scoped>\n",
       "    .dataframe tbody tr th:only-of-type {\n",
       "        vertical-align: middle;\n",
       "    }\n",
       "\n",
       "    .dataframe tbody tr th {\n",
       "        vertical-align: top;\n",
       "    }\n",
       "\n",
       "    .dataframe thead th {\n",
       "        text-align: right;\n",
       "    }\n",
       "</style>\n",
       "<table border=\"1\" class=\"dataframe\">\n",
       "  <thead>\n",
       "    <tr style=\"text-align: right;\">\n",
       "      <th></th>\n",
       "      <th>TF_ID</th>\n",
       "      <th>Family_ID</th>\n",
       "      <th>TSource_ID</th>\n",
       "      <th>Motif_ID</th>\n",
       "      <th>MSource_ID</th>\n",
       "      <th>DBID</th>\n",
       "      <th>TF_Name</th>\n",
       "      <th>TF_Species</th>\n",
       "      <th>TF_Status</th>\n",
       "      <th>Family_Name</th>\n",
       "      <th>...</th>\n",
       "      <th>MSource_Type</th>\n",
       "      <th>MSource_Author</th>\n",
       "      <th>MSource_Year</th>\n",
       "      <th>PMID</th>\n",
       "      <th>MSource_Version</th>\n",
       "      <th>TfSource_Name</th>\n",
       "      <th>TfSource_URL</th>\n",
       "      <th>TfSource_Year</th>\n",
       "      <th>TfSource_Month</th>\n",
       "      <th>TfSource_Day</th>\n",
       "    </tr>\n",
       "  </thead>\n",
       "  <tbody>\n",
       "    <tr>\n",
       "      <th>0</th>\n",
       "      <td>T004843_1.02</td>\n",
       "      <td>F035_1.02</td>\n",
       "      <td>TS19_1.02</td>\n",
       "      <td>M2938_1.02</td>\n",
       "      <td>MS26_1.02</td>\n",
       "      <td>ENSG00000008196</td>\n",
       "      <td>TFAP2B</td>\n",
       "      <td>Homo_sapiens</td>\n",
       "      <td>D</td>\n",
       "      <td>AP-2</td>\n",
       "      <td>...</td>\n",
       "      <td>Transfac</td>\n",
       "      <td>Matys</td>\n",
       "      <td>2006</td>\n",
       "      <td>16381825</td>\n",
       "      <td>2014.2</td>\n",
       "      <td>Ensembl</td>\n",
       "      <td>http://www.ensembl.org/</td>\n",
       "      <td>2011</td>\n",
       "      <td>Oct</td>\n",
       "      <td>26</td>\n",
       "    </tr>\n",
       "    <tr>\n",
       "      <th>1</th>\n",
       "      <td>T004843_1.02</td>\n",
       "      <td>F035_1.02</td>\n",
       "      <td>TS19_1.02</td>\n",
       "      <td>M5917_1.02</td>\n",
       "      <td>MS20_1.02</td>\n",
       "      <td>ENSG00000008196</td>\n",
       "      <td>TFAP2B</td>\n",
       "      <td>Homo_sapiens</td>\n",
       "      <td>D</td>\n",
       "      <td>AP-2</td>\n",
       "      <td>...</td>\n",
       "      <td>SELEX</td>\n",
       "      <td>Jolma</td>\n",
       "      <td>2013</td>\n",
       "      <td>23332764</td>\n",
       "      <td>January 2013</td>\n",
       "      <td>Ensembl</td>\n",
       "      <td>http://www.ensembl.org/</td>\n",
       "      <td>2011</td>\n",
       "      <td>Oct</td>\n",
       "      <td>26</td>\n",
       "    </tr>\n",
       "    <tr>\n",
       "      <th>2</th>\n",
       "      <td>T004843_1.02</td>\n",
       "      <td>F035_1.02</td>\n",
       "      <td>TS19_1.02</td>\n",
       "      <td>M5918_1.02</td>\n",
       "      <td>MS20_1.02</td>\n",
       "      <td>ENSG00000008196</td>\n",
       "      <td>TFAP2B</td>\n",
       "      <td>Homo_sapiens</td>\n",
       "      <td>D</td>\n",
       "      <td>AP-2</td>\n",
       "      <td>...</td>\n",
       "      <td>SELEX</td>\n",
       "      <td>Jolma</td>\n",
       "      <td>2013</td>\n",
       "      <td>23332764</td>\n",
       "      <td>January 2013</td>\n",
       "      <td>Ensembl</td>\n",
       "      <td>http://www.ensembl.org/</td>\n",
       "      <td>2011</td>\n",
       "      <td>Oct</td>\n",
       "      <td>26</td>\n",
       "    </tr>\n",
       "    <tr>\n",
       "      <th>3</th>\n",
       "      <td>T004843_1.02</td>\n",
       "      <td>F035_1.02</td>\n",
       "      <td>TS19_1.02</td>\n",
       "      <td>M5919_1.02</td>\n",
       "      <td>MS20_1.02</td>\n",
       "      <td>ENSG00000008196</td>\n",
       "      <td>TFAP2B</td>\n",
       "      <td>Homo_sapiens</td>\n",
       "      <td>D</td>\n",
       "      <td>AP-2</td>\n",
       "      <td>...</td>\n",
       "      <td>SELEX</td>\n",
       "      <td>Jolma</td>\n",
       "      <td>2013</td>\n",
       "      <td>23332764</td>\n",
       "      <td>January 2013</td>\n",
       "      <td>Ensembl</td>\n",
       "      <td>http://www.ensembl.org/</td>\n",
       "      <td>2011</td>\n",
       "      <td>Oct</td>\n",
       "      <td>26</td>\n",
       "    </tr>\n",
       "    <tr>\n",
       "      <th>4</th>\n",
       "      <td>T004843_1.02</td>\n",
       "      <td>F035_1.02</td>\n",
       "      <td>TS19_1.02</td>\n",
       "      <td>M6144_1.02</td>\n",
       "      <td>MS18_1.02</td>\n",
       "      <td>ENSG00000008196</td>\n",
       "      <td>TFAP2B</td>\n",
       "      <td>Homo_sapiens</td>\n",
       "      <td>D</td>\n",
       "      <td>AP-2</td>\n",
       "      <td>...</td>\n",
       "      <td>HocoMoco</td>\n",
       "      <td>Kulakovskiy</td>\n",
       "      <td>2013</td>\n",
       "      <td>23175603</td>\n",
       "      <td>July 2014</td>\n",
       "      <td>Ensembl</td>\n",
       "      <td>http://www.ensembl.org/</td>\n",
       "      <td>2011</td>\n",
       "      <td>Oct</td>\n",
       "      <td>26</td>\n",
       "    </tr>\n",
       "  </tbody>\n",
       "</table>\n",
       "<p>5 rows × 26 columns</p>\n",
       "</div>"
      ],
      "text/plain": [
       "          TF_ID  Family_ID TSource_ID    Motif_ID MSource_ID             DBID  \\\n",
       "0  T004843_1.02  F035_1.02  TS19_1.02  M2938_1.02  MS26_1.02  ENSG00000008196   \n",
       "1  T004843_1.02  F035_1.02  TS19_1.02  M5917_1.02  MS20_1.02  ENSG00000008196   \n",
       "2  T004843_1.02  F035_1.02  TS19_1.02  M5918_1.02  MS20_1.02  ENSG00000008196   \n",
       "3  T004843_1.02  F035_1.02  TS19_1.02  M5919_1.02  MS20_1.02  ENSG00000008196   \n",
       "4  T004843_1.02  F035_1.02  TS19_1.02  M6144_1.02  MS18_1.02  ENSG00000008196   \n",
       "\n",
       "  TF_Name    TF_Species TF_Status Family_Name  ... MSource_Type  \\\n",
       "0  TFAP2B  Homo_sapiens         D        AP-2  ...     Transfac   \n",
       "1  TFAP2B  Homo_sapiens         D        AP-2  ...        SELEX   \n",
       "2  TFAP2B  Homo_sapiens         D        AP-2  ...        SELEX   \n",
       "3  TFAP2B  Homo_sapiens         D        AP-2  ...        SELEX   \n",
       "4  TFAP2B  Homo_sapiens         D        AP-2  ...     HocoMoco   \n",
       "\n",
       "   MSource_Author  MSource_Year      PMID MSource_Version TfSource_Name  \\\n",
       "0           Matys          2006  16381825          2014.2       Ensembl   \n",
       "1           Jolma          2013  23332764    January 2013       Ensembl   \n",
       "2           Jolma          2013  23332764    January 2013       Ensembl   \n",
       "3           Jolma          2013  23332764    January 2013       Ensembl   \n",
       "4     Kulakovskiy          2013  23175603       July 2014       Ensembl   \n",
       "\n",
       "              TfSource_URL TfSource_Year TfSource_Month TfSource_Day  \n",
       "0  http://www.ensembl.org/          2011            Oct           26  \n",
       "1  http://www.ensembl.org/          2011            Oct           26  \n",
       "2  http://www.ensembl.org/          2011            Oct           26  \n",
       "3  http://www.ensembl.org/          2011            Oct           26  \n",
       "4  http://www.ensembl.org/          2011            Oct           26  \n",
       "\n",
       "[5 rows x 26 columns]"
      ]
     },
     "execution_count": 7,
     "metadata": {},
     "output_type": "execute_result"
    }
   ],
   "source": [
    "df_annotate.head()"
   ]
  },
  {
   "cell_type": "markdown",
   "metadata": {},
   "source": [
    "### Annotate the interacting motifs"
   ]
  },
  {
   "cell_type": "code",
   "execution_count": 8,
   "metadata": {},
   "outputs": [],
   "source": [
    "df['TF1'] = df['motif1'].apply(get_annotation, annotation_data=df_annotate, single_TF=True)\n",
    "df['TF2'] = df['motif2'].apply(get_annotation, annotation_data=df_annotate, single_TF=True)"
   ]
  },
  {
   "cell_type": "code",
   "execution_count": 9,
   "metadata": {
    "scrolled": true
   },
   "outputs": [
    {
     "data": {
      "text/html": [
       "<div>\n",
       "<style scoped>\n",
       "    .dataframe tbody tr th:only-of-type {\n",
       "        vertical-align: middle;\n",
       "    }\n",
       "\n",
       "    .dataframe tbody tr th {\n",
       "        vertical-align: top;\n",
       "    }\n",
       "\n",
       "    .dataframe thead th {\n",
       "        text-align: right;\n",
       "    }\n",
       "</style>\n",
       "<table border=\"1\" class=\"dataframe\">\n",
       "  <thead>\n",
       "    <tr style=\"text-align: right;\">\n",
       "      <th></th>\n",
       "      <th>filter_interaction</th>\n",
       "      <th>example_no</th>\n",
       "      <th>motif1</th>\n",
       "      <th>motif1_qval</th>\n",
       "      <th>motif2</th>\n",
       "      <th>motif2_qval</th>\n",
       "      <th>mean_distance</th>\n",
       "      <th>mean_distance_bg</th>\n",
       "      <th>num_obs</th>\n",
       "      <th>num_obs_bg</th>\n",
       "      <th>pval</th>\n",
       "      <th>adjusted_pval</th>\n",
       "      <th>TF1</th>\n",
       "      <th>TF2</th>\n",
       "    </tr>\n",
       "  </thead>\n",
       "  <tbody>\n",
       "    <tr>\n",
       "      <th>0</th>\n",
       "      <td>filter1&lt;--&gt;filter2</td>\n",
       "      <td>199</td>\n",
       "      <td>M1605_1.02</td>\n",
       "      <td>0.006896</td>\n",
       "      <td>M1605_1.02</td>\n",
       "      <td>0.001160</td>\n",
       "      <td>36.0</td>\n",
       "      <td>6.0</td>\n",
       "      <td>89.0</td>\n",
       "      <td>157.0</td>\n",
       "      <td>5.967670e-16</td>\n",
       "      <td>3.055914e-15</td>\n",
       "      <td>SOX1</td>\n",
       "      <td>SOX1</td>\n",
       "    </tr>\n",
       "    <tr>\n",
       "      <th>1</th>\n",
       "      <td>filter1&lt;--&gt;filter4</td>\n",
       "      <td>201</td>\n",
       "      <td>M1605_1.02</td>\n",
       "      <td>0.006896</td>\n",
       "      <td>M1605_1.02</td>\n",
       "      <td>0.035763</td>\n",
       "      <td>120.0</td>\n",
       "      <td>390.0</td>\n",
       "      <td>80.0</td>\n",
       "      <td>75.0</td>\n",
       "      <td>1.389817e-29</td>\n",
       "      <td>6.352901e-28</td>\n",
       "      <td>SOX1</td>\n",
       "      <td>SOX1</td>\n",
       "    </tr>\n",
       "    <tr>\n",
       "      <th>2</th>\n",
       "      <td>filter1&lt;--&gt;filter5</td>\n",
       "      <td>202</td>\n",
       "      <td>M1605_1.02</td>\n",
       "      <td>0.006896</td>\n",
       "      <td>M0632_1.02</td>\n",
       "      <td>0.003285</td>\n",
       "      <td>66.0</td>\n",
       "      <td>6.0</td>\n",
       "      <td>83.0</td>\n",
       "      <td>158.0</td>\n",
       "      <td>7.714699e-23</td>\n",
       "      <td>1.119701e-21</td>\n",
       "      <td>SOX1</td>\n",
       "      <td>DMRTA2</td>\n",
       "    </tr>\n",
       "    <tr>\n",
       "      <th>3</th>\n",
       "      <td>filter1&lt;--&gt;filter8</td>\n",
       "      <td>205</td>\n",
       "      <td>M1605_1.02</td>\n",
       "      <td>0.006896</td>\n",
       "      <td>M0891_1.02</td>\n",
       "      <td>0.001884</td>\n",
       "      <td>150.0</td>\n",
       "      <td>150.0</td>\n",
       "      <td>168.0</td>\n",
       "      <td>170.0</td>\n",
       "      <td>4.364537e-15</td>\n",
       "      <td>1.985006e-14</td>\n",
       "      <td>SOX1</td>\n",
       "      <td>TLX2</td>\n",
       "    </tr>\n",
       "    <tr>\n",
       "      <th>4</th>\n",
       "      <td>filter1&lt;--&gt;filter9</td>\n",
       "      <td>206</td>\n",
       "      <td>M1605_1.02</td>\n",
       "      <td>0.006896</td>\n",
       "      <td>M6547_1.02</td>\n",
       "      <td>0.013717</td>\n",
       "      <td>378.0</td>\n",
       "      <td>72.0</td>\n",
       "      <td>132.0</td>\n",
       "      <td>143.0</td>\n",
       "      <td>2.338611e-15</td>\n",
       "      <td>1.108221e-14</td>\n",
       "      <td>SOX1</td>\n",
       "      <td>ZFX</td>\n",
       "    </tr>\n",
       "  </tbody>\n",
       "</table>\n",
       "</div>"
      ],
      "text/plain": [
       "   filter_interaction  example_no      motif1  motif1_qval      motif2  \\\n",
       "0  filter1<-->filter2         199  M1605_1.02     0.006896  M1605_1.02   \n",
       "1  filter1<-->filter4         201  M1605_1.02     0.006896  M1605_1.02   \n",
       "2  filter1<-->filter5         202  M1605_1.02     0.006896  M0632_1.02   \n",
       "3  filter1<-->filter8         205  M1605_1.02     0.006896  M0891_1.02   \n",
       "4  filter1<-->filter9         206  M1605_1.02     0.006896  M6547_1.02   \n",
       "\n",
       "   motif2_qval  mean_distance  mean_distance_bg  num_obs  num_obs_bg  \\\n",
       "0     0.001160           36.0               6.0     89.0       157.0   \n",
       "1     0.035763          120.0             390.0     80.0        75.0   \n",
       "2     0.003285           66.0               6.0     83.0       158.0   \n",
       "3     0.001884          150.0             150.0    168.0       170.0   \n",
       "4     0.013717          378.0              72.0    132.0       143.0   \n",
       "\n",
       "           pval  adjusted_pval   TF1     TF2  \n",
       "0  5.967670e-16   3.055914e-15  SOX1    SOX1  \n",
       "1  1.389817e-29   6.352901e-28  SOX1    SOX1  \n",
       "2  7.714699e-23   1.119701e-21  SOX1  DMRTA2  \n",
       "3  4.364537e-15   1.985006e-14  SOX1    TLX2  \n",
       "4  2.338611e-15   1.108221e-14  SOX1     ZFX  "
      ]
     },
     "execution_count": 9,
     "metadata": {},
     "output_type": "execute_result"
    }
   ],
   "source": [
    "df.head()"
   ]
  },
  {
   "cell_type": "code",
   "execution_count": 10,
   "metadata": {},
   "outputs": [],
   "source": [
    "df['TF_Interaction'] = df.apply(lambda x: x['TF1']+r'$\\longleftrightarrow$'+x['TF2'], axis=1)"
   ]
  },
  {
   "cell_type": "markdown",
   "metadata": {},
   "source": [
    "### Drop same motif interactions"
   ]
  },
  {
   "cell_type": "code",
   "execution_count": 11,
   "metadata": {},
   "outputs": [],
   "source": [
    "df = df[df['TF1']!=df['TF2']]"
   ]
  },
  {
   "cell_type": "code",
   "execution_count": 12,
   "metadata": {},
   "outputs": [
    {
     "data": {
      "text/plain": [
       "(4561, 15)"
      ]
     },
     "execution_count": 12,
     "metadata": {},
     "output_type": "execute_result"
    }
   ],
   "source": [
    "df.shape"
   ]
  },
  {
   "cell_type": "code",
   "execution_count": 13,
   "metadata": {},
   "outputs": [],
   "source": [
    "df = df.reset_index(drop=True)"
   ]
  },
  {
   "cell_type": "markdown",
   "metadata": {},
   "source": [
    "### Fix redundant interaction pairs"
   ]
  },
  {
   "cell_type": "code",
   "execution_count": 14,
   "metadata": {},
   "outputs": [],
   "source": [
    "df = process_for_redundant_interactions(df, intr_type='TF')"
   ]
  },
  {
   "cell_type": "code",
   "execution_count": 15,
   "metadata": {},
   "outputs": [
    {
     "data": {
      "text/html": [
       "<div>\n",
       "<style scoped>\n",
       "    .dataframe tbody tr th:only-of-type {\n",
       "        vertical-align: middle;\n",
       "    }\n",
       "\n",
       "    .dataframe tbody tr th {\n",
       "        vertical-align: top;\n",
       "    }\n",
       "\n",
       "    .dataframe thead th {\n",
       "        text-align: right;\n",
       "    }\n",
       "</style>\n",
       "<table border=\"1\" class=\"dataframe\">\n",
       "  <thead>\n",
       "    <tr style=\"text-align: right;\">\n",
       "      <th></th>\n",
       "      <th>filter_interaction</th>\n",
       "      <th>example_no</th>\n",
       "      <th>motif1</th>\n",
       "      <th>motif1_qval</th>\n",
       "      <th>motif2</th>\n",
       "      <th>motif2_qval</th>\n",
       "      <th>mean_distance</th>\n",
       "      <th>mean_distance_bg</th>\n",
       "      <th>num_obs</th>\n",
       "      <th>num_obs_bg</th>\n",
       "      <th>pval</th>\n",
       "      <th>adjusted_pval</th>\n",
       "      <th>TF1</th>\n",
       "      <th>TF2</th>\n",
       "      <th>TF_Interaction</th>\n",
       "    </tr>\n",
       "  </thead>\n",
       "  <tbody>\n",
       "    <tr>\n",
       "      <th>0</th>\n",
       "      <td>filter1&lt;--&gt;filter5</td>\n",
       "      <td>202</td>\n",
       "      <td>M1605_1.02</td>\n",
       "      <td>0.006896</td>\n",
       "      <td>M0632_1.02</td>\n",
       "      <td>0.003285</td>\n",
       "      <td>66.0</td>\n",
       "      <td>6.0</td>\n",
       "      <td>83.0</td>\n",
       "      <td>158.0</td>\n",
       "      <td>7.714699e-23</td>\n",
       "      <td>1.119701e-21</td>\n",
       "      <td>SOX1</td>\n",
       "      <td>DMRTA2</td>\n",
       "      <td>SOX1$\\longleftrightarrow$DMRTA2</td>\n",
       "    </tr>\n",
       "    <tr>\n",
       "      <th>1</th>\n",
       "      <td>filter1&lt;--&gt;filter8</td>\n",
       "      <td>205</td>\n",
       "      <td>M1605_1.02</td>\n",
       "      <td>0.006896</td>\n",
       "      <td>M0891_1.02</td>\n",
       "      <td>0.001884</td>\n",
       "      <td>150.0</td>\n",
       "      <td>150.0</td>\n",
       "      <td>168.0</td>\n",
       "      <td>170.0</td>\n",
       "      <td>4.364537e-15</td>\n",
       "      <td>1.985006e-14</td>\n",
       "      <td>SOX1</td>\n",
       "      <td>TLX2</td>\n",
       "      <td>SOX1$\\longleftrightarrow$TLX2</td>\n",
       "    </tr>\n",
       "    <tr>\n",
       "      <th>2</th>\n",
       "      <td>filter1&lt;--&gt;filter9</td>\n",
       "      <td>206</td>\n",
       "      <td>M1605_1.02</td>\n",
       "      <td>0.006896</td>\n",
       "      <td>M6547_1.02</td>\n",
       "      <td>0.013717</td>\n",
       "      <td>378.0</td>\n",
       "      <td>72.0</td>\n",
       "      <td>132.0</td>\n",
       "      <td>143.0</td>\n",
       "      <td>2.338611e-15</td>\n",
       "      <td>1.108221e-14</td>\n",
       "      <td>SOX1</td>\n",
       "      <td>ZFX</td>\n",
       "      <td>SOX1$\\longleftrightarrow$ZFX</td>\n",
       "    </tr>\n",
       "    <tr>\n",
       "      <th>3</th>\n",
       "      <td>filter1&lt;--&gt;filter12</td>\n",
       "      <td>209</td>\n",
       "      <td>M1605_1.02</td>\n",
       "      <td>0.006896</td>\n",
       "      <td>M0756_1.02</td>\n",
       "      <td>0.003686</td>\n",
       "      <td>438.0</td>\n",
       "      <td>42.0</td>\n",
       "      <td>100.0</td>\n",
       "      <td>113.0</td>\n",
       "      <td>3.293581e-24</td>\n",
       "      <td>6.035904e-23</td>\n",
       "      <td>SOX1</td>\n",
       "      <td>FOXN3</td>\n",
       "      <td>SOX1$\\longleftrightarrow$FOXN3</td>\n",
       "    </tr>\n",
       "    <tr>\n",
       "      <th>4</th>\n",
       "      <td>filter1&lt;--&gt;filter13</td>\n",
       "      <td>210</td>\n",
       "      <td>M1605_1.02</td>\n",
       "      <td>0.006896</td>\n",
       "      <td>M0609_1.02</td>\n",
       "      <td>0.000225</td>\n",
       "      <td>162.0</td>\n",
       "      <td>234.0</td>\n",
       "      <td>151.0</td>\n",
       "      <td>86.0</td>\n",
       "      <td>2.957958e-17</td>\n",
       "      <td>1.816873e-16</td>\n",
       "      <td>SOX1</td>\n",
       "      <td>DNMT1</td>\n",
       "      <td>SOX1$\\longleftrightarrow$DNMT1</td>\n",
       "    </tr>\n",
       "  </tbody>\n",
       "</table>\n",
       "</div>"
      ],
      "text/plain": [
       "    filter_interaction  example_no      motif1  motif1_qval      motif2  \\\n",
       "0   filter1<-->filter5         202  M1605_1.02     0.006896  M0632_1.02   \n",
       "1   filter1<-->filter8         205  M1605_1.02     0.006896  M0891_1.02   \n",
       "2   filter1<-->filter9         206  M1605_1.02     0.006896  M6547_1.02   \n",
       "3  filter1<-->filter12         209  M1605_1.02     0.006896  M0756_1.02   \n",
       "4  filter1<-->filter13         210  M1605_1.02     0.006896  M0609_1.02   \n",
       "\n",
       "   motif2_qval  mean_distance  mean_distance_bg  num_obs  num_obs_bg  \\\n",
       "0     0.003285           66.0               6.0     83.0       158.0   \n",
       "1     0.001884          150.0             150.0    168.0       170.0   \n",
       "2     0.013717          378.0              72.0    132.0       143.0   \n",
       "3     0.003686          438.0              42.0    100.0       113.0   \n",
       "4     0.000225          162.0             234.0    151.0        86.0   \n",
       "\n",
       "           pval  adjusted_pval   TF1     TF2                   TF_Interaction  \n",
       "0  7.714699e-23   1.119701e-21  SOX1  DMRTA2  SOX1$\\longleftrightarrow$DMRTA2  \n",
       "1  4.364537e-15   1.985006e-14  SOX1    TLX2    SOX1$\\longleftrightarrow$TLX2  \n",
       "2  2.338611e-15   1.108221e-14  SOX1     ZFX     SOX1$\\longleftrightarrow$ZFX  \n",
       "3  3.293581e-24   6.035904e-23  SOX1   FOXN3   SOX1$\\longleftrightarrow$FOXN3  \n",
       "4  2.957958e-17   1.816873e-16  SOX1   DNMT1   SOX1$\\longleftrightarrow$DNMT1  "
      ]
     },
     "execution_count": 15,
     "metadata": {},
     "output_type": "execute_result"
    }
   ],
   "source": [
    "df.head()"
   ]
  },
  {
   "cell_type": "code",
   "execution_count": 16,
   "metadata": {},
   "outputs": [
    {
     "data": {
      "text/plain": [
       "(4561, 15)"
      ]
     },
     "execution_count": 16,
     "metadata": {},
     "output_type": "execute_result"
    }
   ],
   "source": [
    "df.shape"
   ]
  },
  {
   "cell_type": "markdown",
   "metadata": {},
   "source": [
    "## Most Frequent TF Family Interactions"
   ]
  },
  {
   "cell_type": "code",
   "execution_count": 17,
   "metadata": {},
   "outputs": [],
   "source": [
    "tf_family_dict = {}\n",
    "for TF in df_annotate['TF_Name']:\n",
    "    tf_family_dict[TF] = df_annotate[df_annotate['TF_Name']==TF]['Family_Name'].iloc[0]\n",
    "df['TF1_Family'] = df['TF1'].apply(lambda x: tf_family_dict[x] if x in tf_family_dict else 'UNKNOWN')\n",
    "df['TF2_Family'] = df['TF2'].apply(lambda x: tf_family_dict[x] if x in tf_family_dict else 'UNKNOWN')"
   ]
  },
  {
   "cell_type": "code",
   "execution_count": 18,
   "metadata": {},
   "outputs": [],
   "source": [
    "df['Family_Interaction'] = df.apply(lambda x: x['TF1_Family']+r'$\\longleftrightarrow$'+x['TF2_Family'],axis=1)"
   ]
  },
  {
   "cell_type": "code",
   "execution_count": 19,
   "metadata": {},
   "outputs": [],
   "source": [
    "df = process_for_redundant_interactions(df, intr_type='Family')"
   ]
  },
  {
   "cell_type": "code",
   "execution_count": 20,
   "metadata": {},
   "outputs": [
    {
     "data": {
      "text/html": [
       "<div>\n",
       "<style scoped>\n",
       "    .dataframe tbody tr th:only-of-type {\n",
       "        vertical-align: middle;\n",
       "    }\n",
       "\n",
       "    .dataframe tbody tr th {\n",
       "        vertical-align: top;\n",
       "    }\n",
       "\n",
       "    .dataframe thead th {\n",
       "        text-align: right;\n",
       "    }\n",
       "</style>\n",
       "<table border=\"1\" class=\"dataframe\">\n",
       "  <thead>\n",
       "    <tr style=\"text-align: right;\">\n",
       "      <th></th>\n",
       "      <th>filter_interaction</th>\n",
       "      <th>example_no</th>\n",
       "      <th>motif1</th>\n",
       "      <th>motif1_qval</th>\n",
       "      <th>motif2</th>\n",
       "      <th>motif2_qval</th>\n",
       "      <th>mean_distance</th>\n",
       "      <th>mean_distance_bg</th>\n",
       "      <th>num_obs</th>\n",
       "      <th>num_obs_bg</th>\n",
       "      <th>pval</th>\n",
       "      <th>adjusted_pval</th>\n",
       "      <th>TF1</th>\n",
       "      <th>TF2</th>\n",
       "      <th>TF_Interaction</th>\n",
       "      <th>TF1_Family</th>\n",
       "      <th>TF2_Family</th>\n",
       "      <th>Family_Interaction</th>\n",
       "    </tr>\n",
       "  </thead>\n",
       "  <tbody>\n",
       "    <tr>\n",
       "      <th>0</th>\n",
       "      <td>filter1&lt;--&gt;filter5</td>\n",
       "      <td>202</td>\n",
       "      <td>M1605_1.02</td>\n",
       "      <td>0.006896</td>\n",
       "      <td>M0632_1.02</td>\n",
       "      <td>0.003285</td>\n",
       "      <td>66.0</td>\n",
       "      <td>6.0</td>\n",
       "      <td>83.0</td>\n",
       "      <td>158.0</td>\n",
       "      <td>7.714699e-23</td>\n",
       "      <td>1.119701e-21</td>\n",
       "      <td>SOX1</td>\n",
       "      <td>DMRTA2</td>\n",
       "      <td>SOX1$\\longleftrightarrow$DMRTA2</td>\n",
       "      <td>Sox</td>\n",
       "      <td>DM</td>\n",
       "      <td>Sox$\\longleftrightarrow$DM</td>\n",
       "    </tr>\n",
       "    <tr>\n",
       "      <th>1</th>\n",
       "      <td>filter1&lt;--&gt;filter8</td>\n",
       "      <td>205</td>\n",
       "      <td>M1605_1.02</td>\n",
       "      <td>0.006896</td>\n",
       "      <td>M0891_1.02</td>\n",
       "      <td>0.001884</td>\n",
       "      <td>150.0</td>\n",
       "      <td>150.0</td>\n",
       "      <td>168.0</td>\n",
       "      <td>170.0</td>\n",
       "      <td>4.364537e-15</td>\n",
       "      <td>1.985006e-14</td>\n",
       "      <td>SOX1</td>\n",
       "      <td>TLX2</td>\n",
       "      <td>SOX1$\\longleftrightarrow$TLX2</td>\n",
       "      <td>Sox</td>\n",
       "      <td>Homeodomain</td>\n",
       "      <td>Sox$\\longleftrightarrow$Homeodomain</td>\n",
       "    </tr>\n",
       "    <tr>\n",
       "      <th>2</th>\n",
       "      <td>filter1&lt;--&gt;filter9</td>\n",
       "      <td>206</td>\n",
       "      <td>M1605_1.02</td>\n",
       "      <td>0.006896</td>\n",
       "      <td>M6547_1.02</td>\n",
       "      <td>0.013717</td>\n",
       "      <td>378.0</td>\n",
       "      <td>72.0</td>\n",
       "      <td>132.0</td>\n",
       "      <td>143.0</td>\n",
       "      <td>2.338611e-15</td>\n",
       "      <td>1.108221e-14</td>\n",
       "      <td>SOX1</td>\n",
       "      <td>ZFX</td>\n",
       "      <td>SOX1$\\longleftrightarrow$ZFX</td>\n",
       "      <td>Sox</td>\n",
       "      <td>C2H2 ZF</td>\n",
       "      <td>Sox$\\longleftrightarrow$C2H2 ZF</td>\n",
       "    </tr>\n",
       "    <tr>\n",
       "      <th>3</th>\n",
       "      <td>filter1&lt;--&gt;filter12</td>\n",
       "      <td>209</td>\n",
       "      <td>M1605_1.02</td>\n",
       "      <td>0.006896</td>\n",
       "      <td>M0756_1.02</td>\n",
       "      <td>0.003686</td>\n",
       "      <td>438.0</td>\n",
       "      <td>42.0</td>\n",
       "      <td>100.0</td>\n",
       "      <td>113.0</td>\n",
       "      <td>3.293581e-24</td>\n",
       "      <td>6.035904e-23</td>\n",
       "      <td>SOX1</td>\n",
       "      <td>FOXN3</td>\n",
       "      <td>SOX1$\\longleftrightarrow$FOXN3</td>\n",
       "      <td>Sox</td>\n",
       "      <td>Forkhead</td>\n",
       "      <td>Sox$\\longleftrightarrow$Forkhead</td>\n",
       "    </tr>\n",
       "    <tr>\n",
       "      <th>4</th>\n",
       "      <td>filter1&lt;--&gt;filter13</td>\n",
       "      <td>210</td>\n",
       "      <td>M1605_1.02</td>\n",
       "      <td>0.006896</td>\n",
       "      <td>M0609_1.02</td>\n",
       "      <td>0.000225</td>\n",
       "      <td>162.0</td>\n",
       "      <td>234.0</td>\n",
       "      <td>151.0</td>\n",
       "      <td>86.0</td>\n",
       "      <td>2.957958e-17</td>\n",
       "      <td>1.816873e-16</td>\n",
       "      <td>SOX1</td>\n",
       "      <td>DNMT1</td>\n",
       "      <td>SOX1$\\longleftrightarrow$DNMT1</td>\n",
       "      <td>Sox</td>\n",
       "      <td>CxxC</td>\n",
       "      <td>Sox$\\longleftrightarrow$CxxC</td>\n",
       "    </tr>\n",
       "  </tbody>\n",
       "</table>\n",
       "</div>"
      ],
      "text/plain": [
       "    filter_interaction  example_no      motif1  motif1_qval      motif2  \\\n",
       "0   filter1<-->filter5         202  M1605_1.02     0.006896  M0632_1.02   \n",
       "1   filter1<-->filter8         205  M1605_1.02     0.006896  M0891_1.02   \n",
       "2   filter1<-->filter9         206  M1605_1.02     0.006896  M6547_1.02   \n",
       "3  filter1<-->filter12         209  M1605_1.02     0.006896  M0756_1.02   \n",
       "4  filter1<-->filter13         210  M1605_1.02     0.006896  M0609_1.02   \n",
       "\n",
       "   motif2_qval  mean_distance  mean_distance_bg  num_obs  num_obs_bg  \\\n",
       "0     0.003285           66.0               6.0     83.0       158.0   \n",
       "1     0.001884          150.0             150.0    168.0       170.0   \n",
       "2     0.013717          378.0              72.0    132.0       143.0   \n",
       "3     0.003686          438.0              42.0    100.0       113.0   \n",
       "4     0.000225          162.0             234.0    151.0        86.0   \n",
       "\n",
       "           pval  adjusted_pval   TF1     TF2                   TF_Interaction  \\\n",
       "0  7.714699e-23   1.119701e-21  SOX1  DMRTA2  SOX1$\\longleftrightarrow$DMRTA2   \n",
       "1  4.364537e-15   1.985006e-14  SOX1    TLX2    SOX1$\\longleftrightarrow$TLX2   \n",
       "2  2.338611e-15   1.108221e-14  SOX1     ZFX     SOX1$\\longleftrightarrow$ZFX   \n",
       "3  3.293581e-24   6.035904e-23  SOX1   FOXN3   SOX1$\\longleftrightarrow$FOXN3   \n",
       "4  2.957958e-17   1.816873e-16  SOX1   DNMT1   SOX1$\\longleftrightarrow$DNMT1   \n",
       "\n",
       "  TF1_Family   TF2_Family                   Family_Interaction  \n",
       "0        Sox           DM           Sox$\\longleftrightarrow$DM  \n",
       "1        Sox  Homeodomain  Sox$\\longleftrightarrow$Homeodomain  \n",
       "2        Sox      C2H2 ZF      Sox$\\longleftrightarrow$C2H2 ZF  \n",
       "3        Sox     Forkhead     Sox$\\longleftrightarrow$Forkhead  \n",
       "4        Sox         CxxC         Sox$\\longleftrightarrow$CxxC  "
      ]
     },
     "execution_count": 20,
     "metadata": {},
     "output_type": "execute_result"
    }
   ],
   "source": [
    "df.head()"
   ]
  },
  {
   "cell_type": "code",
   "execution_count": 21,
   "metadata": {},
   "outputs": [],
   "source": [
    "df['filter_interaction'] = df['filter_interaction'].apply(lambda x: x.replace('<-->',r'$\\longleftrightarrow$'))"
   ]
  },
  {
   "cell_type": "code",
   "execution_count": 22,
   "metadata": {},
   "outputs": [
    {
     "data": {
      "text/html": [
       "<div>\n",
       "<style scoped>\n",
       "    .dataframe tbody tr th:only-of-type {\n",
       "        vertical-align: middle;\n",
       "    }\n",
       "\n",
       "    .dataframe tbody tr th {\n",
       "        vertical-align: top;\n",
       "    }\n",
       "\n",
       "    .dataframe thead th {\n",
       "        text-align: right;\n",
       "    }\n",
       "</style>\n",
       "<table border=\"1\" class=\"dataframe\">\n",
       "  <thead>\n",
       "    <tr style=\"text-align: right;\">\n",
       "      <th></th>\n",
       "      <th>filter_interaction</th>\n",
       "      <th>example_no</th>\n",
       "      <th>motif1</th>\n",
       "      <th>motif1_qval</th>\n",
       "      <th>motif2</th>\n",
       "      <th>motif2_qval</th>\n",
       "      <th>mean_distance</th>\n",
       "      <th>mean_distance_bg</th>\n",
       "      <th>num_obs</th>\n",
       "      <th>num_obs_bg</th>\n",
       "      <th>pval</th>\n",
       "      <th>adjusted_pval</th>\n",
       "      <th>TF1</th>\n",
       "      <th>TF2</th>\n",
       "      <th>TF_Interaction</th>\n",
       "      <th>TF1_Family</th>\n",
       "      <th>TF2_Family</th>\n",
       "      <th>Family_Interaction</th>\n",
       "    </tr>\n",
       "  </thead>\n",
       "  <tbody>\n",
       "    <tr>\n",
       "      <th>0</th>\n",
       "      <td>filter1$\\longleftrightarrow$filter5</td>\n",
       "      <td>202</td>\n",
       "      <td>M1605_1.02</td>\n",
       "      <td>0.006896</td>\n",
       "      <td>M0632_1.02</td>\n",
       "      <td>0.003285</td>\n",
       "      <td>66.0</td>\n",
       "      <td>6.0</td>\n",
       "      <td>83.0</td>\n",
       "      <td>158.0</td>\n",
       "      <td>7.714699e-23</td>\n",
       "      <td>1.119701e-21</td>\n",
       "      <td>SOX1</td>\n",
       "      <td>DMRTA2</td>\n",
       "      <td>SOX1$\\longleftrightarrow$DMRTA2</td>\n",
       "      <td>Sox</td>\n",
       "      <td>DM</td>\n",
       "      <td>Sox$\\longleftrightarrow$DM</td>\n",
       "    </tr>\n",
       "    <tr>\n",
       "      <th>1</th>\n",
       "      <td>filter1$\\longleftrightarrow$filter8</td>\n",
       "      <td>205</td>\n",
       "      <td>M1605_1.02</td>\n",
       "      <td>0.006896</td>\n",
       "      <td>M0891_1.02</td>\n",
       "      <td>0.001884</td>\n",
       "      <td>150.0</td>\n",
       "      <td>150.0</td>\n",
       "      <td>168.0</td>\n",
       "      <td>170.0</td>\n",
       "      <td>4.364537e-15</td>\n",
       "      <td>1.985006e-14</td>\n",
       "      <td>SOX1</td>\n",
       "      <td>TLX2</td>\n",
       "      <td>SOX1$\\longleftrightarrow$TLX2</td>\n",
       "      <td>Sox</td>\n",
       "      <td>Homeodomain</td>\n",
       "      <td>Sox$\\longleftrightarrow$Homeodomain</td>\n",
       "    </tr>\n",
       "    <tr>\n",
       "      <th>2</th>\n",
       "      <td>filter1$\\longleftrightarrow$filter9</td>\n",
       "      <td>206</td>\n",
       "      <td>M1605_1.02</td>\n",
       "      <td>0.006896</td>\n",
       "      <td>M6547_1.02</td>\n",
       "      <td>0.013717</td>\n",
       "      <td>378.0</td>\n",
       "      <td>72.0</td>\n",
       "      <td>132.0</td>\n",
       "      <td>143.0</td>\n",
       "      <td>2.338611e-15</td>\n",
       "      <td>1.108221e-14</td>\n",
       "      <td>SOX1</td>\n",
       "      <td>ZFX</td>\n",
       "      <td>SOX1$\\longleftrightarrow$ZFX</td>\n",
       "      <td>Sox</td>\n",
       "      <td>C2H2 ZF</td>\n",
       "      <td>Sox$\\longleftrightarrow$C2H2 ZF</td>\n",
       "    </tr>\n",
       "    <tr>\n",
       "      <th>3</th>\n",
       "      <td>filter1$\\longleftrightarrow$filter12</td>\n",
       "      <td>209</td>\n",
       "      <td>M1605_1.02</td>\n",
       "      <td>0.006896</td>\n",
       "      <td>M0756_1.02</td>\n",
       "      <td>0.003686</td>\n",
       "      <td>438.0</td>\n",
       "      <td>42.0</td>\n",
       "      <td>100.0</td>\n",
       "      <td>113.0</td>\n",
       "      <td>3.293581e-24</td>\n",
       "      <td>6.035904e-23</td>\n",
       "      <td>SOX1</td>\n",
       "      <td>FOXN3</td>\n",
       "      <td>SOX1$\\longleftrightarrow$FOXN3</td>\n",
       "      <td>Sox</td>\n",
       "      <td>Forkhead</td>\n",
       "      <td>Sox$\\longleftrightarrow$Forkhead</td>\n",
       "    </tr>\n",
       "    <tr>\n",
       "      <th>4</th>\n",
       "      <td>filter1$\\longleftrightarrow$filter13</td>\n",
       "      <td>210</td>\n",
       "      <td>M1605_1.02</td>\n",
       "      <td>0.006896</td>\n",
       "      <td>M0609_1.02</td>\n",
       "      <td>0.000225</td>\n",
       "      <td>162.0</td>\n",
       "      <td>234.0</td>\n",
       "      <td>151.0</td>\n",
       "      <td>86.0</td>\n",
       "      <td>2.957958e-17</td>\n",
       "      <td>1.816873e-16</td>\n",
       "      <td>SOX1</td>\n",
       "      <td>DNMT1</td>\n",
       "      <td>SOX1$\\longleftrightarrow$DNMT1</td>\n",
       "      <td>Sox</td>\n",
       "      <td>CxxC</td>\n",
       "      <td>Sox$\\longleftrightarrow$CxxC</td>\n",
       "    </tr>\n",
       "  </tbody>\n",
       "</table>\n",
       "</div>"
      ],
      "text/plain": [
       "                     filter_interaction  example_no      motif1  motif1_qval  \\\n",
       "0   filter1$\\longleftrightarrow$filter5         202  M1605_1.02     0.006896   \n",
       "1   filter1$\\longleftrightarrow$filter8         205  M1605_1.02     0.006896   \n",
       "2   filter1$\\longleftrightarrow$filter9         206  M1605_1.02     0.006896   \n",
       "3  filter1$\\longleftrightarrow$filter12         209  M1605_1.02     0.006896   \n",
       "4  filter1$\\longleftrightarrow$filter13         210  M1605_1.02     0.006896   \n",
       "\n",
       "       motif2  motif2_qval  mean_distance  mean_distance_bg  num_obs  \\\n",
       "0  M0632_1.02     0.003285           66.0               6.0     83.0   \n",
       "1  M0891_1.02     0.001884          150.0             150.0    168.0   \n",
       "2  M6547_1.02     0.013717          378.0              72.0    132.0   \n",
       "3  M0756_1.02     0.003686          438.0              42.0    100.0   \n",
       "4  M0609_1.02     0.000225          162.0             234.0    151.0   \n",
       "\n",
       "   num_obs_bg          pval  adjusted_pval   TF1     TF2  \\\n",
       "0       158.0  7.714699e-23   1.119701e-21  SOX1  DMRTA2   \n",
       "1       170.0  4.364537e-15   1.985006e-14  SOX1    TLX2   \n",
       "2       143.0  2.338611e-15   1.108221e-14  SOX1     ZFX   \n",
       "3       113.0  3.293581e-24   6.035904e-23  SOX1   FOXN3   \n",
       "4        86.0  2.957958e-17   1.816873e-16  SOX1   DNMT1   \n",
       "\n",
       "                    TF_Interaction TF1_Family   TF2_Family  \\\n",
       "0  SOX1$\\longleftrightarrow$DMRTA2        Sox           DM   \n",
       "1    SOX1$\\longleftrightarrow$TLX2        Sox  Homeodomain   \n",
       "2     SOX1$\\longleftrightarrow$ZFX        Sox      C2H2 ZF   \n",
       "3   SOX1$\\longleftrightarrow$FOXN3        Sox     Forkhead   \n",
       "4   SOX1$\\longleftrightarrow$DNMT1        Sox         CxxC   \n",
       "\n",
       "                    Family_Interaction  \n",
       "0           Sox$\\longleftrightarrow$DM  \n",
       "1  Sox$\\longleftrightarrow$Homeodomain  \n",
       "2      Sox$\\longleftrightarrow$C2H2 ZF  \n",
       "3     Sox$\\longleftrightarrow$Forkhead  \n",
       "4         Sox$\\longleftrightarrow$CxxC  "
      ]
     },
     "execution_count": 22,
     "metadata": {},
     "output_type": "execute_result"
    }
   ],
   "source": [
    "df.head()"
   ]
  },
  {
   "cell_type": "code",
   "execution_count": 23,
   "metadata": {},
   "outputs": [],
   "source": [
    "df.to_csv(f'{output_path}/Human-Promoter_interactions_{suffix}.csv')"
   ]
  },
  {
   "cell_type": "markdown",
   "metadata": {},
   "source": [
    "### Distribution of individual TF or TF family interactions"
   ]
  },
  {
   "cell_type": "code",
   "execution_count": 24,
   "metadata": {
    "scrolled": false
   },
   "outputs": [
    {
     "data": {
      "image/png": "[encoded data removed]",
      "text/plain": [
       "<Figure size 1800x600 with 1 Axes>"
      ]
     },
     "metadata": {},
     "output_type": "display_data"
    }
   ],
   "source": [
    "plot_frequent_interactions(df, intr_level='Family_Interaction', first_n=15, store_pdf_path=f'{output_path}/Human_TF-Fams_supp_{suffix}.pdf')"
   ]
  },
  {
   "cell_type": "markdown",
   "metadata": {},
   "source": [
    "### Plot interaction distance distribution"
   ]
  },
  {
   "cell_type": "code",
   "execution_count": 25,
   "metadata": {
    "scrolled": false
   },
   "outputs": [
    {
     "data": {
      "image/png": "[encoded data removed]",
      "text/plain": [
       "<Figure size 800x600 with 1 Axes>"
      ]
     },
     "metadata": {},
     "output_type": "display_data"
    }
   ],
   "source": [
    "plot_interaction_distance_distribution(df, nbins=50, fig_size=(8,6))"
   ]
  },
  {
   "cell_type": "code",
   "execution_count": 26,
   "metadata": {},
   "outputs": [
    {
     "data": {
      "text/plain": [
       "(192.4801578601184, 168.0)"
      ]
     },
     "execution_count": 26,
     "metadata": {},
     "output_type": "execute_result"
    }
   ],
   "source": [
    "df['mean_distance'].mean(), df['mean_distance'].median()"
   ]
  },
  {
   "cell_type": "markdown",
   "metadata": {},
   "source": [
    "### Most frequent interactions and their respective interaction distances"
   ]
  },
  {
   "cell_type": "code",
   "execution_count": 27,
   "metadata": {},
   "outputs": [
    {
     "data": {
      "image/png": "[encoded data removed]",
      "text/plain": [
       "<Figure size 1800x500 with 2 Axes>"
      ]
     },
     "metadata": {},
     "output_type": "display_data"
    }
   ],
   "source": [
    "plot_interactions_and_distances_boxplot(df, first_n=15, sort_distances=False, add_sub_caption=True, show_median_dist=True, store_pdf_path=f'{output_path}/human_promoter_main_distance_boxplot_{suffix}.pdf')"
   ]
  },
  {
   "cell_type": "code",
   "execution_count": 28,
   "metadata": {},
   "outputs": [
    {
     "data": {
      "image/png": "[encoded data removed]",
      "text/plain": [
       "<Figure size 1800x500 with 2 Axes>"
      ]
     },
     "metadata": {},
     "output_type": "display_data"
    }
   ],
   "source": [
    "plot_interactions_and_distances_histogram(df, first_n=15, dist_nbins=25, add_sub_caption=True, show_median_dist=True, store_pdf_path=f'{output_path}/human_promoter_main_distance_histogram_{suffix}.pdf')"
   ]
  },
  {
   "cell_type": "markdown",
   "metadata": {},
   "source": [
    "### Annotate Interactions using TRRUSTv2 (and other sources)"
   ]
  },
  {
   "cell_type": "markdown",
   "metadata": {},
   "source": [
    "#### Read TRRUSTv2 interactions"
   ]
  },
  {
   "cell_type": "code",
   "execution_count": 29,
   "metadata": {},
   "outputs": [],
   "source": [
    "#dictionaries with genes/TFs as keys and [target_gene/TF, role, PUBMID ID] as value\n",
    "with open('/s/jawar/i/nobackup/Saira/motif_databases/Human_Chromatin/TrustV2/human_co-regulate_dict.pckl','rb') as f:\n",
    "    human_dict = pickle.load(f)"
   ]
  },
  {
   "cell_type": "code",
   "execution_count": 30,
   "metadata": {},
   "outputs": [],
   "source": [
    "df['Interaction_in_TRUSTv2'] = df['TF_Interaction'].apply(db_annotate_interaction, intr_dict = human_dict)"
   ]
  },
  {
   "cell_type": "code",
   "execution_count": 31,
   "metadata": {},
   "outputs": [],
   "source": [
    "df_resTRUSTv2 = df[df['Interaction_in_TRUSTv2']==1]"
   ]
  },
  {
   "cell_type": "code",
   "execution_count": 32,
   "metadata": {},
   "outputs": [],
   "source": [
    "df_resTRUSTv2x = df_resTRUSTv2[['TF_Interaction','TF1_Family','TF2_Family','adjusted_pval']].sort_values(by='adjusted_pval').drop_duplicates('TF_Interaction')"
   ]
  },
  {
   "cell_type": "code",
   "execution_count": 33,
   "metadata": {},
   "outputs": [
    {
     "data": {
      "text/html": [
       "<div>\n",
       "<style scoped>\n",
       "    .dataframe tbody tr th:only-of-type {\n",
       "        vertical-align: middle;\n",
       "    }\n",
       "\n",
       "    .dataframe tbody tr th {\n",
       "        vertical-align: top;\n",
       "    }\n",
       "\n",
       "    .dataframe thead th {\n",
       "        text-align: right;\n",
       "    }\n",
       "</style>\n",
       "<table border=\"1\" class=\"dataframe\">\n",
       "  <thead>\n",
       "    <tr style=\"text-align: right;\">\n",
       "      <th></th>\n",
       "      <th>TF_Interaction</th>\n",
       "      <th>TF1_Family</th>\n",
       "      <th>TF2_Family</th>\n",
       "      <th>adjusted_pval</th>\n",
       "    </tr>\n",
       "  </thead>\n",
       "  <tbody>\n",
       "    <tr>\n",
       "      <th>1962</th>\n",
       "      <td>DNMT1$\\longleftrightarrow$EGR1</td>\n",
       "      <td>C2H2 ZF</td>\n",
       "      <td>CxxC</td>\n",
       "      <td>1.932109e-21</td>\n",
       "    </tr>\n",
       "    <tr>\n",
       "      <th>3660</th>\n",
       "      <td>DNMT1$\\longleftrightarrow$LCOR</td>\n",
       "      <td>Pipsqueak</td>\n",
       "      <td>CxxC</td>\n",
       "      <td>1.180544e-20</td>\n",
       "    </tr>\n",
       "    <tr>\n",
       "      <th>3152</th>\n",
       "      <td>DNMT1$\\longleftrightarrow$ESR1</td>\n",
       "      <td>Nuclear receptor</td>\n",
       "      <td>CxxC</td>\n",
       "      <td>1.124069e-18</td>\n",
       "    </tr>\n",
       "    <tr>\n",
       "      <th>1930</th>\n",
       "      <td>EGR1$\\longleftrightarrow$LCOR</td>\n",
       "      <td>C2H2 ZF</td>\n",
       "      <td>Pipsqueak</td>\n",
       "      <td>1.273169e-17</td>\n",
       "    </tr>\n",
       "    <tr>\n",
       "      <th>4495</th>\n",
       "      <td>DNMT1$\\longleftrightarrow$SP4</td>\n",
       "      <td>C2H2 ZF</td>\n",
       "      <td>CxxC</td>\n",
       "      <td>5.222619e-16</td>\n",
       "    </tr>\n",
       "    <tr>\n",
       "      <th>1633</th>\n",
       "      <td>EGR1$\\longleftrightarrow$SP4</td>\n",
       "      <td>C2H2 ZF</td>\n",
       "      <td>C2H2 ZF</td>\n",
       "      <td>1.031384e-12</td>\n",
       "    </tr>\n",
       "    <tr>\n",
       "      <th>3159</th>\n",
       "      <td>LCOR$\\longleftrightarrow$ESR1</td>\n",
       "      <td>Nuclear receptor</td>\n",
       "      <td>Pipsqueak</td>\n",
       "      <td>1.250176e-12</td>\n",
       "    </tr>\n",
       "    <tr>\n",
       "      <th>1919</th>\n",
       "      <td>EGR1$\\longleftrightarrow$ESR1</td>\n",
       "      <td>C2H2 ZF</td>\n",
       "      <td>Nuclear receptor</td>\n",
       "      <td>1.323268e-12</td>\n",
       "    </tr>\n",
       "    <tr>\n",
       "      <th>3149</th>\n",
       "      <td>ESR1$\\longleftrightarrow$SP4</td>\n",
       "      <td>Nuclear receptor</td>\n",
       "      <td>C2H2 ZF</td>\n",
       "      <td>1.206493e-06</td>\n",
       "    </tr>\n",
       "  </tbody>\n",
       "</table>\n",
       "</div>"
      ],
      "text/plain": [
       "                      TF_Interaction        TF1_Family        TF2_Family  \\\n",
       "1962  DNMT1$\\longleftrightarrow$EGR1           C2H2 ZF              CxxC   \n",
       "3660  DNMT1$\\longleftrightarrow$LCOR         Pipsqueak              CxxC   \n",
       "3152  DNMT1$\\longleftrightarrow$ESR1  Nuclear receptor              CxxC   \n",
       "1930   EGR1$\\longleftrightarrow$LCOR           C2H2 ZF         Pipsqueak   \n",
       "4495   DNMT1$\\longleftrightarrow$SP4           C2H2 ZF              CxxC   \n",
       "1633    EGR1$\\longleftrightarrow$SP4           C2H2 ZF           C2H2 ZF   \n",
       "3159   LCOR$\\longleftrightarrow$ESR1  Nuclear receptor         Pipsqueak   \n",
       "1919   EGR1$\\longleftrightarrow$ESR1           C2H2 ZF  Nuclear receptor   \n",
       "3149    ESR1$\\longleftrightarrow$SP4  Nuclear receptor           C2H2 ZF   \n",
       "\n",
       "      adjusted_pval  \n",
       "1962   1.932109e-21  \n",
       "3660   1.180544e-20  \n",
       "3152   1.124069e-18  \n",
       "1930   1.273169e-17  \n",
       "4495   5.222619e-16  \n",
       "1633   1.031384e-12  \n",
       "3159   1.250176e-12  \n",
       "1919   1.323268e-12  \n",
       "3149   1.206493e-06  "
      ]
     },
     "execution_count": 33,
     "metadata": {},
     "output_type": "execute_result"
    }
   ],
   "source": [
    "df_resTRUSTv2x"
   ]
  },
  {
   "cell_type": "code",
   "execution_count": 34,
   "metadata": {},
   "outputs": [],
   "source": [
    "df_resTRUSTv2x.to_csv(f'{output_path}/Human_ATTN_TRRUSTv2_{suffix}.csv')"
   ]
  },
  {
   "cell_type": "markdown",
   "metadata": {},
   "source": [
    "### Annotate Interactions using HIPPIE database"
   ]
  },
  {
   "cell_type": "markdown",
   "metadata": {},
   "source": [
    "#### Read hippie interactions"
   ]
  },
  {
   "cell_type": "code",
   "execution_count": 35,
   "metadata": {},
   "outputs": [],
   "source": [
    "#dictionaries with genes/TFs as keys and [target_gene/TF, role, PUBMID ID] as value\n",
    "with open('/s/jawar/i/nobackup/Saira/motif_databases/Human_Chromatin/hippie/interactions_dict.pckl','rb') as f:\n",
    "    human_dict = pickle.load(f)"
   ]
  },
  {
   "cell_type": "code",
   "execution_count": 36,
   "metadata": {},
   "outputs": [
    {
     "data": {
      "text/plain": [
       "13744"
      ]
     },
     "execution_count": 36,
     "metadata": {},
     "output_type": "execute_result"
    }
   ],
   "source": [
    "len(human_dict.keys())"
   ]
  },
  {
   "cell_type": "code",
   "execution_count": 37,
   "metadata": {},
   "outputs": [],
   "source": [
    "for key,value in human_dict.items():\n",
    "    human_dict[key] = np.array([[val, '', '0'] for val in value])"
   ]
  },
  {
   "cell_type": "code",
   "execution_count": 38,
   "metadata": {},
   "outputs": [],
   "source": [
    "df['Interaction_in_HIPPIE'] = df['TF_Interaction'].apply(db_annotate_interaction, intr_dict = human_dict)"
   ]
  },
  {
   "cell_type": "code",
   "execution_count": 39,
   "metadata": {},
   "outputs": [],
   "source": [
    "df_resHIPPIE = df[df['Interaction_in_HIPPIE']==1]"
   ]
  },
  {
   "cell_type": "code",
   "execution_count": 40,
   "metadata": {},
   "outputs": [],
   "source": [
    "df_resHIPPIEx = df_resHIPPIE[['TF_Interaction','TF1_Family','TF2_Family','adjusted_pval']].sort_values(by='adjusted_pval').drop_duplicates('TF_Interaction')"
   ]
  },
  {
   "cell_type": "code",
   "execution_count": 41,
   "metadata": {},
   "outputs": [
    {
     "data": {
      "text/html": [
       "<div>\n",
       "<style scoped>\n",
       "    .dataframe tbody tr th:only-of-type {\n",
       "        vertical-align: middle;\n",
       "    }\n",
       "\n",
       "    .dataframe tbody tr th {\n",
       "        vertical-align: top;\n",
       "    }\n",
       "\n",
       "    .dataframe thead th {\n",
       "        text-align: right;\n",
       "    }\n",
       "</style>\n",
       "<table border=\"1\" class=\"dataframe\">\n",
       "  <thead>\n",
       "    <tr style=\"text-align: right;\">\n",
       "      <th></th>\n",
       "      <th>TF_Interaction</th>\n",
       "      <th>TF1_Family</th>\n",
       "      <th>TF2_Family</th>\n",
       "      <th>adjusted_pval</th>\n",
       "    </tr>\n",
       "  </thead>\n",
       "  <tbody>\n",
       "    <tr>\n",
       "      <th>4415</th>\n",
       "      <td>DNMT1$\\longleftrightarrow$KDM2B</td>\n",
       "      <td>CxxC</td>\n",
       "      <td>CxxC</td>\n",
       "      <td>4.454151e-30</td>\n",
       "    </tr>\n",
       "    <tr>\n",
       "      <th>2400</th>\n",
       "      <td>LCOR$\\longleftrightarrow$KDM2B</td>\n",
       "      <td>Pipsqueak</td>\n",
       "      <td>CxxC</td>\n",
       "      <td>8.329536e-23</td>\n",
       "    </tr>\n",
       "    <tr>\n",
       "      <th>1926</th>\n",
       "      <td>EGR1$\\longleftrightarrow$SOX3</td>\n",
       "      <td>C2H2 ZF</td>\n",
       "      <td>Sox</td>\n",
       "      <td>2.482832e-21</td>\n",
       "    </tr>\n",
       "    <tr>\n",
       "      <th>3143</th>\n",
       "      <td>KDM2B$\\longleftrightarrow$ESR1</td>\n",
       "      <td>Nuclear receptor</td>\n",
       "      <td>CxxC</td>\n",
       "      <td>9.584394e-21</td>\n",
       "    </tr>\n",
       "    <tr>\n",
       "      <th>3660</th>\n",
       "      <td>DNMT1$\\longleftrightarrow$LCOR</td>\n",
       "      <td>Pipsqueak</td>\n",
       "      <td>CxxC</td>\n",
       "      <td>1.180544e-20</td>\n",
       "    </tr>\n",
       "    <tr>\n",
       "      <th>3113</th>\n",
       "      <td>ESR1$\\longleftrightarrow$ARID2</td>\n",
       "      <td>Nuclear receptor</td>\n",
       "      <td>ARID/BRIGHT,RFX</td>\n",
       "      <td>9.587440e-20</td>\n",
       "    </tr>\n",
       "    <tr>\n",
       "      <th>3152</th>\n",
       "      <td>DNMT1$\\longleftrightarrow$ESR1</td>\n",
       "      <td>Nuclear receptor</td>\n",
       "      <td>CxxC</td>\n",
       "      <td>1.124069e-18</td>\n",
       "    </tr>\n",
       "    <tr>\n",
       "      <th>3134</th>\n",
       "      <td>SOX1$\\longleftrightarrow$ESR1</td>\n",
       "      <td>Nuclear receptor</td>\n",
       "      <td>Sox</td>\n",
       "      <td>4.791568e-18</td>\n",
       "    </tr>\n",
       "    <tr>\n",
       "      <th>3136</th>\n",
       "      <td>ESR1$\\longleftrightarrow$ZHX1</td>\n",
       "      <td>Nuclear receptor</td>\n",
       "      <td>Homeodomain</td>\n",
       "      <td>3.923343e-17</td>\n",
       "    </tr>\n",
       "    <tr>\n",
       "      <th>3112</th>\n",
       "      <td>SOX3$\\longleftrightarrow$ESR1</td>\n",
       "      <td>Nuclear receptor</td>\n",
       "      <td>Sox</td>\n",
       "      <td>1.796496e-15</td>\n",
       "    </tr>\n",
       "    <tr>\n",
       "      <th>2838</th>\n",
       "      <td>IRX4$\\longleftrightarrow$ESR1</td>\n",
       "      <td>Homeodomain</td>\n",
       "      <td>Nuclear receptor</td>\n",
       "      <td>4.071339e-15</td>\n",
       "    </tr>\n",
       "    <tr>\n",
       "      <th>3144</th>\n",
       "      <td>SP7$\\longleftrightarrow$ESR1</td>\n",
       "      <td>Nuclear receptor</td>\n",
       "      <td>C2H2 ZF</td>\n",
       "      <td>3.775693e-13</td>\n",
       "    </tr>\n",
       "    <tr>\n",
       "      <th>3159</th>\n",
       "      <td>LCOR$\\longleftrightarrow$ESR1</td>\n",
       "      <td>Nuclear receptor</td>\n",
       "      <td>Pipsqueak</td>\n",
       "      <td>1.250176e-12</td>\n",
       "    </tr>\n",
       "    <tr>\n",
       "      <th>1919</th>\n",
       "      <td>EGR1$\\longleftrightarrow$ESR1</td>\n",
       "      <td>C2H2 ZF</td>\n",
       "      <td>Nuclear receptor</td>\n",
       "      <td>1.323268e-12</td>\n",
       "    </tr>\n",
       "    <tr>\n",
       "      <th>549</th>\n",
       "      <td>FOXN3$\\longleftrightarrow$ESR1</td>\n",
       "      <td>Forkhead</td>\n",
       "      <td>Nuclear receptor</td>\n",
       "      <td>5.182436e-12</td>\n",
       "    </tr>\n",
       "    <tr>\n",
       "      <th>4514</th>\n",
       "      <td>TLX2$\\longleftrightarrow$HLX</td>\n",
       "      <td>Homeodomain</td>\n",
       "      <td>Homeodomain</td>\n",
       "      <td>6.301252e-08</td>\n",
       "    </tr>\n",
       "    <tr>\n",
       "      <th>3659</th>\n",
       "      <td>LCOR$\\longleftrightarrow$HLX</td>\n",
       "      <td>Pipsqueak</td>\n",
       "      <td>Homeodomain</td>\n",
       "      <td>1.620884e-05</td>\n",
       "    </tr>\n",
       "    <tr>\n",
       "      <th>2016</th>\n",
       "      <td>HHEX$\\longleftrightarrow$KDM2B</td>\n",
       "      <td>Homeodomain</td>\n",
       "      <td>CxxC</td>\n",
       "      <td>4.999435e-05</td>\n",
       "    </tr>\n",
       "    <tr>\n",
       "      <th>4125</th>\n",
       "      <td>FOXN3$\\longleftrightarrow$HLX</td>\n",
       "      <td>Forkhead</td>\n",
       "      <td>Homeodomain</td>\n",
       "      <td>2.555665e-04</td>\n",
       "    </tr>\n",
       "    <tr>\n",
       "      <th>1972</th>\n",
       "      <td>TLX2$\\longleftrightarrow$HHEX</td>\n",
       "      <td>Homeodomain</td>\n",
       "      <td>Homeodomain</td>\n",
       "      <td>8.923798e-04</td>\n",
       "    </tr>\n",
       "    <tr>\n",
       "      <th>1417</th>\n",
       "      <td>ZNF32$\\longleftrightarrow$HHEX</td>\n",
       "      <td>C2H2 ZF</td>\n",
       "      <td>Homeodomain</td>\n",
       "      <td>1.181182e-03</td>\n",
       "    </tr>\n",
       "  </tbody>\n",
       "</table>\n",
       "</div>"
      ],
      "text/plain": [
       "                       TF_Interaction        TF1_Family        TF2_Family  \\\n",
       "4415  DNMT1$\\longleftrightarrow$KDM2B              CxxC              CxxC   \n",
       "2400   LCOR$\\longleftrightarrow$KDM2B         Pipsqueak              CxxC   \n",
       "1926    EGR1$\\longleftrightarrow$SOX3           C2H2 ZF               Sox   \n",
       "3143   KDM2B$\\longleftrightarrow$ESR1  Nuclear receptor              CxxC   \n",
       "3660   DNMT1$\\longleftrightarrow$LCOR         Pipsqueak              CxxC   \n",
       "3113   ESR1$\\longleftrightarrow$ARID2  Nuclear receptor   ARID/BRIGHT,RFX   \n",
       "3152   DNMT1$\\longleftrightarrow$ESR1  Nuclear receptor              CxxC   \n",
       "3134    SOX1$\\longleftrightarrow$ESR1  Nuclear receptor               Sox   \n",
       "3136    ESR1$\\longleftrightarrow$ZHX1  Nuclear receptor       Homeodomain   \n",
       "3112    SOX3$\\longleftrightarrow$ESR1  Nuclear receptor               Sox   \n",
       "2838    IRX4$\\longleftrightarrow$ESR1       Homeodomain  Nuclear receptor   \n",
       "3144     SP7$\\longleftrightarrow$ESR1  Nuclear receptor           C2H2 ZF   \n",
       "3159    LCOR$\\longleftrightarrow$ESR1  Nuclear receptor         Pipsqueak   \n",
       "1919    EGR1$\\longleftrightarrow$ESR1           C2H2 ZF  Nuclear receptor   \n",
       "549    FOXN3$\\longleftrightarrow$ESR1          Forkhead  Nuclear receptor   \n",
       "4514     TLX2$\\longleftrightarrow$HLX       Homeodomain       Homeodomain   \n",
       "3659     LCOR$\\longleftrightarrow$HLX         Pipsqueak       Homeodomain   \n",
       "2016   HHEX$\\longleftrightarrow$KDM2B       Homeodomain              CxxC   \n",
       "4125    FOXN3$\\longleftrightarrow$HLX          Forkhead       Homeodomain   \n",
       "1972    TLX2$\\longleftrightarrow$HHEX       Homeodomain       Homeodomain   \n",
       "1417   ZNF32$\\longleftrightarrow$HHEX           C2H2 ZF       Homeodomain   \n",
       "\n",
       "      adjusted_pval  \n",
       "4415   4.454151e-30  \n",
       "2400   8.329536e-23  \n",
       "1926   2.482832e-21  \n",
       "3143   9.584394e-21  \n",
       "3660   1.180544e-20  \n",
       "3113   9.587440e-20  \n",
       "3152   1.124069e-18  \n",
       "3134   4.791568e-18  \n",
       "3136   3.923343e-17  \n",
       "3112   1.796496e-15  \n",
       "2838   4.071339e-15  \n",
       "3144   3.775693e-13  \n",
       "3159   1.250176e-12  \n",
       "1919   1.323268e-12  \n",
       "549    5.182436e-12  \n",
       "4514   6.301252e-08  \n",
       "3659   1.620884e-05  \n",
       "2016   4.999435e-05  \n",
       "4125   2.555665e-04  \n",
       "1972   8.923798e-04  \n",
       "1417   1.181182e-03  "
      ]
     },
     "execution_count": 41,
     "metadata": {},
     "output_type": "execute_result"
    }
   ],
   "source": [
    "df_resHIPPIEx"
   ]
  },
  {
   "cell_type": "code",
   "execution_count": 42,
   "metadata": {},
   "outputs": [],
   "source": [
    "df_resHIPPIEx.to_csv(f'{output_path}/Human_ATTN_HIPPIE_{suffix}.csv')"
   ]
  },
  {
   "cell_type": "code",
   "execution_count": null,
   "metadata": {},
   "outputs": [],
   "source": []
  }
 ],
 "metadata": {
  "kernelspec": {
   "display_name": "Python 3 (ipykernel)",
   "language": "python",
   "name": "python3"
  },
  "language_info": {
   "codemirror_mode": {
    "name": "ipython",
    "version": 3
   },
   "file_extension": ".py",
   "mimetype": "text/x-python",
   "name": "python",
   "nbconvert_exporter": "python",
   "pygments_lexer": "ipython3",
   "version": "3.10.10"
  }
 },
 "nbformat": 4,
 "nbformat_minor": 2
}
