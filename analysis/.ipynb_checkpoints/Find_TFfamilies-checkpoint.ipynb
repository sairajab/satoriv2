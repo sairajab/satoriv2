{
 "cells": [
  {
   "cell_type": "code",
   "execution_count": 28,
   "id": "2a093608",
   "metadata": {},
   "outputs": [],
   "source": [
    "import pandas as pd\n",
    "import sys\n",
    "\n",
    "sys.path.insert(0,'../satori')\n",
    "\n",
    "from postprocess import *"
   ]
  },
  {
   "cell_type": "code",
   "execution_count": 29,
   "id": "a0937ce1",
   "metadata": {},
   "outputs": [],
   "source": [
    "file = \"/s/jawar/i/nobackup/Saira/latest/satori_v2/TF_info/TF_Information_all_motifs.txt\""
   ]
  },
  {
   "cell_type": "code",
   "execution_count": 30,
   "id": "f3ff241f",
   "metadata": {},
   "outputs": [
    {
     "name": "stderr",
     "output_type": "stream",
     "text": [
      "/tmp/ipykernel_3593643/2704400854.py:1: DtypeWarning: Columns (19) have mixed types. Specify dtype option on import or set low_memory=False.\n",
      "  df_annotate = pd.read_csv(file, sep='\\t')\n"
     ]
    }
   ],
   "source": [
    "df_annotate = pd.read_csv(file, sep='\\t')"
   ]
  },
  {
   "cell_type": "code",
   "execution_count": 31,
   "id": "d346e9a0",
   "metadata": {},
   "outputs": [],
   "source": [
    "pairs_file = \"../create_dataset/tf_pairs_40.txt\""
   ]
  },
  {
   "cell_type": "code",
   "execution_count": 32,
   "id": "a749f093",
   "metadata": {},
   "outputs": [],
   "source": [
    "f = open(pairs_file , \"r\").readlines()\n",
    "TFS = []\n",
    "for line in f:\n",
    "    tf1 , tf2 = line.split()\n",
    "    if tf1 not in TFS:\n",
    "        TFS.append(tf1)\n",
    "    if tf2 not in TFS:\n",
    "        TFS.append(tf2)\n",
    "    "
   ]
  },
  {
   "cell_type": "code",
   "execution_count": 33,
   "id": "3fa9d018",
   "metadata": {},
   "outputs": [
    {
     "data": {
      "text/html": [
       "<div>\n",
       "<style scoped>\n",
       "    .dataframe tbody tr th:only-of-type {\n",
       "        vertical-align: middle;\n",
       "    }\n",
       "\n",
       "    .dataframe tbody tr th {\n",
       "        vertical-align: top;\n",
       "    }\n",
       "\n",
       "    .dataframe thead th {\n",
       "        text-align: right;\n",
       "    }\n",
       "</style>\n",
       "<table border=\"1\" class=\"dataframe\">\n",
       "  <thead>\n",
       "    <tr style=\"text-align: right;\">\n",
       "      <th></th>\n",
       "      <th>TF_ID</th>\n",
       "      <th>Family_ID</th>\n",
       "      <th>TSource_ID</th>\n",
       "      <th>Motif_ID</th>\n",
       "      <th>MSource_ID</th>\n",
       "      <th>DBID</th>\n",
       "      <th>TF_Name</th>\n",
       "      <th>TF_Species</th>\n",
       "      <th>TF_Status</th>\n",
       "      <th>Family_Name</th>\n",
       "      <th>...</th>\n",
       "      <th>MSource_Year</th>\n",
       "      <th>PMID</th>\n",
       "      <th>MSource_Version</th>\n",
       "      <th>SR_Model</th>\n",
       "      <th>SR_NoThreshold</th>\n",
       "      <th>TfSource_Name</th>\n",
       "      <th>TfSource_URL</th>\n",
       "      <th>TfSource_Year</th>\n",
       "      <th>TfSource_Month</th>\n",
       "      <th>TfSource_Day</th>\n",
       "    </tr>\n",
       "  </thead>\n",
       "  <tbody>\n",
       "    <tr>\n",
       "      <th>0</th>\n",
       "      <td>T000001_2.00</td>\n",
       "      <td>F001_2.00</td>\n",
       "      <td>TS12_2.00</td>\n",
       "      <td>.</td>\n",
       "      <td>.</td>\n",
       "      <td>BRADI2G60554</td>\n",
       "      <td>BRADI2G60554</td>\n",
       "      <td>Brachypodium_distachyon</td>\n",
       "      <td>N</td>\n",
       "      <td>ABF1,B3</td>\n",
       "      <td>...</td>\n",
       "      <td>.</td>\n",
       "      <td>.</td>\n",
       "      <td>.</td>\n",
       "      <td>SequenceIdentity</td>\n",
       "      <td>True</td>\n",
       "      <td>Ensembl</td>\n",
       "      <td>http://www.ensembl.org/</td>\n",
       "      <td>2018</td>\n",
       "      <td>Dec</td>\n",
       "      <td>8</td>\n",
       "    </tr>\n",
       "    <tr>\n",
       "      <th>1</th>\n",
       "      <td>T000002_2.00</td>\n",
       "      <td>F001_2.00</td>\n",
       "      <td>TS12_2.00</td>\n",
       "      <td>.</td>\n",
       "      <td>.</td>\n",
       "      <td>LPERR05G06870</td>\n",
       "      <td>LPERR05G06870</td>\n",
       "      <td>Leersia_perrieri</td>\n",
       "      <td>N</td>\n",
       "      <td>ABF1,B3</td>\n",
       "      <td>...</td>\n",
       "      <td>.</td>\n",
       "      <td>.</td>\n",
       "      <td>.</td>\n",
       "      <td>SequenceIdentity</td>\n",
       "      <td>True</td>\n",
       "      <td>Ensembl</td>\n",
       "      <td>http://www.ensembl.org/</td>\n",
       "      <td>2018</td>\n",
       "      <td>Dec</td>\n",
       "      <td>8</td>\n",
       "    </tr>\n",
       "    <tr>\n",
       "      <th>2</th>\n",
       "      <td>T000003_2.00</td>\n",
       "      <td>F002_2.00</td>\n",
       "      <td>TS04_2.00</td>\n",
       "      <td>.</td>\n",
       "      <td>.</td>\n",
       "      <td>CPAG_02544</td>\n",
       "      <td>CPAG_02544</td>\n",
       "      <td>Candida_parapsilosis</td>\n",
       "      <td>N</td>\n",
       "      <td>ABF1</td>\n",
       "      <td>...</td>\n",
       "      <td>.</td>\n",
       "      <td>.</td>\n",
       "      <td>.</td>\n",
       "      <td>SequenceIdentity</td>\n",
       "      <td>True</td>\n",
       "      <td>Broad</td>\n",
       "      <td>http://www.broadinstitute.org/</td>\n",
       "      <td>2016</td>\n",
       "      <td>May</td>\n",
       "      <td>1</td>\n",
       "    </tr>\n",
       "    <tr>\n",
       "      <th>3</th>\n",
       "      <td>T000004_2.00</td>\n",
       "      <td>F002_2.00</td>\n",
       "      <td>TS04_2.00</td>\n",
       "      <td>.</td>\n",
       "      <td>.</td>\n",
       "      <td>PTSG_00627</td>\n",
       "      <td>PTSG_00627</td>\n",
       "      <td>Salpingoeca_rosetta</td>\n",
       "      <td>N</td>\n",
       "      <td>ABF1</td>\n",
       "      <td>...</td>\n",
       "      <td>.</td>\n",
       "      <td>.</td>\n",
       "      <td>.</td>\n",
       "      <td>SequenceIdentity</td>\n",
       "      <td>True</td>\n",
       "      <td>Broad</td>\n",
       "      <td>http://www.broadinstitute.org/</td>\n",
       "      <td>2016</td>\n",
       "      <td>May</td>\n",
       "      <td>1</td>\n",
       "    </tr>\n",
       "    <tr>\n",
       "      <th>4</th>\n",
       "      <td>T000005_2.00</td>\n",
       "      <td>F002_2.00</td>\n",
       "      <td>TS04_2.00</td>\n",
       "      <td>.</td>\n",
       "      <td>.</td>\n",
       "      <td>WUBG_06707</td>\n",
       "      <td>WUBG_06707</td>\n",
       "      <td>Wuchereria_bancrofti</td>\n",
       "      <td>N</td>\n",
       "      <td>ABF1</td>\n",
       "      <td>...</td>\n",
       "      <td>.</td>\n",
       "      <td>.</td>\n",
       "      <td>.</td>\n",
       "      <td>SequenceIdentity</td>\n",
       "      <td>True</td>\n",
       "      <td>Broad</td>\n",
       "      <td>http://www.broadinstitute.org/</td>\n",
       "      <td>2016</td>\n",
       "      <td>May</td>\n",
       "      <td>1</td>\n",
       "    </tr>\n",
       "  </tbody>\n",
       "</table>\n",
       "<p>5 rows × 28 columns</p>\n",
       "</div>"
      ],
      "text/plain": [
       "          TF_ID  Family_ID TSource_ID Motif_ID MSource_ID           DBID  \\\n",
       "0  T000001_2.00  F001_2.00  TS12_2.00        .          .   BRADI2G60554   \n",
       "1  T000002_2.00  F001_2.00  TS12_2.00        .          .  LPERR05G06870   \n",
       "2  T000003_2.00  F002_2.00  TS04_2.00        .          .     CPAG_02544   \n",
       "3  T000004_2.00  F002_2.00  TS04_2.00        .          .     PTSG_00627   \n",
       "4  T000005_2.00  F002_2.00  TS04_2.00        .          .     WUBG_06707   \n",
       "\n",
       "         TF_Name               TF_Species TF_Status Family_Name  ...  \\\n",
       "0   BRADI2G60554  Brachypodium_distachyon         N     ABF1,B3  ...   \n",
       "1  LPERR05G06870         Leersia_perrieri         N     ABF1,B3  ...   \n",
       "2     CPAG_02544     Candida_parapsilosis         N        ABF1  ...   \n",
       "3     PTSG_00627      Salpingoeca_rosetta         N        ABF1  ...   \n",
       "4     WUBG_06707     Wuchereria_bancrofti         N        ABF1  ...   \n",
       "\n",
       "  MSource_Year  PMID  MSource_Version          SR_Model SR_NoThreshold  \\\n",
       "0            .     .                .  SequenceIdentity           True   \n",
       "1            .     .                .  SequenceIdentity           True   \n",
       "2            .     .                .  SequenceIdentity           True   \n",
       "3            .     .                .  SequenceIdentity           True   \n",
       "4            .     .                .  SequenceIdentity           True   \n",
       "\n",
       "  TfSource_Name                    TfSource_URL TfSource_Year TfSource_Month  \\\n",
       "0       Ensembl         http://www.ensembl.org/          2018            Dec   \n",
       "1       Ensembl         http://www.ensembl.org/          2018            Dec   \n",
       "2         Broad  http://www.broadinstitute.org/          2016            May   \n",
       "3         Broad  http://www.broadinstitute.org/          2016            May   \n",
       "4         Broad  http://www.broadinstitute.org/          2016            May   \n",
       "\n",
       "  TfSource_Day  \n",
       "0            8  \n",
       "1            8  \n",
       "2            1  \n",
       "3            1  \n",
       "4            1  \n",
       "\n",
       "[5 rows x 28 columns]"
      ]
     },
     "execution_count": 33,
     "metadata": {},
     "output_type": "execute_result"
    }
   ],
   "source": [
    "df_annotate.head()"
   ]
  },
  {
   "cell_type": "code",
   "execution_count": 37,
   "id": "de3e9d70",
   "metadata": {},
   "outputs": [
    {
     "data": {
      "text/plain": [
       "0                     .\n",
       "1                     .\n",
       "2                     .\n",
       "3                     .\n",
       "4                     .\n",
       "               ...     \n",
       "10879317    M11486_2.00\n",
       "10879318              .\n",
       "10879319              .\n",
       "10879320              .\n",
       "10879321              .\n",
       "Name: Motif_ID, Length: 10879322, dtype: object"
      ]
     },
     "execution_count": 37,
     "metadata": {},
     "output_type": "execute_result"
    }
   ],
   "source": [
    "df_annotate[\"Motif_ID\"]"
   ]
  },
  {
   "cell_type": "code",
   "execution_count": 59,
   "id": "d18214c8",
   "metadata": {},
   "outputs": [],
   "source": [
    "TF_family = {}\n",
    "for tf in TFS:\n",
    "    temp = df_annotate[(df_annotate[\"TF_Name\"] == tf) & (df_annotate[\"TF_Species\"] == \"Homo_sapiens\")][\"Family_Name\"].tolist()\n",
    "    if len(temp) > 0:\n",
    "        TF_family[tf] = temp[0]\n",
    "    else: \n",
    "        temp = df_annotate[(df_annotate[\"TF_Name\"] == tf) & (df_annotate[\"TF_Species\"] == \"Mus_musculus\")][\"Family_Name\"].tolist()\n",
    "        if len(temp) > 0:\n",
    "            TF_family[tf] = temp[0]\n"
   ]
  },
  {
   "cell_type": "code",
   "execution_count": 62,
   "id": "22ca1b53",
   "metadata": {},
   "outputs": [
    {
     "data": {
      "text/plain": [
       "17"
      ]
     },
     "execution_count": 62,
     "metadata": {},
     "output_type": "execute_result"
    }
   ],
   "source": [
    "len(TF_family)"
   ]
  },
  {
   "cell_type": "code",
   "execution_count": 64,
   "id": "253a1d75",
   "metadata": {},
   "outputs": [
    {
     "data": {
      "text/html": [
       "<div>\n",
       "<style scoped>\n",
       "    .dataframe tbody tr th:only-of-type {\n",
       "        vertical-align: middle;\n",
       "    }\n",
       "\n",
       "    .dataframe tbody tr th {\n",
       "        vertical-align: top;\n",
       "    }\n",
       "\n",
       "    .dataframe thead th {\n",
       "        text-align: right;\n",
       "    }\n",
       "</style>\n",
       "<table border=\"1\" class=\"dataframe\">\n",
       "  <thead>\n",
       "    <tr style=\"text-align: right;\">\n",
       "      <th></th>\n",
       "      <th>TF_ID</th>\n",
       "      <th>Family_ID</th>\n",
       "      <th>TSource_ID</th>\n",
       "      <th>Motif_ID</th>\n",
       "      <th>MSource_ID</th>\n",
       "      <th>DBID</th>\n",
       "      <th>TF_Name</th>\n",
       "      <th>TF_Species</th>\n",
       "      <th>TF_Status</th>\n",
       "      <th>Family_Name</th>\n",
       "      <th>...</th>\n",
       "      <th>MSource_Year</th>\n",
       "      <th>PMID</th>\n",
       "      <th>MSource_Version</th>\n",
       "      <th>SR_Model</th>\n",
       "      <th>SR_NoThreshold</th>\n",
       "      <th>TfSource_Name</th>\n",
       "      <th>TfSource_URL</th>\n",
       "      <th>TfSource_Year</th>\n",
       "      <th>TfSource_Month</th>\n",
       "      <th>TfSource_Day</th>\n",
       "    </tr>\n",
       "  </thead>\n",
       "  <tbody>\n",
       "  </tbody>\n",
       "</table>\n",
       "<p>0 rows × 28 columns</p>\n",
       "</div>"
      ],
      "text/plain": [
       "Empty DataFrame\n",
       "Columns: [TF_ID, Family_ID, TSource_ID, Motif_ID, MSource_ID, DBID, TF_Name, TF_Species, TF_Status, Family_Name, DBDs, DBD_Count, Cutoff, DBID.1, Motif_Type, MSource_Identifier, MSource_Type, MSource_Author, MSource_Year, PMID, MSource_Version, SR_Model, SR_NoThreshold, TfSource_Name, TfSource_URL, TfSource_Year, TfSource_Month, TfSource_Day]\n",
       "Index: []\n",
       "\n",
       "[0 rows x 28 columns]"
      ]
     },
     "execution_count": 64,
     "metadata": {},
     "output_type": "execute_result"
    }
   ],
   "source": [
    "df_annotate[(df_annotate[\"TF_Name\"] == \"ZNF187\")]\n"
   ]
  },
  {
   "cell_type": "code",
   "execution_count": 71,
   "id": "f1d22f53",
   "metadata": {},
   "outputs": [],
   "source": [
    "family_interactions = []\n",
    "for line in f:\n",
    "    tf1 , tf2 = line.split()\n",
    "    if tf1 in TF_family and  tf2 in TF_family :\n",
    "        family_interactions.append((TF_family[tf1],TF_family[tf2]))\n",
    "    if tf1 in TF_family and tf2 not in TF_family:\n",
    "        family_interactions.append((TF_family[tf1],tf2))\n",
    "    if tf1 not in TF_family and tf2 in TF_family:\n",
    "        family_interactions.append((tf1,TF_family[tf2]))\n"
   ]
  },
  {
   "cell_type": "code",
   "execution_count": 79,
   "id": "af388a32",
   "metadata": {},
   "outputs": [
    {
     "data": {
      "text/plain": [
       "[('bHLH', 'ZNF187'),\n",
       " ('AP-2', 'bHLH'),\n",
       " ('ARID/BRIGHT', 'C2H2 ZF'),\n",
       " ('bHLH', 'ZNF187'),\n",
       " ('bHLH', 'bHLH'),\n",
       " ('bHLH', 'ENSG00000250542'),\n",
       " ('ID2', 'bHLH'),\n",
       " ('ARID/BRIGHT', 'bHLH'),\n",
       " ('bHLH', 'bHLH'),\n",
       " ('bZIP', 'bZIP'),\n",
       " ('bHLH', 'bHLH'),\n",
       " ('bHLH', 'bHLH'),\n",
       " ('bHLH', 'ZNF187'),\n",
       " ('ARID/BRIGHT', 'bHLH'),\n",
       " ('ARID/BRIGHT', 'bZIP'),\n",
       " ('bHLH', 'C2H2 ZF'),\n",
       " ('AP-2', 'ARID/BRIGHT'),\n",
       " ('bHLH', 'bHLH'),\n",
       " ('bHLH', 'bHLH'),\n",
       " ('ARID/BRIGHT', 'bHLH'),\n",
       " ('ARID/BRIGHT', 'bHLH'),\n",
       " ('AP-2', 'ZNF187'),\n",
       " ('bHLH', 'ZNF187'),\n",
       " ('ARID/BRIGHT', 'bHLH'),\n",
       " ('bHLH', 'C2H2 ZF'),\n",
       " ('bHLH', 'ZNF187'),\n",
       " ('bHLH', 'bHLH'),\n",
       " ('ARID/BRIGHT', 'bHLH'),\n",
       " ('ARID/BRIGHT', 'ZNF187'),\n",
       " ('bHLH', 'C2H2 ZF'),\n",
       " ('bHLH', 'bHLH'),\n",
       " ('ARID/BRIGHT', 'bHLH'),\n",
       " ('AP-2', 'bZIP'),\n",
       " ('bHLH', 'bZIP'),\n",
       " ('bHLH', 'bHLH'),\n",
       " ('ARID/BRIGHT', 'ARID/BRIGHT'),\n",
       " ('bHLH', 'C2H2 ZF'),\n",
       " ('bHLH', 'bZIP'),\n",
       " ('bHLH', 'bHLH'),\n",
       " ('ID2', 'bHLH')]"
      ]
     },
     "execution_count": 79,
     "metadata": {},
     "output_type": "execute_result"
    }
   ],
   "source": [
    "family_interactions"
   ]
  },
  {
   "cell_type": "code",
   "execution_count": 78,
   "id": "0f2017d3",
   "metadata": {},
   "outputs": [
    {
     "data": {
      "text/plain": [
       "{('AP-2', 'ARID/BRIGHT'),\n",
       " ('AP-2', 'ZNF187'),\n",
       " ('AP-2', 'bHLH'),\n",
       " ('AP-2', 'bZIP'),\n",
       " ('ARID/BRIGHT', 'ARID/BRIGHT'),\n",
       " ('ARID/BRIGHT', 'C2H2 ZF'),\n",
       " ('ARID/BRIGHT', 'ZNF187'),\n",
       " ('ARID/BRIGHT', 'bHLH'),\n",
       " ('ARID/BRIGHT', 'bZIP'),\n",
       " ('ID2', 'bHLH'),\n",
       " ('bHLH', 'C2H2 ZF'),\n",
       " ('bHLH', 'ENSG00000250542'),\n",
       " ('bHLH', 'ZNF187'),\n",
       " ('bHLH', 'bHLH'),\n",
       " ('bHLH', 'bZIP'),\n",
       " ('bZIP', 'bZIP')}"
      ]
     },
     "execution_count": 78,
     "metadata": {},
     "output_type": "execute_result"
    }
   ],
   "source": [
    "set(family_interactions)"
   ]
  },
  {
   "cell_type": "code",
   "execution_count": null,
   "id": "2a6b581d",
   "metadata": {},
   "outputs": [],
   "source": []
  }
 ],
 "metadata": {
  "kernelspec": {
   "display_name": "Python 3 (ipykernel)",
   "language": "python",
   "name": "python3"
  },
  "language_info": {
   "codemirror_mode": {
    "name": "ipython",
    "version": 3
   },
   "file_extension": ".py",
   "mimetype": "text/x-python",
   "name": "python",
   "nbconvert_exporter": "python",
   "pygments_lexer": "ipython3",
   "version": "3.10.10"
  }
 },
 "nbformat": 4,
 "nbformat_minor": 5
}
