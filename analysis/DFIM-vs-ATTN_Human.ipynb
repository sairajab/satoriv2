{
 "cells": [
  {
   "cell_type": "markdown",
   "metadata": {},
   "source": [
    "## Imports"
   ]
  },
  {
   "cell_type": "code",
   "execution_count": 1,
   "metadata": {},
   "outputs": [],
   "source": [
    "import pandas as pd\n",
    "import sys\n",
    "\n",
    "sys.path.insert(0,'../satori')\n",
    "\n",
    "from postprocess import *"
   ]
  },
  {
   "cell_type": "markdown",
   "metadata": {},
   "source": [
    "### Load the interaction results"
   ]
  },
  {
   "cell_type": "code",
   "execution_count": 2,
   "metadata": {},
   "outputs": [],
   "source": [
    "exp_name = \"../results/human_promoters/SPLIT_NEW/baseline/E1/\"\n",
    "satori_file = exp_name + \"Interactions_SATORI/interactions_summary_attnLimit-0.02999554731674315.txt\"\n",
    "fis_file = exp_name + \"Interactions_FIS/interactions_summary_attnLimit-0.txt\"\n",
    "\n",
    "\n",
    "#output = \"../results/human_promoters/LAST_exps/fhd_entropy/E2/\""
   ]
  },
  {
   "cell_type": "code",
   "execution_count": 3,
   "metadata": {},
   "outputs": [],
   "source": [
    "# For SATORI based interactions\n",
    "df_A = pd.read_csv(satori_file,sep='\\t')\n",
    "#df_A = pd.read_csv('../Results/Human_Promoter_Analysis_euclidean_v8d/Interactions_SATORI/interactions_summary_attnLimit-0.04.txt',sep='\\t')\n",
    "\n",
    "# For FIS based interactions\n",
    "df_B = pd.read_csv(fis_file,sep='\\t')\n",
    "#df_B = pd.read_csv('../Results/Human_Promoter_Analysis_euclidean_v8_fixed/Interactions_FIS/interactions_summary_attnLimit-0.txt',sep='\\t')"
   ]
  },
  {
   "cell_type": "markdown",
   "metadata": {},
   "source": [
    "### Load the annotation file"
   ]
  },
  {
   "cell_type": "code",
   "execution_count": 4,
   "metadata": {},
   "outputs": [],
   "source": [
    "fhd_file = \"/s/chromatin/k/nobackup/p/altsplice1/fahad/DeepLearning/Basset_Splicing_IR-iDiffIR/Analysis_For_none_network-typeB_lotus_posThresh-0.60/MEME_analysis/Homo_sapiens_2019_01_14_4_17_pm/TF_Information_all_motifs.txt\"\n",
    "df_annotate = pd.read_csv(fhd_file,sep='\\t')"
   ]
  },
  {
   "cell_type": "code",
   "execution_count": 7,
   "metadata": {},
   "outputs": [
    {
     "data": {
      "text/html": [
       "<div>\n",
       "<style scoped>\n",
       "    .dataframe tbody tr th:only-of-type {\n",
       "        vertical-align: middle;\n",
       "    }\n",
       "\n",
       "    .dataframe tbody tr th {\n",
       "        vertical-align: top;\n",
       "    }\n",
       "\n",
       "    .dataframe thead th {\n",
       "        text-align: right;\n",
       "    }\n",
       "</style>\n",
       "<table border=\"1\" class=\"dataframe\">\n",
       "  <thead>\n",
       "    <tr style=\"text-align: right;\">\n",
       "      <th></th>\n",
       "      <th>filter_interaction</th>\n",
       "      <th>example_no</th>\n",
       "      <th>motif1</th>\n",
       "      <th>motif1_qval</th>\n",
       "      <th>motif2</th>\n",
       "      <th>motif2_qval</th>\n",
       "      <th>mean_distance</th>\n",
       "      <th>mean_distance_bg</th>\n",
       "      <th>num_obs</th>\n",
       "      <th>num_obs_bg</th>\n",
       "      <th>pval</th>\n",
       "      <th>adjusted_pval</th>\n",
       "    </tr>\n",
       "  </thead>\n",
       "  <tbody>\n",
       "    <tr>\n",
       "      <th>0</th>\n",
       "      <td>filter1&lt;--&gt;filter5</td>\n",
       "      <td>202</td>\n",
       "      <td>M0891_1.02</td>\n",
       "      <td>0.028469</td>\n",
       "      <td>M1110_1.02</td>\n",
       "      <td>0.013498</td>\n",
       "      <td>18.0</td>\n",
       "      <td>450.0</td>\n",
       "      <td>76.0</td>\n",
       "      <td>223.0</td>\n",
       "      <td>0.997332</td>\n",
       "      <td>1.0</td>\n",
       "    </tr>\n",
       "    <tr>\n",
       "      <th>1</th>\n",
       "      <td>filter1&lt;--&gt;filter7</td>\n",
       "      <td>204</td>\n",
       "      <td>M0891_1.02</td>\n",
       "      <td>0.028469</td>\n",
       "      <td>M1605_1.02</td>\n",
       "      <td>0.017749</td>\n",
       "      <td>468.0</td>\n",
       "      <td>312.0</td>\n",
       "      <td>49.0</td>\n",
       "      <td>209.0</td>\n",
       "      <td>0.931746</td>\n",
       "      <td>1.0</td>\n",
       "    </tr>\n",
       "    <tr>\n",
       "      <th>2</th>\n",
       "      <td>filter1&lt;--&gt;filter8</td>\n",
       "      <td>205</td>\n",
       "      <td>M0891_1.02</td>\n",
       "      <td>0.028469</td>\n",
       "      <td>M0891_1.02</td>\n",
       "      <td>0.000013</td>\n",
       "      <td>18.0</td>\n",
       "      <td>342.0</td>\n",
       "      <td>52.0</td>\n",
       "      <td>244.0</td>\n",
       "      <td>0.999847</td>\n",
       "      <td>1.0</td>\n",
       "    </tr>\n",
       "    <tr>\n",
       "      <th>3</th>\n",
       "      <td>filter1&lt;--&gt;filter9</td>\n",
       "      <td>206</td>\n",
       "      <td>M0891_1.02</td>\n",
       "      <td>0.028469</td>\n",
       "      <td>M0408_1.02</td>\n",
       "      <td>0.036461</td>\n",
       "      <td>306.0</td>\n",
       "      <td>12.0</td>\n",
       "      <td>88.0</td>\n",
       "      <td>259.0</td>\n",
       "      <td>0.999998</td>\n",
       "      <td>1.0</td>\n",
       "    </tr>\n",
       "    <tr>\n",
       "      <th>4</th>\n",
       "      <td>filter1&lt;--&gt;filter10</td>\n",
       "      <td>207</td>\n",
       "      <td>M0891_1.02</td>\n",
       "      <td>0.028469</td>\n",
       "      <td>M0609_1.02</td>\n",
       "      <td>0.017444</td>\n",
       "      <td>54.0</td>\n",
       "      <td>408.0</td>\n",
       "      <td>73.0</td>\n",
       "      <td>233.0</td>\n",
       "      <td>0.998992</td>\n",
       "      <td>1.0</td>\n",
       "    </tr>\n",
       "    <tr>\n",
       "      <th>...</th>\n",
       "      <td>...</td>\n",
       "      <td>...</td>\n",
       "      <td>...</td>\n",
       "      <td>...</td>\n",
       "      <td>...</td>\n",
       "      <td>...</td>\n",
       "      <td>...</td>\n",
       "      <td>...</td>\n",
       "      <td>...</td>\n",
       "      <td>...</td>\n",
       "      <td>...</td>\n",
       "      <td>...</td>\n",
       "    </tr>\n",
       "    <tr>\n",
       "      <th>5969</th>\n",
       "      <td>filter187&lt;--&gt;filter192</td>\n",
       "      <td>19826</td>\n",
       "      <td>M0607_1.02</td>\n",
       "      <td>0.043917</td>\n",
       "      <td>M1605_1.02</td>\n",
       "      <td>0.039023</td>\n",
       "      <td>294.0</td>\n",
       "      <td>174.0</td>\n",
       "      <td>76.0</td>\n",
       "      <td>191.0</td>\n",
       "      <td>0.806959</td>\n",
       "      <td>1.0</td>\n",
       "    </tr>\n",
       "    <tr>\n",
       "      <th>5970</th>\n",
       "      <td>filter187&lt;--&gt;filter199</td>\n",
       "      <td>19833</td>\n",
       "      <td>M0607_1.02</td>\n",
       "      <td>0.043917</td>\n",
       "      <td>M0609_1.02</td>\n",
       "      <td>0.004823</td>\n",
       "      <td>126.0</td>\n",
       "      <td>48.0</td>\n",
       "      <td>128.0</td>\n",
       "      <td>119.0</td>\n",
       "      <td>0.886388</td>\n",
       "      <td>1.0</td>\n",
       "    </tr>\n",
       "    <tr>\n",
       "      <th>5971</th>\n",
       "      <td>filter189&lt;--&gt;filter192</td>\n",
       "      <td>19847</td>\n",
       "      <td>M0607_1.02</td>\n",
       "      <td>0.008165</td>\n",
       "      <td>M1605_1.02</td>\n",
       "      <td>0.039023</td>\n",
       "      <td>534.0</td>\n",
       "      <td>36.0</td>\n",
       "      <td>51.0</td>\n",
       "      <td>136.0</td>\n",
       "      <td>0.934184</td>\n",
       "      <td>1.0</td>\n",
       "    </tr>\n",
       "    <tr>\n",
       "      <th>5972</th>\n",
       "      <td>filter189&lt;--&gt;filter199</td>\n",
       "      <td>19854</td>\n",
       "      <td>M0607_1.02</td>\n",
       "      <td>0.008165</td>\n",
       "      <td>M0609_1.02</td>\n",
       "      <td>0.004823</td>\n",
       "      <td>36.0</td>\n",
       "      <td>174.0</td>\n",
       "      <td>82.0</td>\n",
       "      <td>75.0</td>\n",
       "      <td>0.381912</td>\n",
       "      <td>1.0</td>\n",
       "    </tr>\n",
       "    <tr>\n",
       "      <th>5973</th>\n",
       "      <td>filter192&lt;--&gt;filter199</td>\n",
       "      <td>19878</td>\n",
       "      <td>M1605_1.02</td>\n",
       "      <td>0.039023</td>\n",
       "      <td>M0609_1.02</td>\n",
       "      <td>0.004823</td>\n",
       "      <td>384.0</td>\n",
       "      <td>24.0</td>\n",
       "      <td>56.0</td>\n",
       "      <td>93.0</td>\n",
       "      <td>0.550679</td>\n",
       "      <td>1.0</td>\n",
       "    </tr>\n",
       "  </tbody>\n",
       "</table>\n",
       "<p>5974 rows × 12 columns</p>\n",
       "</div>"
      ],
      "text/plain": [
       "          filter_interaction  example_no      motif1  motif1_qval      motif2  \\\n",
       "0         filter1<-->filter5         202  M0891_1.02     0.028469  M1110_1.02   \n",
       "1         filter1<-->filter7         204  M0891_1.02     0.028469  M1605_1.02   \n",
       "2         filter1<-->filter8         205  M0891_1.02     0.028469  M0891_1.02   \n",
       "3         filter1<-->filter9         206  M0891_1.02     0.028469  M0408_1.02   \n",
       "4        filter1<-->filter10         207  M0891_1.02     0.028469  M0609_1.02   \n",
       "...                      ...         ...         ...          ...         ...   \n",
       "5969  filter187<-->filter192       19826  M0607_1.02     0.043917  M1605_1.02   \n",
       "5970  filter187<-->filter199       19833  M0607_1.02     0.043917  M0609_1.02   \n",
       "5971  filter189<-->filter192       19847  M0607_1.02     0.008165  M1605_1.02   \n",
       "5972  filter189<-->filter199       19854  M0607_1.02     0.008165  M0609_1.02   \n",
       "5973  filter192<-->filter199       19878  M1605_1.02     0.039023  M0609_1.02   \n",
       "\n",
       "      motif2_qval  mean_distance  mean_distance_bg  num_obs  num_obs_bg  \\\n",
       "0        0.013498           18.0             450.0     76.0       223.0   \n",
       "1        0.017749          468.0             312.0     49.0       209.0   \n",
       "2        0.000013           18.0             342.0     52.0       244.0   \n",
       "3        0.036461          306.0              12.0     88.0       259.0   \n",
       "4        0.017444           54.0             408.0     73.0       233.0   \n",
       "...           ...            ...               ...      ...         ...   \n",
       "5969     0.039023          294.0             174.0     76.0       191.0   \n",
       "5970     0.004823          126.0              48.0    128.0       119.0   \n",
       "5971     0.039023          534.0              36.0     51.0       136.0   \n",
       "5972     0.004823           36.0             174.0     82.0        75.0   \n",
       "5973     0.004823          384.0              24.0     56.0        93.0   \n",
       "\n",
       "          pval  adjusted_pval  \n",
       "0     0.997332            1.0  \n",
       "1     0.931746            1.0  \n",
       "2     0.999847            1.0  \n",
       "3     0.999998            1.0  \n",
       "4     0.998992            1.0  \n",
       "...        ...            ...  \n",
       "5969  0.806959            1.0  \n",
       "5970  0.886388            1.0  \n",
       "5971  0.934184            1.0  \n",
       "5972  0.381912            1.0  \n",
       "5973  0.550679            1.0  \n",
       "\n",
       "[5974 rows x 12 columns]"
      ]
     },
     "execution_count": 7,
     "metadata": {},
     "output_type": "execute_result"
    }
   ],
   "source": [
    "df_A"
   ]
  },
  {
   "cell_type": "code",
   "execution_count": 5,
   "metadata": {},
   "outputs": [
    {
     "data": {
      "text/plain": [
       "(1105, 12)"
      ]
     },
     "execution_count": 5,
     "metadata": {},
     "output_type": "execute_result"
    }
   ],
   "source": [
    "filter_data_on_thresholds(df_B, motifA_pval_cutoff=0.05, motifB_pval_cutoff=0.05).shape"
   ]
  },
  {
   "cell_type": "markdown",
   "metadata": {},
   "source": [
    "### Pre-process the interactions"
   ]
  },
  {
   "cell_type": "code",
   "execution_count": 6,
   "metadata": {},
   "outputs": [],
   "source": [
    "ATTN = preprocess_for_comparison(df_A, annotation_df=df_annotate)\n",
    "DFIM = preprocess_for_comparison(df_B, annotation_df=df_annotate)"
   ]
  },
  {
   "cell_type": "markdown",
   "metadata": {},
   "source": [
    "### Individual interactions analysis"
   ]
  },
  {
   "cell_type": "markdown",
   "metadata": {},
   "source": [
    "#### Get unique interactions per method and their intersection"
   ]
  },
  {
   "cell_type": "code",
   "execution_count": 7,
   "metadata": {},
   "outputs": [],
   "source": [
    "ATTN_unique, DFIM_unique, intersected = get_comparison_stats(DFIM, ATTN, intr_type='TF_Interaction')"
   ]
  },
  {
   "cell_type": "code",
   "execution_count": 26,
   "metadata": {},
   "outputs": [
    {
     "data": {
      "text/html": [
       "<div>\n",
       "<style scoped>\n",
       "    .dataframe tbody tr th:only-of-type {\n",
       "        vertical-align: middle;\n",
       "    }\n",
       "\n",
       "    .dataframe tbody tr th {\n",
       "        vertical-align: top;\n",
       "    }\n",
       "\n",
       "    .dataframe thead th {\n",
       "        text-align: right;\n",
       "    }\n",
       "</style>\n",
       "<table border=\"1\" class=\"dataframe\">\n",
       "  <thead>\n",
       "    <tr style=\"text-align: right;\">\n",
       "      <th></th>\n",
       "      <th>filter_interaction</th>\n",
       "      <th>example_no</th>\n",
       "      <th>motif1</th>\n",
       "      <th>motif1_qval</th>\n",
       "      <th>motif2</th>\n",
       "      <th>motif2_qval</th>\n",
       "      <th>mean_distance</th>\n",
       "      <th>mean_distance_bg</th>\n",
       "      <th>num_obs</th>\n",
       "      <th>num_obs_bg</th>\n",
       "      <th>pval</th>\n",
       "      <th>adjusted_pval</th>\n",
       "      <th>TF1</th>\n",
       "      <th>TF2</th>\n",
       "      <th>TF_Interaction</th>\n",
       "      <th>TF1_Family</th>\n",
       "      <th>TF2_Family</th>\n",
       "      <th>Family_Interaction</th>\n",
       "    </tr>\n",
       "  </thead>\n",
       "  <tbody>\n",
       "    <tr>\n",
       "      <th>1</th>\n",
       "      <td>filter1&lt;--&gt;filter8</td>\n",
       "      <td>205</td>\n",
       "      <td>M1605_1.02</td>\n",
       "      <td>0.006896</td>\n",
       "      <td>M0891_1.02</td>\n",
       "      <td>0.001884</td>\n",
       "      <td>150.0</td>\n",
       "      <td>150.0</td>\n",
       "      <td>168.0</td>\n",
       "      <td>170.0</td>\n",
       "      <td>4.364537e-15</td>\n",
       "      <td>1.985006e-14</td>\n",
       "      <td>SOX1</td>\n",
       "      <td>TLX2</td>\n",
       "      <td>SOX1$\\longleftrightarrow$TLX2</td>\n",
       "      <td>Sox</td>\n",
       "      <td>Homeodomain</td>\n",
       "      <td>Sox$\\longleftrightarrow$Homeodomain</td>\n",
       "    </tr>\n",
       "    <tr>\n",
       "      <th>6</th>\n",
       "      <td>filter1&lt;--&gt;filter17</td>\n",
       "      <td>214</td>\n",
       "      <td>M1605_1.02</td>\n",
       "      <td>0.006896</td>\n",
       "      <td>M0891_1.02</td>\n",
       "      <td>0.015949</td>\n",
       "      <td>6.0</td>\n",
       "      <td>504.0</td>\n",
       "      <td>112.0</td>\n",
       "      <td>155.0</td>\n",
       "      <td>1.342558e-20</td>\n",
       "      <td>1.368996e-19</td>\n",
       "      <td>SOX1</td>\n",
       "      <td>TLX2</td>\n",
       "      <td>SOX1$\\longleftrightarrow$TLX2</td>\n",
       "      <td>Sox</td>\n",
       "      <td>Homeodomain</td>\n",
       "      <td>Sox$\\longleftrightarrow$Homeodomain</td>\n",
       "    </tr>\n",
       "    <tr>\n",
       "      <th>7</th>\n",
       "      <td>filter1&lt;--&gt;filter23</td>\n",
       "      <td>220</td>\n",
       "      <td>M1605_1.02</td>\n",
       "      <td>0.006896</td>\n",
       "      <td>M0891_1.02</td>\n",
       "      <td>0.006944</td>\n",
       "      <td>78.0</td>\n",
       "      <td>204.0</td>\n",
       "      <td>119.0</td>\n",
       "      <td>154.0</td>\n",
       "      <td>1.481696e-11</td>\n",
       "      <td>4.204058e-11</td>\n",
       "      <td>SOX1</td>\n",
       "      <td>TLX2</td>\n",
       "      <td>SOX1$\\longleftrightarrow$TLX2</td>\n",
       "      <td>Sox</td>\n",
       "      <td>Homeodomain</td>\n",
       "      <td>Sox$\\longleftrightarrow$Homeodomain</td>\n",
       "    </tr>\n",
       "    <tr>\n",
       "      <th>8</th>\n",
       "      <td>filter1&lt;--&gt;filter24</td>\n",
       "      <td>221</td>\n",
       "      <td>M1605_1.02</td>\n",
       "      <td>0.006896</td>\n",
       "      <td>M0891_1.02</td>\n",
       "      <td>0.000769</td>\n",
       "      <td>84.0</td>\n",
       "      <td>168.0</td>\n",
       "      <td>110.0</td>\n",
       "      <td>128.0</td>\n",
       "      <td>5.318846e-14</td>\n",
       "      <td>2.093013e-13</td>\n",
       "      <td>SOX1</td>\n",
       "      <td>TLX2</td>\n",
       "      <td>SOX1$\\longleftrightarrow$TLX2</td>\n",
       "      <td>Sox</td>\n",
       "      <td>Homeodomain</td>\n",
       "      <td>Sox$\\longleftrightarrow$Homeodomain</td>\n",
       "    </tr>\n",
       "    <tr>\n",
       "      <th>16</th>\n",
       "      <td>filter1&lt;--&gt;filter36</td>\n",
       "      <td>233</td>\n",
       "      <td>M1605_1.02</td>\n",
       "      <td>0.006896</td>\n",
       "      <td>M0891_1.02</td>\n",
       "      <td>0.008725</td>\n",
       "      <td>360.0</td>\n",
       "      <td>318.0</td>\n",
       "      <td>93.0</td>\n",
       "      <td>98.0</td>\n",
       "      <td>5.900322e-19</td>\n",
       "      <td>4.698519e-18</td>\n",
       "      <td>SOX1</td>\n",
       "      <td>TLX2</td>\n",
       "      <td>SOX1$\\longleftrightarrow$TLX2</td>\n",
       "      <td>Sox</td>\n",
       "      <td>Homeodomain</td>\n",
       "      <td>Sox$\\longleftrightarrow$Homeodomain</td>\n",
       "    </tr>\n",
       "    <tr>\n",
       "      <th>...</th>\n",
       "      <td>...</td>\n",
       "      <td>...</td>\n",
       "      <td>...</td>\n",
       "      <td>...</td>\n",
       "      <td>...</td>\n",
       "      <td>...</td>\n",
       "      <td>...</td>\n",
       "      <td>...</td>\n",
       "      <td>...</td>\n",
       "      <td>...</td>\n",
       "      <td>...</td>\n",
       "      <td>...</td>\n",
       "      <td>...</td>\n",
       "      <td>...</td>\n",
       "      <td>...</td>\n",
       "      <td>...</td>\n",
       "      <td>...</td>\n",
       "      <td>...</td>\n",
       "    </tr>\n",
       "    <tr>\n",
       "      <th>4477</th>\n",
       "      <td>filter161&lt;--&gt;filter182</td>\n",
       "      <td>19179</td>\n",
       "      <td>M1605_1.02</td>\n",
       "      <td>0.040274</td>\n",
       "      <td>M0891_1.02</td>\n",
       "      <td>0.007582</td>\n",
       "      <td>60.0</td>\n",
       "      <td>282.0</td>\n",
       "      <td>23.0</td>\n",
       "      <td>70.0</td>\n",
       "      <td>2.165410e-04</td>\n",
       "      <td>2.772148e-04</td>\n",
       "      <td>SOX1</td>\n",
       "      <td>TLX2</td>\n",
       "      <td>SOX1$\\longleftrightarrow$TLX2</td>\n",
       "      <td>Sox</td>\n",
       "      <td>Homeodomain</td>\n",
       "      <td>Sox$\\longleftrightarrow$Homeodomain</td>\n",
       "    </tr>\n",
       "    <tr>\n",
       "      <th>4481</th>\n",
       "      <td>filter161&lt;--&gt;filter198</td>\n",
       "      <td>19195</td>\n",
       "      <td>M1605_1.02</td>\n",
       "      <td>0.040274</td>\n",
       "      <td>M0891_1.02</td>\n",
       "      <td>0.012882</td>\n",
       "      <td>282.0</td>\n",
       "      <td>60.0</td>\n",
       "      <td>68.0</td>\n",
       "      <td>161.0</td>\n",
       "      <td>2.129612e-12</td>\n",
       "      <td>6.764409e-12</td>\n",
       "      <td>SOX1</td>\n",
       "      <td>TLX2</td>\n",
       "      <td>SOX1$\\longleftrightarrow$TLX2</td>\n",
       "      <td>Sox</td>\n",
       "      <td>Homeodomain</td>\n",
       "      <td>Sox$\\longleftrightarrow$Homeodomain</td>\n",
       "    </tr>\n",
       "    <tr>\n",
       "      <th>4544</th>\n",
       "      <td>filter181&lt;--&gt;filter185</td>\n",
       "      <td>19732</td>\n",
       "      <td>M0891_1.02</td>\n",
       "      <td>0.000009</td>\n",
       "      <td>M1605_1.02</td>\n",
       "      <td>0.044528</td>\n",
       "      <td>396.0</td>\n",
       "      <td>210.0</td>\n",
       "      <td>106.0</td>\n",
       "      <td>229.0</td>\n",
       "      <td>1.862238e-24</td>\n",
       "      <td>3.543420e-23</td>\n",
       "      <td>TLX2</td>\n",
       "      <td>SOX1</td>\n",
       "      <td>SOX1$\\longleftrightarrow$TLX2</td>\n",
       "      <td>Homeodomain</td>\n",
       "      <td>Sox</td>\n",
       "      <td>Sox$\\longleftrightarrow$Homeodomain</td>\n",
       "    </tr>\n",
       "    <tr>\n",
       "      <th>4548</th>\n",
       "      <td>filter182&lt;--&gt;filter185</td>\n",
       "      <td>19749</td>\n",
       "      <td>M0891_1.02</td>\n",
       "      <td>0.007582</td>\n",
       "      <td>M1605_1.02</td>\n",
       "      <td>0.044528</td>\n",
       "      <td>192.0</td>\n",
       "      <td>18.0</td>\n",
       "      <td>23.0</td>\n",
       "      <td>99.0</td>\n",
       "      <td>2.103203e-04</td>\n",
       "      <td>2.695462e-04</td>\n",
       "      <td>TLX2</td>\n",
       "      <td>SOX1</td>\n",
       "      <td>SOX1$\\longleftrightarrow$TLX2</td>\n",
       "      <td>Homeodomain</td>\n",
       "      <td>Sox</td>\n",
       "      <td>Sox$\\longleftrightarrow$Homeodomain</td>\n",
       "    </tr>\n",
       "    <tr>\n",
       "      <th>4555</th>\n",
       "      <td>filter185&lt;--&gt;filter198</td>\n",
       "      <td>19807</td>\n",
       "      <td>M1605_1.02</td>\n",
       "      <td>0.044528</td>\n",
       "      <td>M0891_1.02</td>\n",
       "      <td>0.012882</td>\n",
       "      <td>6.0</td>\n",
       "      <td>108.0</td>\n",
       "      <td>68.0</td>\n",
       "      <td>231.0</td>\n",
       "      <td>1.338694e-12</td>\n",
       "      <td>4.370867e-12</td>\n",
       "      <td>SOX1</td>\n",
       "      <td>TLX2</td>\n",
       "      <td>SOX1$\\longleftrightarrow$TLX2</td>\n",
       "      <td>Sox</td>\n",
       "      <td>Homeodomain</td>\n",
       "      <td>Sox$\\longleftrightarrow$Homeodomain</td>\n",
       "    </tr>\n",
       "  </tbody>\n",
       "</table>\n",
       "<p>300 rows × 18 columns</p>\n",
       "</div>"
      ],
      "text/plain": [
       "          filter_interaction  example_no      motif1  motif1_qval      motif2  \\\n",
       "1         filter1<-->filter8         205  M1605_1.02     0.006896  M0891_1.02   \n",
       "6        filter1<-->filter17         214  M1605_1.02     0.006896  M0891_1.02   \n",
       "7        filter1<-->filter23         220  M1605_1.02     0.006896  M0891_1.02   \n",
       "8        filter1<-->filter24         221  M1605_1.02     0.006896  M0891_1.02   \n",
       "16       filter1<-->filter36         233  M1605_1.02     0.006896  M0891_1.02   \n",
       "...                      ...         ...         ...          ...         ...   \n",
       "4477  filter161<-->filter182       19179  M1605_1.02     0.040274  M0891_1.02   \n",
       "4481  filter161<-->filter198       19195  M1605_1.02     0.040274  M0891_1.02   \n",
       "4544  filter181<-->filter185       19732  M0891_1.02     0.000009  M1605_1.02   \n",
       "4548  filter182<-->filter185       19749  M0891_1.02     0.007582  M1605_1.02   \n",
       "4555  filter185<-->filter198       19807  M1605_1.02     0.044528  M0891_1.02   \n",
       "\n",
       "      motif2_qval  mean_distance  mean_distance_bg  num_obs  num_obs_bg  \\\n",
       "1        0.001884          150.0             150.0    168.0       170.0   \n",
       "6        0.015949            6.0             504.0    112.0       155.0   \n",
       "7        0.006944           78.0             204.0    119.0       154.0   \n",
       "8        0.000769           84.0             168.0    110.0       128.0   \n",
       "16       0.008725          360.0             318.0     93.0        98.0   \n",
       "...           ...            ...               ...      ...         ...   \n",
       "4477     0.007582           60.0             282.0     23.0        70.0   \n",
       "4481     0.012882          282.0              60.0     68.0       161.0   \n",
       "4544     0.044528          396.0             210.0    106.0       229.0   \n",
       "4548     0.044528          192.0              18.0     23.0        99.0   \n",
       "4555     0.012882            6.0             108.0     68.0       231.0   \n",
       "\n",
       "              pval  adjusted_pval   TF1   TF2                 TF_Interaction  \\\n",
       "1     4.364537e-15   1.985006e-14  SOX1  TLX2  SOX1$\\longleftrightarrow$TLX2   \n",
       "6     1.342558e-20   1.368996e-19  SOX1  TLX2  SOX1$\\longleftrightarrow$TLX2   \n",
       "7     1.481696e-11   4.204058e-11  SOX1  TLX2  SOX1$\\longleftrightarrow$TLX2   \n",
       "8     5.318846e-14   2.093013e-13  SOX1  TLX2  SOX1$\\longleftrightarrow$TLX2   \n",
       "16    5.900322e-19   4.698519e-18  SOX1  TLX2  SOX1$\\longleftrightarrow$TLX2   \n",
       "...            ...            ...   ...   ...                            ...   \n",
       "4477  2.165410e-04   2.772148e-04  SOX1  TLX2  SOX1$\\longleftrightarrow$TLX2   \n",
       "4481  2.129612e-12   6.764409e-12  SOX1  TLX2  SOX1$\\longleftrightarrow$TLX2   \n",
       "4544  1.862238e-24   3.543420e-23  TLX2  SOX1  SOX1$\\longleftrightarrow$TLX2   \n",
       "4548  2.103203e-04   2.695462e-04  TLX2  SOX1  SOX1$\\longleftrightarrow$TLX2   \n",
       "4555  1.338694e-12   4.370867e-12  SOX1  TLX2  SOX1$\\longleftrightarrow$TLX2   \n",
       "\n",
       "       TF1_Family   TF2_Family                   Family_Interaction  \n",
       "1             Sox  Homeodomain  Sox$\\longleftrightarrow$Homeodomain  \n",
       "6             Sox  Homeodomain  Sox$\\longleftrightarrow$Homeodomain  \n",
       "7             Sox  Homeodomain  Sox$\\longleftrightarrow$Homeodomain  \n",
       "8             Sox  Homeodomain  Sox$\\longleftrightarrow$Homeodomain  \n",
       "16            Sox  Homeodomain  Sox$\\longleftrightarrow$Homeodomain  \n",
       "...           ...          ...                                  ...  \n",
       "4477          Sox  Homeodomain  Sox$\\longleftrightarrow$Homeodomain  \n",
       "4481          Sox  Homeodomain  Sox$\\longleftrightarrow$Homeodomain  \n",
       "4544  Homeodomain          Sox  Sox$\\longleftrightarrow$Homeodomain  \n",
       "4548  Homeodomain          Sox  Sox$\\longleftrightarrow$Homeodomain  \n",
       "4555          Sox  Homeodomain  Sox$\\longleftrightarrow$Homeodomain  \n",
       "\n",
       "[300 rows x 18 columns]"
      ]
     },
     "execution_count": 26,
     "metadata": {},
     "output_type": "execute_result"
    }
   ],
   "source": [
    "ATTN[ATTN['TF_Interaction'] == \"SOX1$\\longleftrightarrow$TLX2\"]"
   ]
  },
  {
   "cell_type": "code",
   "execution_count": 9,
   "metadata": {},
   "outputs": [
    {
     "data": {
      "text/plain": [
       "227"
      ]
     },
     "execution_count": 9,
     "metadata": {},
     "output_type": "execute_result"
    }
   ],
   "source": [
    "len(set(DFIM_unique.keys()))"
   ]
  },
  {
   "cell_type": "code",
   "execution_count": 10,
   "metadata": {},
   "outputs": [
    {
     "name": "stdout",
     "output_type": "stream",
     "text": [
      "DFIM: 227, SATORI: 7, Common: 4\n"
     ]
    }
   ],
   "source": [
    "print(f\"DFIM: {len(set(DFIM_unique.keys()))}, SATORI: {len(set(ATTN_unique.keys()))}, Common: {len(intersected)}\")"
   ]
  },
  {
   "cell_type": "markdown",
   "metadata": {},
   "source": [
    "#### Comparison plot: individual interactions"
   ]
  },
  {
   "cell_type": "code",
   "execution_count": 26,
   "metadata": {},
   "outputs": [],
   "source": [
    "# The order of the arguments determine which method (used for inferring interactions) is being compared to the other\n",
    "df_res = common_interaction_stats(ATTN_unique, DFIM_unique)"
   ]
  },
  {
   "cell_type": "code",
   "execution_count": 11,
   "metadata": {},
   "outputs": [
    {
     "data": {
      "text/plain": [
       "r    228\n",
       "b     15\n",
       "Name: in_both, dtype: int64"
      ]
     },
     "execution_count": 11,
     "metadata": {},
     "output_type": "execute_result"
    }
   ],
   "source": [
    "df_res['in_both'].value_counts()"
   ]
  },
  {
   "cell_type": "code",
   "execution_count": 27,
   "metadata": {},
   "outputs": [
    {
     "data": {
      "image/png": "[encoded data removed]",
      "text/plain": [
       "<Figure size 900x600 with 1 Axes>"
      ]
     },
     "metadata": {},
     "output_type": "display_data"
    }
   ],
   "source": [
    "plot_interaction_comparison(df_res, first_n=15, xlabel='TF interaction', store_pdf_path=f'{output}/human_satori-vs-fis_TFs.pdf', fig_size=(9,6))"
   ]
  },
  {
   "cell_type": "markdown",
   "metadata": {},
   "source": [
    "### Family interactions analysis"
   ]
  },
  {
   "cell_type": "markdown",
   "metadata": {},
   "source": [
    "#### Get unique family interactions per method and their intersection"
   ]
  },
  {
   "cell_type": "code",
   "execution_count": 28,
   "metadata": {},
   "outputs": [],
   "source": [
    "ATTN_unique, DFIM_unique, intersected = get_comparison_stats(DFIM, ATTN, intr_type='Family_Interaction')"
   ]
  },
  {
   "cell_type": "code",
   "execution_count": 29,
   "metadata": {},
   "outputs": [
    {
     "name": "stdout",
     "output_type": "stream",
     "text": [
      "DFIM: 42, SATORI: 59, Common: 14\n"
     ]
    }
   ],
   "source": [
    "print(f\"DFIM: {len(set(DFIM_unique.keys()))}, SATORI: {len(set(ATTN_unique.keys()))}, Common: {len(intersected)}\")"
   ]
  },
  {
   "cell_type": "markdown",
   "metadata": {},
   "source": [
    "#### Comparison plot: family interactions"
   ]
  },
  {
   "cell_type": "code",
   "execution_count": 32,
   "metadata": {},
   "outputs": [],
   "source": [
    "# The order of the arguments determine which method (used for inferring interactions) is being compared to the other\n",
    "df_res = common_interaction_stats(ATTN_unique, DFIM_unique)"
   ]
  },
  {
   "cell_type": "code",
   "execution_count": 33,
   "metadata": {},
   "outputs": [
    {
     "data": {
      "image/png": "[encoded data removed]",
      "text/plain": [
       "<Figure size 900x600 with 1 Axes>"
      ]
     },
     "metadata": {},
     "output_type": "display_data"
    }
   ],
   "source": [
    "plot_interaction_comparison(df_res, first_n=10, xlabel='Family interaction', store_pdf_path=f'{output}/human_satori-vs-fis_Fams3.pdf', fig_size=(9,6))"
   ]
  },
  {
   "cell_type": "code",
   "execution_count": null,
   "metadata": {},
   "outputs": [],
   "source": []
  }
 ],
 "metadata": {
  "kernelspec": {
   "display_name": "Python 3 (ipykernel)",
   "language": "python",
   "name": "python3"
  },
  "language_info": {
   "codemirror_mode": {
    "name": "ipython",
    "version": 3
   },
   "file_extension": ".py",
   "mimetype": "text/x-python",
   "name": "python",
   "nbconvert_exporter": "python",
   "pygments_lexer": "ipython3",
   "version": "3.12.1"
  }
 },
 "nbformat": 4,
 "nbformat_minor": 2
}
