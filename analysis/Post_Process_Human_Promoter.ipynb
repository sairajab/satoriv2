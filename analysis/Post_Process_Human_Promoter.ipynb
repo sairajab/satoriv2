{
 "cells": [
  {
   "cell_type": "markdown",
   "metadata": {},
   "source": [
    "## Imports"
   ]
  },
  {
   "cell_type": "code",
   "execution_count": 2,
   "metadata": {},
   "outputs": [],
   "source": [
    "import pandas as pd\n",
    "import sys\n",
    "\n",
    "sys.path.insert(0,'../satori')\n",
    "\n",
    "from postprocess import *"
   ]
  },
  {
   "cell_type": "markdown",
   "metadata": {},
   "source": [
    "## Interaction data processing"
   ]
  },
  {
   "cell_type": "code",
   "execution_count": 5,
   "metadata": {},
   "outputs": [],
   "source": [
    "exp_name = \"../results/human_promoters/SPLIT_NEW/baseline/E1/\"\n",
    "\n",
    "interaction_file = \"Interactions_SATORI/interactions_summary_attnLimit-0.02999554731674315.txt\""
   ]
  },
  {
   "cell_type": "code",
   "execution_count": 44,
   "metadata": {},
   "outputs": [],
   "source": [
    "# For SATORI based interactions\n",
    "df,suffix = pd.read_csv(exp_name + interaction_file ,sep='\\t'),'SATORI'\n",
    "output_path = exp_name\n",
    "##df = pd.read_csv('../results/Human_Promoter_Analysis_euclidean_v8/Interactions_SATORI/interactions_summary_attnLimit-0.04.txt',sep='\\t')\n",
    "\n",
    "# For FIS based interactions\n",
    "#df,suffix = pd.read_csv(exp_name + '/Interactions_FIS/interactions_summary_attnLimit-0.txt',sep='\\t'),'FIS'\n",
    "#df = pd.read_csv('../results/Human_Promoter_Analysis_euclidean_v8_fixed/Interactions_FIS/interactions_summary_attnLimit-0.txt',sep='\\t')"
   ]
  },
  {
   "cell_type": "markdown",
   "metadata": {},
   "source": [
    "### Filter based on interaction and motif hit p-values, and keep the most significant interactions"
   ]
  },
  {
   "cell_type": "code",
   "execution_count": 45,
   "metadata": {},
   "outputs": [],
   "source": [
    "df = filter_data_on_thresholds(df, motifA_pval_cutoff=0.05, motifB_pval_cutoff=0.05)"
   ]
  },
  {
   "cell_type": "code",
   "execution_count": 46,
   "metadata": {},
   "outputs": [
    {
     "data": {
      "text/plain": [
       "(9, 12)"
      ]
     },
     "execution_count": 46,
     "metadata": {},
     "output_type": "execute_result"
    }
   ],
   "source": [
    "df.shape"
   ]
  },
  {
   "cell_type": "markdown",
   "metadata": {},
   "source": [
    "### Load the motif description file to annotate the interactions. \n",
    "Here we use CISBP (U toronto) motif description file. "
   ]
  },
  {
   "cell_type": "code",
   "execution_count": 9,
   "metadata": {},
   "outputs": [],
   "source": [
    "fhd_file = \"/s/chromatin/k/nobackup/p/altsplice1/fahad/DeepLearning/Basset_Splicing_IR-iDiffIR/Analysis_For_none_network-typeB_lotus_posThresh-0.60/MEME_analysis/Homo_sapiens_2019_01_14_4_17_pm/TF_Information_all_motifs.txt\"\n",
    "\n",
    "df_annotate = pd.read_csv(fhd_file,sep='\\t')"
   ]
  },
  {
   "cell_type": "code",
   "execution_count": 10,
   "metadata": {},
   "outputs": [
    {
     "data": {
      "text/html": [
       "<div>\n",
       "<style scoped>\n",
       "    .dataframe tbody tr th:only-of-type {\n",
       "        vertical-align: middle;\n",
       "    }\n",
       "\n",
       "    .dataframe tbody tr th {\n",
       "        vertical-align: top;\n",
       "    }\n",
       "\n",
       "    .dataframe thead th {\n",
       "        text-align: right;\n",
       "    }\n",
       "</style>\n",
       "<table border=\"1\" class=\"dataframe\">\n",
       "  <thead>\n",
       "    <tr style=\"text-align: right;\">\n",
       "      <th></th>\n",
       "      <th>TF_ID</th>\n",
       "      <th>Family_ID</th>\n",
       "      <th>TSource_ID</th>\n",
       "      <th>Motif_ID</th>\n",
       "      <th>MSource_ID</th>\n",
       "      <th>DBID</th>\n",
       "      <th>TF_Name</th>\n",
       "      <th>TF_Species</th>\n",
       "      <th>TF_Status</th>\n",
       "      <th>Family_Name</th>\n",
       "      <th>...</th>\n",
       "      <th>MSource_Type</th>\n",
       "      <th>MSource_Author</th>\n",
       "      <th>MSource_Year</th>\n",
       "      <th>PMID</th>\n",
       "      <th>MSource_Version</th>\n",
       "      <th>TfSource_Name</th>\n",
       "      <th>TfSource_URL</th>\n",
       "      <th>TfSource_Year</th>\n",
       "      <th>TfSource_Month</th>\n",
       "      <th>TfSource_Day</th>\n",
       "    </tr>\n",
       "  </thead>\n",
       "  <tbody>\n",
       "    <tr>\n",
       "      <th>0</th>\n",
       "      <td>T004843_1.02</td>\n",
       "      <td>F035_1.02</td>\n",
       "      <td>TS19_1.02</td>\n",
       "      <td>M2938_1.02</td>\n",
       "      <td>MS26_1.02</td>\n",
       "      <td>ENSG00000008196</td>\n",
       "      <td>TFAP2B</td>\n",
       "      <td>Homo_sapiens</td>\n",
       "      <td>D</td>\n",
       "      <td>AP-2</td>\n",
       "      <td>...</td>\n",
       "      <td>Transfac</td>\n",
       "      <td>Matys</td>\n",
       "      <td>2006</td>\n",
       "      <td>16381825</td>\n",
       "      <td>2014.2</td>\n",
       "      <td>Ensembl</td>\n",
       "      <td>http://www.ensembl.org/</td>\n",
       "      <td>2011</td>\n",
       "      <td>Oct</td>\n",
       "      <td>26</td>\n",
       "    </tr>\n",
       "    <tr>\n",
       "      <th>1</th>\n",
       "      <td>T004843_1.02</td>\n",
       "      <td>F035_1.02</td>\n",
       "      <td>TS19_1.02</td>\n",
       "      <td>M5917_1.02</td>\n",
       "      <td>MS20_1.02</td>\n",
       "      <td>ENSG00000008196</td>\n",
       "      <td>TFAP2B</td>\n",
       "      <td>Homo_sapiens</td>\n",
       "      <td>D</td>\n",
       "      <td>AP-2</td>\n",
       "      <td>...</td>\n",
       "      <td>SELEX</td>\n",
       "      <td>Jolma</td>\n",
       "      <td>2013</td>\n",
       "      <td>23332764</td>\n",
       "      <td>January 2013</td>\n",
       "      <td>Ensembl</td>\n",
       "      <td>http://www.ensembl.org/</td>\n",
       "      <td>2011</td>\n",
       "      <td>Oct</td>\n",
       "      <td>26</td>\n",
       "    </tr>\n",
       "    <tr>\n",
       "      <th>2</th>\n",
       "      <td>T004843_1.02</td>\n",
       "      <td>F035_1.02</td>\n",
       "      <td>TS19_1.02</td>\n",
       "      <td>M5918_1.02</td>\n",
       "      <td>MS20_1.02</td>\n",
       "      <td>ENSG00000008196</td>\n",
       "      <td>TFAP2B</td>\n",
       "      <td>Homo_sapiens</td>\n",
       "      <td>D</td>\n",
       "      <td>AP-2</td>\n",
       "      <td>...</td>\n",
       "      <td>SELEX</td>\n",
       "      <td>Jolma</td>\n",
       "      <td>2013</td>\n",
       "      <td>23332764</td>\n",
       "      <td>January 2013</td>\n",
       "      <td>Ensembl</td>\n",
       "      <td>http://www.ensembl.org/</td>\n",
       "      <td>2011</td>\n",
       "      <td>Oct</td>\n",
       "      <td>26</td>\n",
       "    </tr>\n",
       "    <tr>\n",
       "      <th>3</th>\n",
       "      <td>T004843_1.02</td>\n",
       "      <td>F035_1.02</td>\n",
       "      <td>TS19_1.02</td>\n",
       "      <td>M5919_1.02</td>\n",
       "      <td>MS20_1.02</td>\n",
       "      <td>ENSG00000008196</td>\n",
       "      <td>TFAP2B</td>\n",
       "      <td>Homo_sapiens</td>\n",
       "      <td>D</td>\n",
       "      <td>AP-2</td>\n",
       "      <td>...</td>\n",
       "      <td>SELEX</td>\n",
       "      <td>Jolma</td>\n",
       "      <td>2013</td>\n",
       "      <td>23332764</td>\n",
       "      <td>January 2013</td>\n",
       "      <td>Ensembl</td>\n",
       "      <td>http://www.ensembl.org/</td>\n",
       "      <td>2011</td>\n",
       "      <td>Oct</td>\n",
       "      <td>26</td>\n",
       "    </tr>\n",
       "    <tr>\n",
       "      <th>4</th>\n",
       "      <td>T004843_1.02</td>\n",
       "      <td>F035_1.02</td>\n",
       "      <td>TS19_1.02</td>\n",
       "      <td>M6144_1.02</td>\n",
       "      <td>MS18_1.02</td>\n",
       "      <td>ENSG00000008196</td>\n",
       "      <td>TFAP2B</td>\n",
       "      <td>Homo_sapiens</td>\n",
       "      <td>D</td>\n",
       "      <td>AP-2</td>\n",
       "      <td>...</td>\n",
       "      <td>HocoMoco</td>\n",
       "      <td>Kulakovskiy</td>\n",
       "      <td>2013</td>\n",
       "      <td>23175603</td>\n",
       "      <td>July 2014</td>\n",
       "      <td>Ensembl</td>\n",
       "      <td>http://www.ensembl.org/</td>\n",
       "      <td>2011</td>\n",
       "      <td>Oct</td>\n",
       "      <td>26</td>\n",
       "    </tr>\n",
       "  </tbody>\n",
       "</table>\n",
       "<p>5 rows × 26 columns</p>\n",
       "</div>"
      ],
      "text/plain": [
       "          TF_ID  Family_ID TSource_ID    Motif_ID MSource_ID             DBID  \\\n",
       "0  T004843_1.02  F035_1.02  TS19_1.02  M2938_1.02  MS26_1.02  ENSG00000008196   \n",
       "1  T004843_1.02  F035_1.02  TS19_1.02  M5917_1.02  MS20_1.02  ENSG00000008196   \n",
       "2  T004843_1.02  F035_1.02  TS19_1.02  M5918_1.02  MS20_1.02  ENSG00000008196   \n",
       "3  T004843_1.02  F035_1.02  TS19_1.02  M5919_1.02  MS20_1.02  ENSG00000008196   \n",
       "4  T004843_1.02  F035_1.02  TS19_1.02  M6144_1.02  MS18_1.02  ENSG00000008196   \n",
       "\n",
       "  TF_Name    TF_Species TF_Status Family_Name  ... MSource_Type  \\\n",
       "0  TFAP2B  Homo_sapiens         D        AP-2  ...     Transfac   \n",
       "1  TFAP2B  Homo_sapiens         D        AP-2  ...        SELEX   \n",
       "2  TFAP2B  Homo_sapiens         D        AP-2  ...        SELEX   \n",
       "3  TFAP2B  Homo_sapiens         D        AP-2  ...        SELEX   \n",
       "4  TFAP2B  Homo_sapiens         D        AP-2  ...     HocoMoco   \n",
       "\n",
       "   MSource_Author  MSource_Year      PMID MSource_Version TfSource_Name  \\\n",
       "0           Matys          2006  16381825          2014.2       Ensembl   \n",
       "1           Jolma          2013  23332764    January 2013       Ensembl   \n",
       "2           Jolma          2013  23332764    January 2013       Ensembl   \n",
       "3           Jolma          2013  23332764    January 2013       Ensembl   \n",
       "4     Kulakovskiy          2013  23175603       July 2014       Ensembl   \n",
       "\n",
       "              TfSource_URL TfSource_Year TfSource_Month TfSource_Day  \n",
       "0  http://www.ensembl.org/          2011            Oct           26  \n",
       "1  http://www.ensembl.org/          2011            Oct           26  \n",
       "2  http://www.ensembl.org/          2011            Oct           26  \n",
       "3  http://www.ensembl.org/          2011            Oct           26  \n",
       "4  http://www.ensembl.org/          2011            Oct           26  \n",
       "\n",
       "[5 rows x 26 columns]"
      ]
     },
     "execution_count": 10,
     "metadata": {},
     "output_type": "execute_result"
    }
   ],
   "source": [
    "df_annotate.head()"
   ]
  },
  {
   "cell_type": "markdown",
   "metadata": {},
   "source": [
    "### Annotate the interacting motifs"
   ]
  },
  {
   "cell_type": "code",
   "execution_count": 47,
   "metadata": {},
   "outputs": [],
   "source": [
    "df['TF1'] = df['motif1'].apply(get_annotation, annotation_data=df_annotate, single_TF=True)\n",
    "df['TF2'] = df['motif2'].apply(get_annotation, annotation_data=df_annotate, single_TF=True)"
   ]
  },
  {
   "cell_type": "code",
   "execution_count": 48,
   "metadata": {
    "scrolled": true
   },
   "outputs": [
    {
     "data": {
      "text/html": [
       "<div>\n",
       "<style scoped>\n",
       "    .dataframe tbody tr th:only-of-type {\n",
       "        vertical-align: middle;\n",
       "    }\n",
       "\n",
       "    .dataframe tbody tr th {\n",
       "        vertical-align: top;\n",
       "    }\n",
       "\n",
       "    .dataframe thead th {\n",
       "        text-align: right;\n",
       "    }\n",
       "</style>\n",
       "<table border=\"1\" class=\"dataframe\">\n",
       "  <thead>\n",
       "    <tr style=\"text-align: right;\">\n",
       "      <th></th>\n",
       "      <th>filter_interaction</th>\n",
       "      <th>example_no</th>\n",
       "      <th>motif1</th>\n",
       "      <th>motif1_qval</th>\n",
       "      <th>motif2</th>\n",
       "      <th>motif2_qval</th>\n",
       "      <th>mean_distance</th>\n",
       "      <th>mean_distance_bg</th>\n",
       "      <th>num_obs</th>\n",
       "      <th>num_obs_bg</th>\n",
       "      <th>pval</th>\n",
       "      <th>adjusted_pval</th>\n",
       "      <th>TF1</th>\n",
       "      <th>TF2</th>\n",
       "    </tr>\n",
       "  </thead>\n",
       "  <tbody>\n",
       "    <tr>\n",
       "      <th>107</th>\n",
       "      <td>filter1&lt;--&gt;filter42</td>\n",
       "      <td>239</td>\n",
       "      <td>M0891_1.02</td>\n",
       "      <td>0.001082</td>\n",
       "      <td>M6482_1.02</td>\n",
       "      <td>0.001694</td>\n",
       "      <td>192.0</td>\n",
       "      <td>168.0</td>\n",
       "      <td>270.0</td>\n",
       "      <td>227.0</td>\n",
       "      <td>1.304787e-05</td>\n",
       "      <td>0.035390</td>\n",
       "      <td>TLX2</td>\n",
       "      <td>SP7</td>\n",
       "    </tr>\n",
       "    <tr>\n",
       "      <th>441</th>\n",
       "      <td>filter11&lt;--&gt;filter42</td>\n",
       "      <td>2164</td>\n",
       "      <td>M1605_1.02</td>\n",
       "      <td>0.005833</td>\n",
       "      <td>M6482_1.02</td>\n",
       "      <td>0.001694</td>\n",
       "      <td>132.0</td>\n",
       "      <td>174.0</td>\n",
       "      <td>215.0</td>\n",
       "      <td>138.0</td>\n",
       "      <td>1.448632e-06</td>\n",
       "      <td>0.012849</td>\n",
       "      <td>SOX1</td>\n",
       "      <td>SP7</td>\n",
       "    </tr>\n",
       "    <tr>\n",
       "      <th>1215</th>\n",
       "      <td>filter30&lt;--&gt;filter42</td>\n",
       "      <td>5546</td>\n",
       "      <td>M0436_1.02</td>\n",
       "      <td>0.020567</td>\n",
       "      <td>M6482_1.02</td>\n",
       "      <td>0.001694</td>\n",
       "      <td>54.0</td>\n",
       "      <td>18.0</td>\n",
       "      <td>155.0</td>\n",
       "      <td>183.0</td>\n",
       "      <td>1.960240e-05</td>\n",
       "      <td>0.038636</td>\n",
       "      <td>ZNF35</td>\n",
       "      <td>SP7</td>\n",
       "    </tr>\n",
       "    <tr>\n",
       "      <th>1490</th>\n",
       "      <td>filter42&lt;--&gt;filter52</td>\n",
       "      <td>7506</td>\n",
       "      <td>M6482_1.02</td>\n",
       "      <td>0.001694</td>\n",
       "      <td>M1592_1.02</td>\n",
       "      <td>0.041647</td>\n",
       "      <td>48.0</td>\n",
       "      <td>276.0</td>\n",
       "      <td>294.0</td>\n",
       "      <td>227.0</td>\n",
       "      <td>9.270391e-06</td>\n",
       "      <td>0.034580</td>\n",
       "      <td>SP7</td>\n",
       "      <td>SOX3</td>\n",
       "    </tr>\n",
       "    <tr>\n",
       "      <th>1495</th>\n",
       "      <td>filter42&lt;--&gt;filter61</td>\n",
       "      <td>7515</td>\n",
       "      <td>M6482_1.02</td>\n",
       "      <td>0.001694</td>\n",
       "      <td>M0608_1.02</td>\n",
       "      <td>0.009073</td>\n",
       "      <td>180.0</td>\n",
       "      <td>252.0</td>\n",
       "      <td>422.0</td>\n",
       "      <td>237.0</td>\n",
       "      <td>1.181393e-07</td>\n",
       "      <td>0.002096</td>\n",
       "      <td>SP7</td>\n",
       "      <td>MLL</td>\n",
       "    </tr>\n",
       "  </tbody>\n",
       "</table>\n",
       "</div>"
      ],
      "text/plain": [
       "        filter_interaction  example_no      motif1  motif1_qval      motif2  \\\n",
       "107    filter1<-->filter42         239  M0891_1.02     0.001082  M6482_1.02   \n",
       "441   filter11<-->filter42        2164  M1605_1.02     0.005833  M6482_1.02   \n",
       "1215  filter30<-->filter42        5546  M0436_1.02     0.020567  M6482_1.02   \n",
       "1490  filter42<-->filter52        7506  M6482_1.02     0.001694  M1592_1.02   \n",
       "1495  filter42<-->filter61        7515  M6482_1.02     0.001694  M0608_1.02   \n",
       "\n",
       "      motif2_qval  mean_distance  mean_distance_bg  num_obs  num_obs_bg  \\\n",
       "107      0.001694          192.0             168.0    270.0       227.0   \n",
       "441      0.001694          132.0             174.0    215.0       138.0   \n",
       "1215     0.001694           54.0              18.0    155.0       183.0   \n",
       "1490     0.041647           48.0             276.0    294.0       227.0   \n",
       "1495     0.009073          180.0             252.0    422.0       237.0   \n",
       "\n",
       "              pval  adjusted_pval    TF1   TF2  \n",
       "107   1.304787e-05       0.035390   TLX2   SP7  \n",
       "441   1.448632e-06       0.012849   SOX1   SP7  \n",
       "1215  1.960240e-05       0.038636  ZNF35   SP7  \n",
       "1490  9.270391e-06       0.034580    SP7  SOX3  \n",
       "1495  1.181393e-07       0.002096    SP7   MLL  "
      ]
     },
     "execution_count": 48,
     "metadata": {},
     "output_type": "execute_result"
    }
   ],
   "source": [
    "df.head()"
   ]
  },
  {
   "cell_type": "code",
   "execution_count": 49,
   "metadata": {},
   "outputs": [],
   "source": [
    "df['TF_Interaction'] = df.apply(lambda x: x['TF1']+r'$\\longleftrightarrow$'+x['TF2'], axis=1)"
   ]
  },
  {
   "cell_type": "markdown",
   "metadata": {},
   "source": [
    "### Drop same motif interactions"
   ]
  },
  {
   "cell_type": "code",
   "execution_count": 50,
   "metadata": {},
   "outputs": [],
   "source": [
    "df = df[df['TF1']!=df['TF2']]"
   ]
  },
  {
   "cell_type": "code",
   "execution_count": 51,
   "metadata": {},
   "outputs": [
    {
     "data": {
      "text/plain": [
       "(9, 15)"
      ]
     },
     "execution_count": 51,
     "metadata": {},
     "output_type": "execute_result"
    }
   ],
   "source": [
    "df.shape"
   ]
  },
  {
   "cell_type": "code",
   "execution_count": 52,
   "metadata": {},
   "outputs": [],
   "source": [
    "df = df.reset_index(drop=True)"
   ]
  },
  {
   "cell_type": "markdown",
   "metadata": {},
   "source": [
    "### Fix redundant interaction pairs"
   ]
  },
  {
   "cell_type": "code",
   "execution_count": 53,
   "metadata": {},
   "outputs": [],
   "source": [
    "df = process_for_redundant_interactions(df, intr_type='TF')"
   ]
  },
  {
   "cell_type": "code",
   "execution_count": 54,
   "metadata": {},
   "outputs": [
    {
     "data": {
      "text/html": [
       "<div>\n",
       "<style scoped>\n",
       "    .dataframe tbody tr th:only-of-type {\n",
       "        vertical-align: middle;\n",
       "    }\n",
       "\n",
       "    .dataframe tbody tr th {\n",
       "        vertical-align: top;\n",
       "    }\n",
       "\n",
       "    .dataframe thead th {\n",
       "        text-align: right;\n",
       "    }\n",
       "</style>\n",
       "<table border=\"1\" class=\"dataframe\">\n",
       "  <thead>\n",
       "    <tr style=\"text-align: right;\">\n",
       "      <th></th>\n",
       "      <th>filter_interaction</th>\n",
       "      <th>example_no</th>\n",
       "      <th>motif1</th>\n",
       "      <th>motif1_qval</th>\n",
       "      <th>motif2</th>\n",
       "      <th>motif2_qval</th>\n",
       "      <th>mean_distance</th>\n",
       "      <th>mean_distance_bg</th>\n",
       "      <th>num_obs</th>\n",
       "      <th>num_obs_bg</th>\n",
       "      <th>pval</th>\n",
       "      <th>adjusted_pval</th>\n",
       "      <th>TF1</th>\n",
       "      <th>TF2</th>\n",
       "      <th>TF_Interaction</th>\n",
       "    </tr>\n",
       "  </thead>\n",
       "  <tbody>\n",
       "    <tr>\n",
       "      <th>0</th>\n",
       "      <td>filter1&lt;--&gt;filter42</td>\n",
       "      <td>239</td>\n",
       "      <td>M0891_1.02</td>\n",
       "      <td>0.001082</td>\n",
       "      <td>M6482_1.02</td>\n",
       "      <td>0.001694</td>\n",
       "      <td>192.0</td>\n",
       "      <td>168.0</td>\n",
       "      <td>270.0</td>\n",
       "      <td>227.0</td>\n",
       "      <td>1.304787e-05</td>\n",
       "      <td>0.035390</td>\n",
       "      <td>TLX2</td>\n",
       "      <td>SP7</td>\n",
       "      <td>TLX2$\\longleftrightarrow$SP7</td>\n",
       "    </tr>\n",
       "    <tr>\n",
       "      <th>1</th>\n",
       "      <td>filter11&lt;--&gt;filter42</td>\n",
       "      <td>2164</td>\n",
       "      <td>M1605_1.02</td>\n",
       "      <td>0.005833</td>\n",
       "      <td>M6482_1.02</td>\n",
       "      <td>0.001694</td>\n",
       "      <td>132.0</td>\n",
       "      <td>174.0</td>\n",
       "      <td>215.0</td>\n",
       "      <td>138.0</td>\n",
       "      <td>1.448632e-06</td>\n",
       "      <td>0.012849</td>\n",
       "      <td>SOX1</td>\n",
       "      <td>SP7</td>\n",
       "      <td>SOX1$\\longleftrightarrow$SP7</td>\n",
       "    </tr>\n",
       "    <tr>\n",
       "      <th>2</th>\n",
       "      <td>filter30&lt;--&gt;filter42</td>\n",
       "      <td>5546</td>\n",
       "      <td>M0436_1.02</td>\n",
       "      <td>0.020567</td>\n",
       "      <td>M6482_1.02</td>\n",
       "      <td>0.001694</td>\n",
       "      <td>54.0</td>\n",
       "      <td>18.0</td>\n",
       "      <td>155.0</td>\n",
       "      <td>183.0</td>\n",
       "      <td>1.960240e-05</td>\n",
       "      <td>0.038636</td>\n",
       "      <td>ZNF35</td>\n",
       "      <td>SP7</td>\n",
       "      <td>ZNF35$\\longleftrightarrow$SP7</td>\n",
       "    </tr>\n",
       "    <tr>\n",
       "      <th>3</th>\n",
       "      <td>filter42&lt;--&gt;filter52</td>\n",
       "      <td>7506</td>\n",
       "      <td>M6482_1.02</td>\n",
       "      <td>0.001694</td>\n",
       "      <td>M1592_1.02</td>\n",
       "      <td>0.041647</td>\n",
       "      <td>48.0</td>\n",
       "      <td>276.0</td>\n",
       "      <td>294.0</td>\n",
       "      <td>227.0</td>\n",
       "      <td>9.270391e-06</td>\n",
       "      <td>0.034580</td>\n",
       "      <td>SP7</td>\n",
       "      <td>SOX3</td>\n",
       "      <td>SP7$\\longleftrightarrow$SOX3</td>\n",
       "    </tr>\n",
       "    <tr>\n",
       "      <th>4</th>\n",
       "      <td>filter42&lt;--&gt;filter61</td>\n",
       "      <td>7515</td>\n",
       "      <td>M6482_1.02</td>\n",
       "      <td>0.001694</td>\n",
       "      <td>M0608_1.02</td>\n",
       "      <td>0.009073</td>\n",
       "      <td>180.0</td>\n",
       "      <td>252.0</td>\n",
       "      <td>422.0</td>\n",
       "      <td>237.0</td>\n",
       "      <td>1.181393e-07</td>\n",
       "      <td>0.002096</td>\n",
       "      <td>SP7</td>\n",
       "      <td>MLL</td>\n",
       "      <td>SP7$\\longleftrightarrow$MLL</td>\n",
       "    </tr>\n",
       "  </tbody>\n",
       "</table>\n",
       "</div>"
      ],
      "text/plain": [
       "     filter_interaction  example_no      motif1  motif1_qval      motif2  \\\n",
       "0   filter1<-->filter42         239  M0891_1.02     0.001082  M6482_1.02   \n",
       "1  filter11<-->filter42        2164  M1605_1.02     0.005833  M6482_1.02   \n",
       "2  filter30<-->filter42        5546  M0436_1.02     0.020567  M6482_1.02   \n",
       "3  filter42<-->filter52        7506  M6482_1.02     0.001694  M1592_1.02   \n",
       "4  filter42<-->filter61        7515  M6482_1.02     0.001694  M0608_1.02   \n",
       "\n",
       "   motif2_qval  mean_distance  mean_distance_bg  num_obs  num_obs_bg  \\\n",
       "0     0.001694          192.0             168.0    270.0       227.0   \n",
       "1     0.001694          132.0             174.0    215.0       138.0   \n",
       "2     0.001694           54.0              18.0    155.0       183.0   \n",
       "3     0.041647           48.0             276.0    294.0       227.0   \n",
       "4     0.009073          180.0             252.0    422.0       237.0   \n",
       "\n",
       "           pval  adjusted_pval    TF1   TF2                 TF_Interaction  \n",
       "0  1.304787e-05       0.035390   TLX2   SP7   TLX2$\\longleftrightarrow$SP7  \n",
       "1  1.448632e-06       0.012849   SOX1   SP7   SOX1$\\longleftrightarrow$SP7  \n",
       "2  1.960240e-05       0.038636  ZNF35   SP7  ZNF35$\\longleftrightarrow$SP7  \n",
       "3  9.270391e-06       0.034580    SP7  SOX3   SP7$\\longleftrightarrow$SOX3  \n",
       "4  1.181393e-07       0.002096    SP7   MLL    SP7$\\longleftrightarrow$MLL  "
      ]
     },
     "execution_count": 54,
     "metadata": {},
     "output_type": "execute_result"
    }
   ],
   "source": [
    "df.head()"
   ]
  },
  {
   "cell_type": "code",
   "execution_count": 55,
   "metadata": {},
   "outputs": [
    {
     "data": {
      "text/plain": [
       "(9, 15)"
      ]
     },
     "execution_count": 55,
     "metadata": {},
     "output_type": "execute_result"
    }
   ],
   "source": [
    "df.shape"
   ]
  },
  {
   "cell_type": "markdown",
   "metadata": {},
   "source": [
    "## Most Frequent TF Family Interactions"
   ]
  },
  {
   "cell_type": "code",
   "execution_count": 56,
   "metadata": {},
   "outputs": [],
   "source": [
    "tf_family_dict = {}\n",
    "for TF in df_annotate['TF_Name']:\n",
    "    tf_family_dict[TF] = df_annotate[df_annotate['TF_Name']==TF]['Family_Name'].iloc[0]\n",
    "df['TF1_Family'] = df['TF1'].apply(lambda x: tf_family_dict[x] if x in tf_family_dict else 'UNKNOWN')\n",
    "df['TF2_Family'] = df['TF2'].apply(lambda x: tf_family_dict[x] if x in tf_family_dict else 'UNKNOWN')"
   ]
  },
  {
   "cell_type": "code",
   "execution_count": 57,
   "metadata": {},
   "outputs": [],
   "source": [
    "df['Family_Interaction'] = df.apply(lambda x: x['TF1_Family']+r'$\\longleftrightarrow$'+x['TF2_Family'],axis=1)"
   ]
  },
  {
   "cell_type": "code",
   "execution_count": 58,
   "metadata": {},
   "outputs": [],
   "source": [
    "df = process_for_redundant_interactions(df, intr_type='Family')"
   ]
  },
  {
   "cell_type": "code",
   "execution_count": 59,
   "metadata": {},
   "outputs": [
    {
     "data": {
      "text/html": [
       "<div>\n",
       "<style scoped>\n",
       "    .dataframe tbody tr th:only-of-type {\n",
       "        vertical-align: middle;\n",
       "    }\n",
       "\n",
       "    .dataframe tbody tr th {\n",
       "        vertical-align: top;\n",
       "    }\n",
       "\n",
       "    .dataframe thead th {\n",
       "        text-align: right;\n",
       "    }\n",
       "</style>\n",
       "<table border=\"1\" class=\"dataframe\">\n",
       "  <thead>\n",
       "    <tr style=\"text-align: right;\">\n",
       "      <th></th>\n",
       "      <th>filter_interaction</th>\n",
       "      <th>example_no</th>\n",
       "      <th>motif1</th>\n",
       "      <th>motif1_qval</th>\n",
       "      <th>motif2</th>\n",
       "      <th>motif2_qval</th>\n",
       "      <th>mean_distance</th>\n",
       "      <th>mean_distance_bg</th>\n",
       "      <th>num_obs</th>\n",
       "      <th>num_obs_bg</th>\n",
       "      <th>pval</th>\n",
       "      <th>adjusted_pval</th>\n",
       "      <th>TF1</th>\n",
       "      <th>TF2</th>\n",
       "      <th>TF_Interaction</th>\n",
       "      <th>TF1_Family</th>\n",
       "      <th>TF2_Family</th>\n",
       "      <th>Family_Interaction</th>\n",
       "    </tr>\n",
       "  </thead>\n",
       "  <tbody>\n",
       "    <tr>\n",
       "      <th>0</th>\n",
       "      <td>filter1&lt;--&gt;filter42</td>\n",
       "      <td>239</td>\n",
       "      <td>M0891_1.02</td>\n",
       "      <td>0.001082</td>\n",
       "      <td>M6482_1.02</td>\n",
       "      <td>0.001694</td>\n",
       "      <td>192.0</td>\n",
       "      <td>168.0</td>\n",
       "      <td>270.0</td>\n",
       "      <td>227.0</td>\n",
       "      <td>1.304787e-05</td>\n",
       "      <td>0.035390</td>\n",
       "      <td>TLX2</td>\n",
       "      <td>SP7</td>\n",
       "      <td>TLX2$\\longleftrightarrow$SP7</td>\n",
       "      <td>Homeodomain</td>\n",
       "      <td>C2H2 ZF</td>\n",
       "      <td>Homeodomain$\\longleftrightarrow$C2H2 ZF</td>\n",
       "    </tr>\n",
       "    <tr>\n",
       "      <th>1</th>\n",
       "      <td>filter11&lt;--&gt;filter42</td>\n",
       "      <td>2164</td>\n",
       "      <td>M1605_1.02</td>\n",
       "      <td>0.005833</td>\n",
       "      <td>M6482_1.02</td>\n",
       "      <td>0.001694</td>\n",
       "      <td>132.0</td>\n",
       "      <td>174.0</td>\n",
       "      <td>215.0</td>\n",
       "      <td>138.0</td>\n",
       "      <td>1.448632e-06</td>\n",
       "      <td>0.012849</td>\n",
       "      <td>SOX1</td>\n",
       "      <td>SP7</td>\n",
       "      <td>SOX1$\\longleftrightarrow$SP7</td>\n",
       "      <td>Sox</td>\n",
       "      <td>C2H2 ZF</td>\n",
       "      <td>Sox$\\longleftrightarrow$C2H2 ZF</td>\n",
       "    </tr>\n",
       "    <tr>\n",
       "      <th>2</th>\n",
       "      <td>filter30&lt;--&gt;filter42</td>\n",
       "      <td>5546</td>\n",
       "      <td>M0436_1.02</td>\n",
       "      <td>0.020567</td>\n",
       "      <td>M6482_1.02</td>\n",
       "      <td>0.001694</td>\n",
       "      <td>54.0</td>\n",
       "      <td>18.0</td>\n",
       "      <td>155.0</td>\n",
       "      <td>183.0</td>\n",
       "      <td>1.960240e-05</td>\n",
       "      <td>0.038636</td>\n",
       "      <td>ZNF35</td>\n",
       "      <td>SP7</td>\n",
       "      <td>ZNF35$\\longleftrightarrow$SP7</td>\n",
       "      <td>C2H2 ZF</td>\n",
       "      <td>C2H2 ZF</td>\n",
       "      <td>C2H2 ZF$\\longleftrightarrow$C2H2 ZF</td>\n",
       "    </tr>\n",
       "    <tr>\n",
       "      <th>3</th>\n",
       "      <td>filter42&lt;--&gt;filter52</td>\n",
       "      <td>7506</td>\n",
       "      <td>M6482_1.02</td>\n",
       "      <td>0.001694</td>\n",
       "      <td>M1592_1.02</td>\n",
       "      <td>0.041647</td>\n",
       "      <td>48.0</td>\n",
       "      <td>276.0</td>\n",
       "      <td>294.0</td>\n",
       "      <td>227.0</td>\n",
       "      <td>9.270391e-06</td>\n",
       "      <td>0.034580</td>\n",
       "      <td>SP7</td>\n",
       "      <td>SOX3</td>\n",
       "      <td>SP7$\\longleftrightarrow$SOX3</td>\n",
       "      <td>C2H2 ZF</td>\n",
       "      <td>Sox</td>\n",
       "      <td>Sox$\\longleftrightarrow$C2H2 ZF</td>\n",
       "    </tr>\n",
       "    <tr>\n",
       "      <th>4</th>\n",
       "      <td>filter42&lt;--&gt;filter61</td>\n",
       "      <td>7515</td>\n",
       "      <td>M6482_1.02</td>\n",
       "      <td>0.001694</td>\n",
       "      <td>M0608_1.02</td>\n",
       "      <td>0.009073</td>\n",
       "      <td>180.0</td>\n",
       "      <td>252.0</td>\n",
       "      <td>422.0</td>\n",
       "      <td>237.0</td>\n",
       "      <td>1.181393e-07</td>\n",
       "      <td>0.002096</td>\n",
       "      <td>SP7</td>\n",
       "      <td>MLL</td>\n",
       "      <td>SP7$\\longleftrightarrow$MLL</td>\n",
       "      <td>C2H2 ZF</td>\n",
       "      <td>CxxC</td>\n",
       "      <td>C2H2 ZF$\\longleftrightarrow$CxxC</td>\n",
       "    </tr>\n",
       "  </tbody>\n",
       "</table>\n",
       "</div>"
      ],
      "text/plain": [
       "     filter_interaction  example_no      motif1  motif1_qval      motif2  \\\n",
       "0   filter1<-->filter42         239  M0891_1.02     0.001082  M6482_1.02   \n",
       "1  filter11<-->filter42        2164  M1605_1.02     0.005833  M6482_1.02   \n",
       "2  filter30<-->filter42        5546  M0436_1.02     0.020567  M6482_1.02   \n",
       "3  filter42<-->filter52        7506  M6482_1.02     0.001694  M1592_1.02   \n",
       "4  filter42<-->filter61        7515  M6482_1.02     0.001694  M0608_1.02   \n",
       "\n",
       "   motif2_qval  mean_distance  mean_distance_bg  num_obs  num_obs_bg  \\\n",
       "0     0.001694          192.0             168.0    270.0       227.0   \n",
       "1     0.001694          132.0             174.0    215.0       138.0   \n",
       "2     0.001694           54.0              18.0    155.0       183.0   \n",
       "3     0.041647           48.0             276.0    294.0       227.0   \n",
       "4     0.009073          180.0             252.0    422.0       237.0   \n",
       "\n",
       "           pval  adjusted_pval    TF1   TF2                 TF_Interaction  \\\n",
       "0  1.304787e-05       0.035390   TLX2   SP7   TLX2$\\longleftrightarrow$SP7   \n",
       "1  1.448632e-06       0.012849   SOX1   SP7   SOX1$\\longleftrightarrow$SP7   \n",
       "2  1.960240e-05       0.038636  ZNF35   SP7  ZNF35$\\longleftrightarrow$SP7   \n",
       "3  9.270391e-06       0.034580    SP7  SOX3   SP7$\\longleftrightarrow$SOX3   \n",
       "4  1.181393e-07       0.002096    SP7   MLL    SP7$\\longleftrightarrow$MLL   \n",
       "\n",
       "    TF1_Family TF2_Family                       Family_Interaction  \n",
       "0  Homeodomain    C2H2 ZF  Homeodomain$\\longleftrightarrow$C2H2 ZF  \n",
       "1          Sox    C2H2 ZF          Sox$\\longleftrightarrow$C2H2 ZF  \n",
       "2      C2H2 ZF    C2H2 ZF      C2H2 ZF$\\longleftrightarrow$C2H2 ZF  \n",
       "3      C2H2 ZF        Sox          Sox$\\longleftrightarrow$C2H2 ZF  \n",
       "4      C2H2 ZF       CxxC         C2H2 ZF$\\longleftrightarrow$CxxC  "
      ]
     },
     "execution_count": 59,
     "metadata": {},
     "output_type": "execute_result"
    }
   ],
   "source": [
    "df.head()"
   ]
  },
  {
   "cell_type": "code",
   "execution_count": 60,
   "metadata": {},
   "outputs": [],
   "source": [
    "df['filter_interaction'] = df['filter_interaction'].apply(lambda x: x.replace('<-->',r'$\\longleftrightarrow$'))"
   ]
  },
  {
   "cell_type": "code",
   "execution_count": 61,
   "metadata": {},
   "outputs": [
    {
     "data": {
      "text/html": [
       "<div>\n",
       "<style scoped>\n",
       "    .dataframe tbody tr th:only-of-type {\n",
       "        vertical-align: middle;\n",
       "    }\n",
       "\n",
       "    .dataframe tbody tr th {\n",
       "        vertical-align: top;\n",
       "    }\n",
       "\n",
       "    .dataframe thead th {\n",
       "        text-align: right;\n",
       "    }\n",
       "</style>\n",
       "<table border=\"1\" class=\"dataframe\">\n",
       "  <thead>\n",
       "    <tr style=\"text-align: right;\">\n",
       "      <th></th>\n",
       "      <th>filter_interaction</th>\n",
       "      <th>example_no</th>\n",
       "      <th>motif1</th>\n",
       "      <th>motif1_qval</th>\n",
       "      <th>motif2</th>\n",
       "      <th>motif2_qval</th>\n",
       "      <th>mean_distance</th>\n",
       "      <th>mean_distance_bg</th>\n",
       "      <th>num_obs</th>\n",
       "      <th>num_obs_bg</th>\n",
       "      <th>pval</th>\n",
       "      <th>adjusted_pval</th>\n",
       "      <th>TF1</th>\n",
       "      <th>TF2</th>\n",
       "      <th>TF_Interaction</th>\n",
       "      <th>TF1_Family</th>\n",
       "      <th>TF2_Family</th>\n",
       "      <th>Family_Interaction</th>\n",
       "    </tr>\n",
       "  </thead>\n",
       "  <tbody>\n",
       "    <tr>\n",
       "      <th>0</th>\n",
       "      <td>filter1$\\longleftrightarrow$filter42</td>\n",
       "      <td>239</td>\n",
       "      <td>M0891_1.02</td>\n",
       "      <td>0.001082</td>\n",
       "      <td>M6482_1.02</td>\n",
       "      <td>0.001694</td>\n",
       "      <td>192.0</td>\n",
       "      <td>168.0</td>\n",
       "      <td>270.0</td>\n",
       "      <td>227.0</td>\n",
       "      <td>1.304787e-05</td>\n",
       "      <td>0.035390</td>\n",
       "      <td>TLX2</td>\n",
       "      <td>SP7</td>\n",
       "      <td>TLX2$\\longleftrightarrow$SP7</td>\n",
       "      <td>Homeodomain</td>\n",
       "      <td>C2H2 ZF</td>\n",
       "      <td>Homeodomain$\\longleftrightarrow$C2H2 ZF</td>\n",
       "    </tr>\n",
       "    <tr>\n",
       "      <th>1</th>\n",
       "      <td>filter11$\\longleftrightarrow$filter42</td>\n",
       "      <td>2164</td>\n",
       "      <td>M1605_1.02</td>\n",
       "      <td>0.005833</td>\n",
       "      <td>M6482_1.02</td>\n",
       "      <td>0.001694</td>\n",
       "      <td>132.0</td>\n",
       "      <td>174.0</td>\n",
       "      <td>215.0</td>\n",
       "      <td>138.0</td>\n",
       "      <td>1.448632e-06</td>\n",
       "      <td>0.012849</td>\n",
       "      <td>SOX1</td>\n",
       "      <td>SP7</td>\n",
       "      <td>SOX1$\\longleftrightarrow$SP7</td>\n",
       "      <td>Sox</td>\n",
       "      <td>C2H2 ZF</td>\n",
       "      <td>Sox$\\longleftrightarrow$C2H2 ZF</td>\n",
       "    </tr>\n",
       "    <tr>\n",
       "      <th>2</th>\n",
       "      <td>filter30$\\longleftrightarrow$filter42</td>\n",
       "      <td>5546</td>\n",
       "      <td>M0436_1.02</td>\n",
       "      <td>0.020567</td>\n",
       "      <td>M6482_1.02</td>\n",
       "      <td>0.001694</td>\n",
       "      <td>54.0</td>\n",
       "      <td>18.0</td>\n",
       "      <td>155.0</td>\n",
       "      <td>183.0</td>\n",
       "      <td>1.960240e-05</td>\n",
       "      <td>0.038636</td>\n",
       "      <td>ZNF35</td>\n",
       "      <td>SP7</td>\n",
       "      <td>ZNF35$\\longleftrightarrow$SP7</td>\n",
       "      <td>C2H2 ZF</td>\n",
       "      <td>C2H2 ZF</td>\n",
       "      <td>C2H2 ZF$\\longleftrightarrow$C2H2 ZF</td>\n",
       "    </tr>\n",
       "    <tr>\n",
       "      <th>3</th>\n",
       "      <td>filter42$\\longleftrightarrow$filter52</td>\n",
       "      <td>7506</td>\n",
       "      <td>M6482_1.02</td>\n",
       "      <td>0.001694</td>\n",
       "      <td>M1592_1.02</td>\n",
       "      <td>0.041647</td>\n",
       "      <td>48.0</td>\n",
       "      <td>276.0</td>\n",
       "      <td>294.0</td>\n",
       "      <td>227.0</td>\n",
       "      <td>9.270391e-06</td>\n",
       "      <td>0.034580</td>\n",
       "      <td>SP7</td>\n",
       "      <td>SOX3</td>\n",
       "      <td>SP7$\\longleftrightarrow$SOX3</td>\n",
       "      <td>C2H2 ZF</td>\n",
       "      <td>Sox</td>\n",
       "      <td>Sox$\\longleftrightarrow$C2H2 ZF</td>\n",
       "    </tr>\n",
       "    <tr>\n",
       "      <th>4</th>\n",
       "      <td>filter42$\\longleftrightarrow$filter61</td>\n",
       "      <td>7515</td>\n",
       "      <td>M6482_1.02</td>\n",
       "      <td>0.001694</td>\n",
       "      <td>M0608_1.02</td>\n",
       "      <td>0.009073</td>\n",
       "      <td>180.0</td>\n",
       "      <td>252.0</td>\n",
       "      <td>422.0</td>\n",
       "      <td>237.0</td>\n",
       "      <td>1.181393e-07</td>\n",
       "      <td>0.002096</td>\n",
       "      <td>SP7</td>\n",
       "      <td>MLL</td>\n",
       "      <td>SP7$\\longleftrightarrow$MLL</td>\n",
       "      <td>C2H2 ZF</td>\n",
       "      <td>CxxC</td>\n",
       "      <td>C2H2 ZF$\\longleftrightarrow$CxxC</td>\n",
       "    </tr>\n",
       "  </tbody>\n",
       "</table>\n",
       "</div>"
      ],
      "text/plain": [
       "                      filter_interaction  example_no      motif1  motif1_qval  \\\n",
       "0   filter1$\\longleftrightarrow$filter42         239  M0891_1.02     0.001082   \n",
       "1  filter11$\\longleftrightarrow$filter42        2164  M1605_1.02     0.005833   \n",
       "2  filter30$\\longleftrightarrow$filter42        5546  M0436_1.02     0.020567   \n",
       "3  filter42$\\longleftrightarrow$filter52        7506  M6482_1.02     0.001694   \n",
       "4  filter42$\\longleftrightarrow$filter61        7515  M6482_1.02     0.001694   \n",
       "\n",
       "       motif2  motif2_qval  mean_distance  mean_distance_bg  num_obs  \\\n",
       "0  M6482_1.02     0.001694          192.0             168.0    270.0   \n",
       "1  M6482_1.02     0.001694          132.0             174.0    215.0   \n",
       "2  M6482_1.02     0.001694           54.0              18.0    155.0   \n",
       "3  M1592_1.02     0.041647           48.0             276.0    294.0   \n",
       "4  M0608_1.02     0.009073          180.0             252.0    422.0   \n",
       "\n",
       "   num_obs_bg          pval  adjusted_pval    TF1   TF2  \\\n",
       "0       227.0  1.304787e-05       0.035390   TLX2   SP7   \n",
       "1       138.0  1.448632e-06       0.012849   SOX1   SP7   \n",
       "2       183.0  1.960240e-05       0.038636  ZNF35   SP7   \n",
       "3       227.0  9.270391e-06       0.034580    SP7  SOX3   \n",
       "4       237.0  1.181393e-07       0.002096    SP7   MLL   \n",
       "\n",
       "                  TF_Interaction   TF1_Family TF2_Family  \\\n",
       "0   TLX2$\\longleftrightarrow$SP7  Homeodomain    C2H2 ZF   \n",
       "1   SOX1$\\longleftrightarrow$SP7          Sox    C2H2 ZF   \n",
       "2  ZNF35$\\longleftrightarrow$SP7      C2H2 ZF    C2H2 ZF   \n",
       "3   SP7$\\longleftrightarrow$SOX3      C2H2 ZF        Sox   \n",
       "4    SP7$\\longleftrightarrow$MLL      C2H2 ZF       CxxC   \n",
       "\n",
       "                        Family_Interaction  \n",
       "0  Homeodomain$\\longleftrightarrow$C2H2 ZF  \n",
       "1          Sox$\\longleftrightarrow$C2H2 ZF  \n",
       "2      C2H2 ZF$\\longleftrightarrow$C2H2 ZF  \n",
       "3          Sox$\\longleftrightarrow$C2H2 ZF  \n",
       "4         C2H2 ZF$\\longleftrightarrow$CxxC  "
      ]
     },
     "execution_count": 61,
     "metadata": {},
     "output_type": "execute_result"
    }
   ],
   "source": [
    "df.head()"
   ]
  },
  {
   "cell_type": "code",
   "execution_count": 62,
   "metadata": {},
   "outputs": [],
   "source": [
    "df.to_csv(f'{output_path}/Human-Promoter_interactions_{suffix}.csv')"
   ]
  },
  {
   "cell_type": "markdown",
   "metadata": {},
   "source": [
    "### Distribution of individual TF or TF family interactions"
   ]
  },
  {
   "cell_type": "code",
   "execution_count": 24,
   "metadata": {
    "scrolled": false
   },
   "outputs": [
    {
     "data": {
      "image/png": "[encoded data removed]",
      "text/plain": [
       "<Figure size 1800x600 with 1 Axes>"
      ]
     },
     "metadata": {},
     "output_type": "display_data"
    }
   ],
   "source": [
    "plot_frequent_interactions(df, intr_level='Family_Interaction', first_n=15, store_pdf_path=f'{output_path}/Human_TF-Fams_supp_{suffix}.pdf')"
   ]
  },
  {
   "cell_type": "markdown",
   "metadata": {},
   "source": [
    "### Plot interaction distance distribution"
   ]
  },
  {
   "cell_type": "code",
   "execution_count": 28,
   "metadata": {
    "scrolled": false
   },
   "outputs": [
    {
     "data": {
      "image/png": "[encoded data removed]",
      "text/plain": [
       "<Figure size 800x600 with 1 Axes>"
      ]
     },
     "metadata": {},
     "output_type": "display_data"
    }
   ],
   "source": [
    "plot_interaction_distance_distribution(df, nbins=50, fig_size=(8,6))"
   ]
  },
  {
   "cell_type": "code",
   "execution_count": 29,
   "metadata": {},
   "outputs": [
    {
     "data": {
      "text/plain": [
       "(122.18642447418738, 64.0)"
      ]
     },
     "execution_count": 29,
     "metadata": {},
     "output_type": "execute_result"
    }
   ],
   "source": [
    "df['mean_distance'].mean(), df['mean_distance'].median()"
   ]
  },
  {
   "cell_type": "markdown",
   "metadata": {},
   "source": [
    "### Most frequent interactions and their respective interaction distances"
   ]
  },
  {
   "cell_type": "code",
   "execution_count": 30,
   "metadata": {},
   "outputs": [
    {
     "data": {
      "image/png": "[encoded data removed]",
      "text/plain": [
       "<Figure size 1800x500 with 2 Axes>"
      ]
     },
     "metadata": {},
     "output_type": "display_data"
    }
   ],
   "source": [
    "plot_interactions_and_distances_boxplot(df, first_n=15, sort_distances=False, add_sub_caption=True, show_median_dist=True, store_pdf_path=f'{output_path}/human_promoter_main_distance_boxplot_{suffix}.pdf')"
   ]
  },
  {
   "cell_type": "code",
   "execution_count": 77,
   "metadata": {},
   "outputs": [
    {
     "data": {
      "image/png": "[encoded data removed]",
      "text/plain": [
       "<Figure size 1800x500 with 2 Axes>"
      ]
     },
     "metadata": {},
     "output_type": "display_data"
    }
   ],
   "source": [
    "plot_interactions_and_distances_histogram(df, first_n=15, dist_nbins=25, add_sub_caption=True, show_median_dist=True, store_pdf_path=f'{output_path}/human_promoter_main_distance_histogram_{suffix}.pdf')"
   ]
  },
  {
   "cell_type": "markdown",
   "metadata": {},
   "source": [
    "### Annotate Interactions using TRRUSTv2 (and other sources)"
   ]
  },
  {
   "cell_type": "markdown",
   "metadata": {},
   "source": [
    "#### Read TRRUSTv2 interactions"
   ]
  },
  {
   "cell_type": "code",
   "execution_count": 63,
   "metadata": {},
   "outputs": [],
   "source": [
    "#dictionaries with genes/TFs as keys and [target_gene/TF, role, PUBMID ID] as value\n",
    "with open('/s/chromatin/p/nobackup/Saira/motif_databases/Human_Chromatin/TrustV2/human_co-regulate_dict.pckl','rb') as f:\n",
    "    human_dict = pickle.load(f)"
   ]
  },
  {
   "cell_type": "code",
   "execution_count": 64,
   "metadata": {},
   "outputs": [],
   "source": [
    "df['Interaction_in_TRUSTv2'] = df['TF_Interaction'].apply(db_annotate_interaction, intr_dict = human_dict)"
   ]
  },
  {
   "cell_type": "code",
   "execution_count": 65,
   "metadata": {},
   "outputs": [],
   "source": [
    "df_resTRUSTv2 = df[df['Interaction_in_TRUSTv2']==1]"
   ]
  },
  {
   "cell_type": "code",
   "execution_count": 66,
   "metadata": {},
   "outputs": [],
   "source": [
    "df_resTRUSTv2x = df_resTRUSTv2[['TF_Interaction','TF1_Family','TF2_Family','adjusted_pval']].sort_values(by='adjusted_pval').drop_duplicates('TF_Interaction')"
   ]
  },
  {
   "cell_type": "code",
   "execution_count": 67,
   "metadata": {},
   "outputs": [
    {
     "data": {
      "text/html": [
       "<div>\n",
       "<style scoped>\n",
       "    .dataframe tbody tr th:only-of-type {\n",
       "        vertical-align: middle;\n",
       "    }\n",
       "\n",
       "    .dataframe tbody tr th {\n",
       "        vertical-align: top;\n",
       "    }\n",
       "\n",
       "    .dataframe thead th {\n",
       "        text-align: right;\n",
       "    }\n",
       "</style>\n",
       "<table border=\"1\" class=\"dataframe\">\n",
       "  <thead>\n",
       "    <tr style=\"text-align: right;\">\n",
       "      <th></th>\n",
       "      <th>TF_Interaction</th>\n",
       "      <th>TF1_Family</th>\n",
       "      <th>TF2_Family</th>\n",
       "      <th>adjusted_pval</th>\n",
       "    </tr>\n",
       "  </thead>\n",
       "  <tbody>\n",
       "  </tbody>\n",
       "</table>\n",
       "</div>"
      ],
      "text/plain": [
       "Empty DataFrame\n",
       "Columns: [TF_Interaction, TF1_Family, TF2_Family, adjusted_pval]\n",
       "Index: []"
      ]
     },
     "execution_count": 67,
     "metadata": {},
     "output_type": "execute_result"
    }
   ],
   "source": [
    "df_resTRUSTv2x"
   ]
  },
  {
   "cell_type": "code",
   "execution_count": 68,
   "metadata": {},
   "outputs": [],
   "source": [
    "df_resTRUSTv2x.to_csv(f'{output_path}/Human_ATTN_TRRUSTv2_{suffix}.csv')"
   ]
  },
  {
   "cell_type": "markdown",
   "metadata": {},
   "source": [
    "### Annotate Interactions using HIPPIE database"
   ]
  },
  {
   "cell_type": "markdown",
   "metadata": {},
   "source": [
    "#### Read hippie interactions"
   ]
  },
  {
   "cell_type": "code",
   "execution_count": 69,
   "metadata": {},
   "outputs": [],
   "source": [
    "#dictionaries with genes/TFs as keys and [target_gene/TF, role, PUBMID ID] as value\n",
    "with open('/s/chromatin/p/nobackup/Saira/motif_databases/Human_Chromatin/hippie/interactions_dict.pckl','rb') as f:\n",
    "    human_dict = pickle.load(f)"
   ]
  },
  {
   "cell_type": "code",
   "execution_count": 70,
   "metadata": {},
   "outputs": [
    {
     "data": {
      "text/plain": [
       "13744"
      ]
     },
     "execution_count": 70,
     "metadata": {},
     "output_type": "execute_result"
    }
   ],
   "source": [
    "len(human_dict.keys())"
   ]
  },
  {
   "cell_type": "code",
   "execution_count": 71,
   "metadata": {},
   "outputs": [],
   "source": [
    "for key,value in human_dict.items():\n",
    "    human_dict[key] = np.array([[val, '', '0'] for val in value])"
   ]
  },
  {
   "cell_type": "code",
   "execution_count": 72,
   "metadata": {},
   "outputs": [],
   "source": [
    "df['Interaction_in_HIPPIE'] = df['TF_Interaction'].apply(db_annotate_interaction, intr_dict = human_dict)"
   ]
  },
  {
   "cell_type": "code",
   "execution_count": 73,
   "metadata": {},
   "outputs": [],
   "source": [
    "df_resHIPPIE = df[df['Interaction_in_HIPPIE']==1]"
   ]
  },
  {
   "cell_type": "code",
   "execution_count": 74,
   "metadata": {},
   "outputs": [],
   "source": [
    "df_resHIPPIEx = df_resHIPPIE[['TF_Interaction','TF1_Family','TF2_Family','adjusted_pval']].sort_values(by='adjusted_pval').drop_duplicates('TF_Interaction')"
   ]
  },
  {
   "cell_type": "code",
   "execution_count": 75,
   "metadata": {},
   "outputs": [
    {
     "data": {
      "text/html": [
       "<div>\n",
       "<style scoped>\n",
       "    .dataframe tbody tr th:only-of-type {\n",
       "        vertical-align: middle;\n",
       "    }\n",
       "\n",
       "    .dataframe tbody tr th {\n",
       "        vertical-align: top;\n",
       "    }\n",
       "\n",
       "    .dataframe thead th {\n",
       "        text-align: right;\n",
       "    }\n",
       "</style>\n",
       "<table border=\"1\" class=\"dataframe\">\n",
       "  <thead>\n",
       "    <tr style=\"text-align: right;\">\n",
       "      <th></th>\n",
       "      <th>TF_Interaction</th>\n",
       "      <th>TF1_Family</th>\n",
       "      <th>TF2_Family</th>\n",
       "      <th>adjusted_pval</th>\n",
       "    </tr>\n",
       "  </thead>\n",
       "  <tbody>\n",
       "  </tbody>\n",
       "</table>\n",
       "</div>"
      ],
      "text/plain": [
       "Empty DataFrame\n",
       "Columns: [TF_Interaction, TF1_Family, TF2_Family, adjusted_pval]\n",
       "Index: []"
      ]
     },
     "execution_count": 75,
     "metadata": {},
     "output_type": "execute_result"
    }
   ],
   "source": [
    "df_resHIPPIEx"
   ]
  },
  {
   "cell_type": "code",
   "execution_count": 76,
   "metadata": {},
   "outputs": [],
   "source": [
    "df_resHIPPIEx.to_csv(f'{output_path}/Human_ATTN_HIPPIE_{suffix}.csv')"
   ]
  },
  {
   "cell_type": "code",
   "execution_count": null,
   "metadata": {},
   "outputs": [],
   "source": []
  }
 ],
 "metadata": {
  "kernelspec": {
   "display_name": "Python 3 (ipykernel)",
   "language": "python",
   "name": "python3"
  },
  "language_info": {
   "codemirror_mode": {
    "name": "ipython",
    "version": 3
   },
   "file_extension": ".py",
   "mimetype": "text/x-python",
   "name": "python",
   "nbconvert_exporter": "python",
   "pygments_lexer": "ipython3",
   "version": "3.12.1"
  }
 },
 "nbformat": 4,
 "nbformat_minor": 2
}
