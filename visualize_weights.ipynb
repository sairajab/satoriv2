{
 "cells": [
  {
   "cell_type": "code",
   "execution_count": 1,
   "metadata": {},
   "outputs": [],
   "source": [
    "import math\n",
    "import torch\n",
    "import torch.nn as nn\n",
    "import torch.nn.functional as F\n",
    "from torch.autograd import Variable\n",
    "from torch.nn.parameter import Parameter # import Parameter to create custom activations with learnable parameters\n",
    "import numpy as np\n",
    "import pickle\n"
   ]
  },
  {
   "attachments": {},
   "cell_type": "markdown",
   "metadata": {},
   "source": [
    "## Test 1st CNN features"
   ]
  },
  {
   "cell_type": "code",
   "execution_count": 3,
   "metadata": {},
   "outputs": [],
   "source": [
    "objects = []\n",
    "with (open(\"results/newdata/E4/Stored_Values/CNNout_batch-0.pckl\", \"rb\")) as openfile:\n",
    "    while True:\n",
    "        try:\n",
    "            objects.append(pickle.load(openfile))\n",
    "        except EOFError:\n",
    "            break"
   ]
  },
  {
   "cell_type": "code",
   "execution_count": 2,
   "metadata": {},
   "outputs": [],
   "source": [
    "objects = []\n",
    "with (open(\"results/arabidopsis/sei/final2/Interactions_SATORI/attn_score_main_bg.pckl\", \"rb\")) as openfile:\n",
    "    while True:\n",
    "        try:\n",
    "            objects.append(pickle.load(openfile))\n",
    "        except EOFError:\n",
    "            break"
   ]
  },
  {
   "cell_type": "code",
   "execution_count": 3,
   "metadata": {},
   "outputs": [],
   "source": [
    "main, bg = objects[0]"
   ]
  },
  {
   "cell_type": "code",
   "execution_count": 6,
   "metadata": {},
   "outputs": [
    {
     "data": {
      "text/plain": [
       "array([], dtype=float64)"
      ]
     },
     "execution_count": 6,
     "metadata": {},
     "output_type": "execute_result"
    }
   ],
   "source": [
    "bg"
   ]
  },
  {
   "cell_type": "code",
   "execution_count": 32,
   "metadata": {},
   "outputs": [
    {
     "name": "stdout",
     "output_type": "stream",
     "text": [
      "2.991959 144\n",
      "2.8165014 10\n",
      "3.4088056 36\n",
      "3.2195895 116\n",
      "2.3163762 286\n",
      "2.0644605 299\n",
      "2.316122 85\n",
      "2.8744502 225\n",
      "2.9329386 246\n",
      "2.669723 183\n",
      "3.4384785 86\n",
      "2.9745934 69\n",
      "2.746015 54\n",
      "2.461088 147\n",
      "2.4536867 97\n",
      "2.4119997 173\n",
      "2.6842082 290\n",
      "2.769147 100\n",
      "2.4320948 213\n",
      "2.27934 251\n",
      "2.8348851 201\n",
      "2.5738385 112\n",
      "2.6452355 22\n",
      "2.5965445 17\n",
      "2.377142 165\n",
      "2.5663373 169\n",
      "2.4135578 209\n",
      "1.91974 72\n",
      "2.173178 202\n",
      "2.473507 53\n",
      "2.5300632 116\n",
      "2.6732793 138\n",
      "2.4304733 13\n",
      "2.6437087 246\n",
      "3.5094006 239\n",
      "2.5474954 183\n",
      "3.1544669 241\n",
      "2.226044 27\n",
      "2.6598547 181\n",
      "2.7398686 165\n",
      "2.5460975 113\n",
      "2.9726732 19\n",
      "2.5699637 221\n",
      "2.621045 10\n",
      "3.1611032 32\n",
      "2.5239134 242\n",
      "3.419625 228\n",
      "2.2992215 6\n",
      "2.546013 89\n",
      "3.1775765 42\n",
      "2.596504 81\n",
      "2.9016666 241\n",
      "2.8252842 73\n",
      "2.801619 243\n",
      "2.2545514 89\n",
      "2.5277128 92\n",
      "2.2906547 188\n",
      "2.8739638 129\n",
      "2.700579 263\n",
      "2.644844 211\n",
      "2.9852188 12\n",
      "2.3641891 26\n",
      "2.6969607 175\n",
      "2.4278514 161\n",
      "2.8283477 230\n",
      "2.9298668 169\n",
      "2.3497481 284\n",
      "3.106833 247\n",
      "2.9451213 51\n",
      "2.4160993 208\n",
      "2.3564084 10\n",
      "2.4171596 84\n",
      "2.7639382 168\n",
      "2.7662036 187\n",
      "2.9055786 88\n",
      "3.2179682 7\n",
      "3.1316228 127\n",
      "2.7683637 211\n",
      "2.518764 222\n",
      "2.884742 118\n",
      "3.188763 30\n",
      "2.1157012 161\n",
      "2.563509 284\n",
      "2.4415472 21\n",
      "2.5334046 242\n",
      "2.4772036 99\n",
      "2.8097034 18\n",
      "2.573012 8\n",
      "3.0126636 121\n",
      "2.911359 123\n",
      "3.4483113 20\n",
      "2.4441724 138\n",
      "2.5745232 172\n",
      "2.8536294 188\n",
      "2.1350307 120\n",
      "2.8873193 287\n",
      "3.3074222 204\n",
      "2.6504176 265\n",
      "2.5046496 136\n",
      "2.6726508 162\n",
      "2.7901125 197\n",
      "3.431145 34\n",
      "2.4371715 9\n",
      "3.1538513 209\n",
      "2.8630204 70\n",
      "2.8592017 258\n",
      "2.9306083 14\n",
      "3.2015822 238\n",
      "2.799744 145\n",
      "2.537708 269\n",
      "2.9634652 119\n",
      "2.2749698 280\n",
      "2.8012052 113\n",
      "2.586946 189\n",
      "2.72672 208\n",
      "2.580211 232\n",
      "2.4081304 22\n",
      "3.297777 117\n",
      "2.2789707 153\n",
      "2.5437632 169\n",
      "2.5137336 4\n",
      "3.2406003 88\n",
      "2.6564667 172\n",
      "2.8836095 67\n",
      "2.801259 166\n",
      "3.0189981 53\n",
      "3.0179148 16\n",
      "3.112559 63\n",
      "2.8714645 15\n",
      "2.9928389 41\n",
      "2.8840861 231\n",
      "2.422618 165\n",
      "2.4238024 277\n",
      "2.9747791 125\n",
      "2.8358161 276\n",
      "3.4657202 292\n",
      "3.3490632 12\n",
      "2.572548 64\n",
      "2.5298178 241\n",
      "2.6338308 20\n",
      "2.9250205 131\n",
      "2.7703598 196\n",
      "3.0486395 59\n",
      "3.722753 41\n",
      "2.7380097 215\n",
      "2.7806768 215\n",
      "3.0159917 261\n",
      "2.7788699 273\n",
      "2.3784342 243\n",
      "2.6863801 57\n",
      "2.5973654 271\n",
      "1.9250362 88\n",
      "2.8576355 268\n",
      "2.6305702 171\n",
      "2.273145 38\n",
      "2.9685318 79\n",
      "2.160823 171\n",
      "3.3081827 241\n",
      "3.0452313 214\n",
      "2.2535396 3\n",
      "2.8644552 271\n",
      "2.564481 153\n",
      "3.122031 187\n",
      "2.7565577 187\n",
      "2.8580089 103\n",
      "2.4641345 241\n",
      "3.3989253 240\n",
      "2.6860454 17\n",
      "2.6871777 280\n",
      "2.380902 239\n",
      "2.615906 59\n",
      "2.564186 257\n",
      "2.0647383 11\n",
      "2.713812 78\n",
      "2.9774694 76\n",
      "3.077494 110\n",
      "3.1936324 94\n",
      "2.9073083 81\n",
      "2.151221 240\n",
      "2.8379931 86\n",
      "3.1014888 105\n",
      "2.820469 15\n",
      "3.2391295 117\n",
      "2.6444962 201\n",
      "2.162712 117\n",
      "3.2175279 12\n",
      "2.594428 279\n",
      "2.8944147 260\n",
      "2.578541 47\n",
      "2.9251764 241\n",
      "2.4957144 93\n",
      "2.4648004 137\n",
      "2.5079348 277\n",
      "2.5639076 129\n",
      "2.8328156 282\n",
      "2.980181 179\n",
      "3.1726513 242\n",
      "3.0699573 241\n",
      "2.3264318 275\n",
      "2.1470683 243\n"
     ]
    }
   ],
   "source": [
    "for filter in range(data.shape[0]):\n",
    "    print(data[filter,:].max(),data[filter,:].argmax())"
   ]
  },
  {
   "cell_type": "code",
   "execution_count": 28,
   "metadata": {},
   "outputs": [
    {
     "data": {
      "text/plain": [
       "2.3163998"
      ]
     },
     "execution_count": 28,
     "metadata": {},
     "output_type": "execute_result"
    }
   ],
   "source": [
    "objects[0][0][:,142]"
   ]
  },
  {
   "cell_type": "code",
   "execution_count": 25,
   "metadata": {},
   "outputs": [
    {
     "data": {
      "text/plain": [
       "2.341918"
      ]
     },
     "execution_count": 25,
     "metadata": {},
     "output_type": "execute_result"
    }
   ],
   "source": [
    "objects[0][0][91,142]"
   ]
  },
  {
   "cell_type": "code",
   "execution_count": 21,
   "metadata": {},
   "outputs": [
    {
     "data": {
      "text/plain": [
       "143.13576158940398"
      ]
     },
     "execution_count": 21,
     "metadata": {},
     "output_type": "execute_result"
    }
   ],
   "source": [
    "43227/302"
   ]
  },
  {
   "cell_type": "code",
   "execution_count": 4,
   "metadata": {},
   "outputs": [
    {
     "data": {
      "text/plain": [
       "torch.Size([20, 5, 10])"
      ]
     },
     "execution_count": 4,
     "metadata": {},
     "output_type": "execute_result"
    }
   ],
   "source": [
    "#Test block\n",
    "# NLP Example\n",
    "batch, sentence_length, embedding_dim = 20, 5, 10\n",
    "embedding = torch.randn(batch, sentence_length, embedding_dim)\n",
    "layer_norm = nn.LayerNorm(embedding_dim)\n",
    "# Activate module\n",
    "layer_norm(embedding).shape\n"
   ]
  },
  {
   "cell_type": "code",
   "execution_count": 10,
   "metadata": {},
   "outputs": [],
   "source": [
    "class RelativePosition(nn.Module):\n",
    "    \n",
    "    def __init__(self, num_units, max_relative_position):\n",
    "        super().__init__()\n",
    "        self.num_units = num_units\n",
    "        self.max_relative_position = max_relative_position\n",
    "        \n",
    "    def forward(self, length_q=200, length_k=200):\n",
    "        range_vec_q = torch.arange(length_q)\n",
    "        range_vec_k = torch.arange(length_k)\n",
    "        distance_mat = range_vec_k[None, :] - range_vec_q[:, None]\n",
    "        distance_mat_clipped = torch.clamp(distance_mat, -self.max_relative_position, self.max_relative_position)\n",
    "        final_mat = torch.LongTensor(distance_mat_clipped).cuda()\n",
    "        distances = final_mat.repeat(self.num_units, 1, 1)\n",
    "        distances = torch.abs(distances)\n",
    "\n",
    "\n",
    "        return distances"
   ]
  },
  {
   "cell_type": "code",
   "execution_count": 11,
   "metadata": {},
   "outputs": [],
   "source": [
    "relative_position_k_q = RelativePosition(1, 300 - 1)\n",
    "relative_dist = relative_position_k_q(300, 300)/ (300 - 1)"
   ]
  },
  {
   "cell_type": "code",
   "execution_count": null,
   "metadata": {},
   "outputs": [],
   "source": []
  },
  {
   "cell_type": "code",
   "execution_count": 5,
   "metadata": {},
   "outputs": [],
   "source": [
    "img = relative_dist.squeeze().cpu().numpy()"
   ]
  },
  {
   "cell_type": "code",
   "execution_count": 6,
   "metadata": {},
   "outputs": [
    {
     "data": {
      "image/png": "[encoded data removed]",
      "text/plain": [
       "<Figure size 640x480 with 1 Axes>"
      ]
     },
     "metadata": {},
     "output_type": "display_data"
    }
   ],
   "source": [
    "import matplotlib.pyplot as plt\n",
    "plt.imshow(img, interpolation='none')\n",
    "plt.show()"
   ]
  },
  {
   "cell_type": "code",
   "execution_count": 32,
   "metadata": {},
   "outputs": [],
   "source": [
    "objects = []\n",
    "with (open(\"results/final/fixed_seed/rel_l_attn/ctf_0/Stored_Values/dist_batch-2.pckl\", \"rb\")) as openfile:\n",
    "    while True:\n",
    "        try:\n",
    "            objects.append(pickle.load(openfile))\n",
    "        except EOFError:\n",
    "            break"
   ]
  },
  {
   "cell_type": "code",
   "execution_count": 3,
   "metadata": {},
   "outputs": [
    {
     "ename": "NameError",
     "evalue": "name 'objects' is not defined",
     "output_type": "error",
     "traceback": [
      "\u001b[0;31m---------------------------------------------------------------------------\u001b[0m",
      "\u001b[0;31mNameError\u001b[0m                                 Traceback (most recent call last)",
      "Cell \u001b[0;32mIn[3], line 1\u001b[0m\n\u001b[0;32m----> 1\u001b[0m l_dist \u001b[39m=\u001b[39m np\u001b[39m.\u001b[39mmean(objects[\u001b[39m0\u001b[39m], axis\u001b[39m=\u001b[39m\u001b[39m0\u001b[39m)\n",
      "\u001b[0;31mNameError\u001b[0m: name 'objects' is not defined"
     ]
    }
   ],
   "source": [
    "l_dist = np.mean(objects[0], axis=0)"
   ]
  },
  {
   "cell_type": "code",
   "execution_count": null,
   "metadata": {},
   "outputs": [
    {
     "data": {
      "text/plain": [
       "(19, 19)"
      ]
     },
     "execution_count": 30,
     "metadata": {},
     "output_type": "execute_result"
    }
   ],
   "source": [
    "l_dist.shape"
   ]
  },
  {
   "cell_type": "code",
   "execution_count": null,
   "metadata": {},
   "outputs": [
    {
     "data": {
      "image/png": "[encoded data removed]",
      "text/plain": [
       "<Figure size 640x480 with 1 Axes>"
      ]
     },
     "metadata": {},
     "output_type": "display_data"
    }
   ],
   "source": [
    "plt.imshow(l_dist, interpolation='none')\n",
    "plt.show()"
   ]
  },
  {
   "cell_type": "code",
   "execution_count": 14,
   "metadata": {},
   "outputs": [],
   "source": [
    "class argspace:\n",
    "    def __init__(self, numLabels):\n",
    "            self.numLabels = numLabels\n",
    "            self.load_motif_weights = True"
   ]
  },
  {
   "cell_type": "code",
   "execution_count": 15,
   "metadata": {},
   "outputs": [],
   "source": [
    "import sys\n",
    "import torch\n",
    "import random\n",
    "sys.path.insert(0,'satori')\n",
    "from satori.utils import get_params_dict, annotate_motifs\n",
    "#hparamfile = \"modelsparam/all_exps/baseline/baseline_ld.txt\"\n",
    "hparamfile = \"modelsparam/all_exps/baseline/baseline.txt\"\n",
    "params_dict = get_params_dict(hparamfile)\n"
   ]
  },
  {
   "cell_type": "code",
   "execution_count": 16,
   "metadata": {},
   "outputs": [],
   "source": [
    "arg_space = argspace(2)"
   ]
  },
  {
   "cell_type": "code",
   "execution_count": 17,
   "metadata": {},
   "outputs": [],
   "source": [
    "params_dict[\"CNN_filtersize\"] = [21]"
   ]
  },
  {
   "cell_type": "code",
   "execution_count": 21,
   "metadata": {},
   "outputs": [
    {
     "name": "stdout",
     "output_type": "stream",
     "text": [
      "{'input_channels': 4, 'use_embeddings': False, 'embd_window': 5, 'embd_size': 50, 'embd_kmersize': 3, 'num_multiheads': 4, 'singlehead_size': 64, 'multihead_size': 100, 'use_pooling': False, 'pooling_val': 4, 'readout_strategy': 'normalize', 'use_RNN': False, 'RNN_hiddensize': 100, 'use_CNN': True, 'CNN1_useexponential': False, 'use_posEnc': False, 'CNN_filters': [200], 'CNN_filtersize': [21], 'use_CNNpool': True, 'CNN_poolsize': 4, 'CNN_padding': 0, 'get_CNNout': True, 'get_seqs': True, 'get_pattn': True, 'batch_size': 256, 'num_epochs': 40, 'relativeAttn': False, 'Learnable_relativeAttn': False, 'mixed_attn': False, 'mixed_attn_config': '0.25', 'sqrt_dist': False, 'num_attnlayers': 1, 'entropy_loss': False, 'entropy_reg_value': '0.01', 'residual_connection': False}\n",
      "70\n"
     ]
    }
   ],
   "source": [
    "\n",
    "from satori.models import AttentionNet\n",
    "import torch.optim as optim\n",
    "\n",
    "device = \"cpu\"\n",
    "net = AttentionNet(arg_space, params_dict, device=device).to(device)\n",
    "optimizer = optim.SGD(net.parameters(), lr=0.01)\n"
   ]
  },
  {
   "cell_type": "code",
   "execution_count": 24,
   "metadata": {},
   "outputs": [],
   "source": [
    "#saved_model_dir = 'results/newdata/ctf_40pairs_eq/baseline_ld/E1/Saved_Model'\n",
    "device = torch.device('cpu')\n",
    "\n",
    "saved_model_dir = 'results/newdata/ctf_40pairs_eq/motifCNN/E3/Saved_Model'\n",
    "#try:    \n",
    "checkpoint = torch.load(saved_model_dir+'/model', map_location=device)\n",
    "net.load_state_dict(checkpoint['model_state_dict'])\n",
    "optimizer.load_state_dict(checkpoint['optimizer_state_dict'])\n",
    "epoch = checkpoint['epoch']\n",
    "loss = checkpoint['loss']\n",
    "# except:\n",
    "#         raise Exception(f\"No pre-trained model found at {saved_model_dir}! Please run with --mode set to train.\")"
   ]
  },
  {
   "cell_type": "code",
   "execution_count": 48,
   "metadata": {},
   "outputs": [
    {
     "name": "stderr",
     "output_type": "stream",
     "text": [
      "/tmp/ipykernel_1917948/1810966958.py:6: DeprecationWarning: `np.long` is a deprecated alias for `np.compat.long`. To silence this warning, use `np.compat.long` by itself. In the likely event your code does not need to work on Python 2 you can use the builtin `int` for which `np.compat.long` is itself an alias. Doing this will not modify any behaviour and is safe. When replacing `np.long`, you may wish to use e.g. `np.int64` or `np.int32` to specify the precision. If you wish to review your current use, check the release note link for additional information.\n",
      "Deprecated in NumPy 1.20; for more details and guidance: https://numpy.org/devdocs/release/1.20.0-notes.html#deprecations\n",
      "  return np.eye(4)[seq2].T.astype(np.long)\n"
     ]
    }
   ],
   "source": [
    "dummy_input = \"CAATGTTGCACACATGTAAGGTGCATAGATATGTACCTGGACTCGGTACCGAAAAGTACCGGAATGAGGGTATTTCCTGAGGCAATTTCACATATGTTATTCCCCTGAATCGGGATTAGGTGAGCCCGGCTGCCGTTCAAAAACTCCTAAGCAAACCTAGATCCACCTGGACGTAACCATGTAAAAGTAGCGAAATAGCCCACGTGGGCATTCGGATTTCGGGGGGCGTCTCATATCGTACTATCTCGGCAGCTACGTAGGGGTCGAAGACCTTCTGACGACATGTGGTTTCCATACCAA\"\n",
    "\n",
    "def one_hot_encode(seq):\n",
    "    mapping = dict(zip(\"ACGT\", range(4)))    \n",
    "    seq2 = [mapping[i] for i in seq]\n",
    "    return np.eye(4)[seq2].T.astype(np.long)\n",
    "\n",
    "inp = torch.tensor(one_hot_encode(dummy_input) , device=\"cpu\")"
   ]
  },
  {
   "cell_type": "code",
   "execution_count": 52,
   "metadata": {},
   "outputs": [],
   "source": [
    "x = inp.unsqueeze(dim=0)\n",
    "x = x.to(\"cpu\",dtype=torch.float)"
   ]
  },
  {
   "cell_type": "code",
   "execution_count": 51,
   "metadata": {},
   "outputs": [
    {
     "data": {
      "text/plain": [
       "AttentionNet(\n",
       "  (layer1): Sequential(\n",
       "    (0): Conv1d(4, 200, kernel_size=(21,), stride=(1,), bias=False)\n",
       "    (1): BatchNorm1d(200, eps=1e-05, momentum=0.1, affine=True, track_running_stats=True)\n",
       "    (2): ReLU()\n",
       "    (3): MaxPool1d(kernel_size=4, stride=4, padding=0, dilation=1, ceil_mode=False)\n",
       "  )\n",
       "  (dropout1): Dropout(p=0.2, inplace=False)\n",
       "  (Q): ModuleList(\n",
       "    (0): ModuleList(\n",
       "      (0): Linear(in_features=200, out_features=64, bias=True)\n",
       "      (1): Linear(in_features=200, out_features=64, bias=True)\n",
       "      (2): Linear(in_features=200, out_features=64, bias=True)\n",
       "      (3): Linear(in_features=200, out_features=64, bias=True)\n",
       "    )\n",
       "  )\n",
       "  (K): ModuleList(\n",
       "    (0): ModuleList(\n",
       "      (0): Linear(in_features=200, out_features=64, bias=True)\n",
       "      (1): Linear(in_features=200, out_features=64, bias=True)\n",
       "      (2): Linear(in_features=200, out_features=64, bias=True)\n",
       "      (3): Linear(in_features=200, out_features=64, bias=True)\n",
       "    )\n",
       "  )\n",
       "  (V): ModuleList(\n",
       "    (0): ModuleList(\n",
       "      (0): Linear(in_features=200, out_features=64, bias=True)\n",
       "      (1): Linear(in_features=200, out_features=64, bias=True)\n",
       "      (2): Linear(in_features=200, out_features=64, bias=True)\n",
       "      (3): Linear(in_features=200, out_features=64, bias=True)\n",
       "    )\n",
       "  )\n",
       "  (RELU): ModuleList(\n",
       "    (0): ReLU()\n",
       "    (1): ReLU()\n",
       "    (2): ReLU()\n",
       "    (3): ReLU()\n",
       "  )\n",
       "  (MultiHeadLinear_1): ModuleList(\n",
       "    (0): Linear(in_features=256, out_features=256, bias=True)\n",
       "  )\n",
       "  (MultiHeadLinear_2): ModuleList(\n",
       "    (0): Linear(in_features=256, out_features=64, bias=True)\n",
       "  )\n",
       "  (linear_cnn): Linear(in_features=200, out_features=64, bias=True)\n",
       "  (MultiHeadDropout): ModuleList(\n",
       "    (0): Dropout(p=0.1, inplace=False)\n",
       "  )\n",
       "  (MultiHeadLayerNorm): ModuleList(\n",
       "    (0): LayerNorm((64,), eps=1e-05, elementwise_affine=True)\n",
       "  )\n",
       "  (MHReLU): ReLU()\n",
       "  (MHGeLU): ModuleList(\n",
       "    (0): GELU(approximate=none)\n",
       "  )\n",
       "  (fc3): Linear(in_features=64, out_features=2, bias=True)\n",
       ")"
      ]
     },
     "execution_count": 51,
     "metadata": {},
     "output_type": "execute_result"
    }
   ],
   "source": [
    "net.eval()\n",
    "net"
   ]
  },
  {
   "cell_type": "code",
   "execution_count": 56,
   "metadata": {},
   "outputs": [],
   "source": [
    "l1 = net.layer1[:-1]\n",
    "l1.eval()\n",
    "res = l1(x)"
   ]
  },
  {
   "cell_type": "code",
   "execution_count": 61,
   "metadata": {},
   "outputs": [
    {
     "data": {
      "text/plain": [
       "tensor(247)"
      ]
     },
     "execution_count": 61,
     "metadata": {},
     "output_type": "execute_result"
    }
   ],
   "source": [
    "torch.argmax(res[:, 19, :])"
   ]
  },
  {
   "cell_type": "code",
   "execution_count": 62,
   "metadata": {},
   "outputs": [
    {
     "data": {
      "text/plain": [
       "tensor([3.4566], grad_fn=<SelectBackward0>)"
      ]
     },
     "execution_count": 62,
     "metadata": {},
     "output_type": "execute_result"
    }
   ],
   "source": [
    "res[:, 19, 247]"
   ]
  },
  {
   "cell_type": "code",
   "execution_count": 66,
   "metadata": {},
   "outputs": [
    {
     "data": {
      "text/plain": [
       "tensor([3.1685], grad_fn=<SelectBackward0>)"
      ]
     },
     "execution_count": 66,
     "metadata": {},
     "output_type": "execute_result"
    }
   ],
   "source": [
    "res[:, 15, torch.argmax(res[:, 15, :])]"
   ]
  },
  {
   "cell_type": "code",
   "execution_count": 12,
   "metadata": {},
   "outputs": [
    {
     "data": {
      "text/plain": [
       "Conv2d(1, 1, kernel_size=(3, 3), stride=(1, 1), padding=(1, 1))"
      ]
     },
     "execution_count": 12,
     "metadata": {},
     "output_type": "execute_result"
    }
   ],
   "source": [
    "ld_layer = net.dconv1\n",
    "ld_layer.eval()"
   ]
  },
  {
   "cell_type": "code",
   "execution_count": 12,
   "metadata": {},
   "outputs": [
    {
     "ename": "AttributeError",
     "evalue": "'AttentionNet' object has no attribute 'rd1'",
     "output_type": "error",
     "traceback": [
      "\u001b[0;31m---------------------------------------------------------------------------\u001b[0m",
      "\u001b[0;31mAttributeError\u001b[0m                            Traceback (most recent call last)",
      "Cell \u001b[0;32mIn[12], line 1\u001b[0m\n\u001b[0;32m----> 1\u001b[0m rd1 \u001b[39m=\u001b[39m net\u001b[39m.\u001b[39;49mrd1\n\u001b[1;32m      2\u001b[0m rd1\u001b[39m.\u001b[39meval()\n\u001b[1;32m      3\u001b[0m rd2 \u001b[39m=\u001b[39m net\u001b[39m.\u001b[39mrd2\n",
      "File \u001b[0;32m/s/jawar/f/nobackup/Saira/miniconda3/envs/venv3/lib/python3.10/site-packages/torch/nn/modules/module.py:1207\u001b[0m, in \u001b[0;36mModule.__getattr__\u001b[0;34m(self, name)\u001b[0m\n\u001b[1;32m   1205\u001b[0m     \u001b[39mif\u001b[39;00m name \u001b[39min\u001b[39;00m modules:\n\u001b[1;32m   1206\u001b[0m         \u001b[39mreturn\u001b[39;00m modules[name]\n\u001b[0;32m-> 1207\u001b[0m \u001b[39mraise\u001b[39;00m \u001b[39mAttributeError\u001b[39;00m(\u001b[39m\"\u001b[39m\u001b[39m'\u001b[39m\u001b[39m{}\u001b[39;00m\u001b[39m'\u001b[39m\u001b[39m object has no attribute \u001b[39m\u001b[39m'\u001b[39m\u001b[39m{}\u001b[39;00m\u001b[39m'\u001b[39m\u001b[39m\"\u001b[39m\u001b[39m.\u001b[39mformat(\n\u001b[1;32m   1208\u001b[0m     \u001b[39mtype\u001b[39m(\u001b[39mself\u001b[39m)\u001b[39m.\u001b[39m\u001b[39m__name__\u001b[39m, name))\n",
      "\u001b[0;31mAttributeError\u001b[0m: 'AttentionNet' object has no attribute 'rd1'"
     ]
    }
   ],
   "source": [
    "rd1 = net.rd1\n",
    "rd1.eval()\n",
    "rd2 = net.rd2\n",
    "rd2.eval()"
   ]
  },
  {
   "cell_type": "code",
   "execution_count": 50,
   "metadata": {},
   "outputs": [],
   "source": [
    "d_out = rd1(relative_dist)"
   ]
  },
  {
   "cell_type": "code",
   "execution_count": 39,
   "metadata": {},
   "outputs": [
    {
     "data": {
      "text/plain": [
       "tensor([[[0.3177, 0.3579, 0.3980, 0.4381, 0.4783, 0.5184, 0.5585, 0.5987,\n",
       "          0.6388, 0.6789, 0.7191, 0.7592, 0.7993, 0.8395, 0.8796, 0.9197,\n",
       "          0.9599, 1.0000],\n",
       "         [0.3579, 0.3177, 0.3579, 0.3980, 0.4381, 0.4783, 0.5184, 0.5585,\n",
       "          0.5987, 0.6388, 0.6789, 0.7191, 0.7592, 0.7993, 0.8395, 0.8796,\n",
       "          0.9197, 0.9599],\n",
       "         [0.3980, 0.3579, 0.3177, 0.3579, 0.3980, 0.4381, 0.4783, 0.5184,\n",
       "          0.5585, 0.5987, 0.6388, 0.6789, 0.7191, 0.7592, 0.7993, 0.8395,\n",
       "          0.8796, 0.9197],\n",
       "         [0.4381, 0.3980, 0.3579, 0.3177, 0.3579, 0.3980, 0.4381, 0.4783,\n",
       "          0.5184, 0.5585, 0.5987, 0.6388, 0.6789, 0.7191, 0.7592, 0.7993,\n",
       "          0.8395, 0.8796],\n",
       "         [0.4783, 0.4381, 0.3980, 0.3579, 0.3177, 0.3579, 0.3980, 0.4381,\n",
       "          0.4783, 0.5184, 0.5585, 0.5987, 0.6388, 0.6789, 0.7191, 0.7592,\n",
       "          0.7993, 0.8395],\n",
       "         [0.5184, 0.4783, 0.4381, 0.3980, 0.3579, 0.3177, 0.3579, 0.3980,\n",
       "          0.4381, 0.4783, 0.5184, 0.5585, 0.5987, 0.6388, 0.6789, 0.7191,\n",
       "          0.7592, 0.7993],\n",
       "         [0.5585, 0.5184, 0.4783, 0.4381, 0.3980, 0.3579, 0.3177, 0.3579,\n",
       "          0.3980, 0.4381, 0.4783, 0.5184, 0.5585, 0.5987, 0.6388, 0.6789,\n",
       "          0.7191, 0.7592],\n",
       "         [0.5987, 0.5585, 0.5184, 0.4783, 0.4381, 0.3980, 0.3579, 0.3177,\n",
       "          0.3579, 0.3980, 0.4381, 0.4783, 0.5184, 0.5585, 0.5987, 0.6388,\n",
       "          0.6789, 0.7191],\n",
       "         [0.6388, 0.5987, 0.5585, 0.5184, 0.4783, 0.4381, 0.3980, 0.3579,\n",
       "          0.3177, 0.3579, 0.3980, 0.4381, 0.4783, 0.5184, 0.5585, 0.5987,\n",
       "          0.6388, 0.6789],\n",
       "         [0.6789, 0.6388, 0.5987, 0.5585, 0.5184, 0.4783, 0.4381, 0.3980,\n",
       "          0.3579, 0.3177, 0.3579, 0.3980, 0.4381, 0.4783, 0.5184, 0.5585,\n",
       "          0.5987, 0.6388],\n",
       "         [0.7191, 0.6789, 0.6388, 0.5987, 0.5585, 0.5184, 0.4783, 0.4381,\n",
       "          0.3980, 0.3579, 0.3177, 0.3579, 0.3980, 0.4381, 0.4783, 0.5184,\n",
       "          0.5585, 0.5987],\n",
       "         [0.7592, 0.7191, 0.6789, 0.6388, 0.5987, 0.5585, 0.5184, 0.4783,\n",
       "          0.4381, 0.3980, 0.3579, 0.3177, 0.3579, 0.3980, 0.4381, 0.4783,\n",
       "          0.5184, 0.5585],\n",
       "         [0.7993, 0.7592, 0.7191, 0.6789, 0.6388, 0.5987, 0.5585, 0.5184,\n",
       "          0.4783, 0.4381, 0.3980, 0.3579, 0.3177, 0.3579, 0.3980, 0.4381,\n",
       "          0.4783, 0.5184],\n",
       "         [0.8395, 0.7993, 0.7592, 0.7191, 0.6789, 0.6388, 0.5987, 0.5585,\n",
       "          0.5184, 0.4783, 0.4381, 0.3980, 0.3579, 0.3177, 0.3579, 0.3980,\n",
       "          0.4381, 0.4783],\n",
       "         [0.8796, 0.8395, 0.7993, 0.7592, 0.7191, 0.6789, 0.6388, 0.5987,\n",
       "          0.5585, 0.5184, 0.4783, 0.4381, 0.3980, 0.3579, 0.3177, 0.3579,\n",
       "          0.3980, 0.4381],\n",
       "         [0.9197, 0.8796, 0.8395, 0.7993, 0.7592, 0.7191, 0.6789, 0.6388,\n",
       "          0.5987, 0.5585, 0.5184, 0.4783, 0.4381, 0.3980, 0.3579, 0.3177,\n",
       "          0.3579, 0.3980],\n",
       "         [0.9599, 0.9197, 0.8796, 0.8395, 0.7993, 0.7592, 0.7191, 0.6789,\n",
       "          0.6388, 0.5987, 0.5585, 0.5184, 0.4783, 0.4381, 0.3980, 0.3579,\n",
       "          0.3177, 0.3579],\n",
       "         [1.0000, 0.9599, 0.9197, 0.8796, 0.8395, 0.7993, 0.7592, 0.7191,\n",
       "          0.6789, 0.6388, 0.5987, 0.5585, 0.5184, 0.4783, 0.4381, 0.3980,\n",
       "          0.3579, 0.3177]]], device='cuda:0')"
      ]
     },
     "execution_count": 39,
     "metadata": {},
     "output_type": "execute_result"
    }
   ],
   "source": [
    "d_out"
   ]
  },
  {
   "cell_type": "code",
   "execution_count": 51,
   "metadata": {},
   "outputs": [
    {
     "data": {
      "text/plain": [
       "tensor([[[-0.0210, -0.0299, -0.0195,  ...,  0.3320,  0.3372,  0.3201],\n",
       "         [ 0.1354,  0.1785,  0.1864,  ...,  1.0139,  1.0262,  0.7797],\n",
       "         [ 0.1416,  0.1741,  0.1785,  ...,  1.0016,  1.0139,  0.7699],\n",
       "         ...,\n",
       "         [ 0.8702,  0.9917,  0.9795,  ...,  0.1785,  0.1864,  0.1181],\n",
       "         [ 0.8811,  1.0040,  0.9917,  ...,  0.1741,  0.1785,  0.1032],\n",
       "         [ 0.9221,  1.3074,  1.2922,  ...,  0.2740,  0.2635,  0.1047]]],\n",
       "       device='cuda:0', grad_fn=<SqueezeBackward1>)"
      ]
     },
     "execution_count": 51,
     "metadata": {},
     "output_type": "execute_result"
    }
   ],
   "source": [
    "ld_layer(d_out)"
   ]
  },
  {
   "cell_type": "code",
   "execution_count": 52,
   "metadata": {},
   "outputs": [],
   "source": [
    "ld_out = torch.sigmoid(ld_layer(d_out))"
   ]
  },
  {
   "cell_type": "code",
   "execution_count": 43,
   "metadata": {},
   "outputs": [
    {
     "data": {
      "text/plain": [
       "<matplotlib.colorbar.Colorbar at 0x7f8091ea47f0>"
      ]
     },
     "execution_count": 43,
     "metadata": {},
     "output_type": "execute_result"
    },
    {
     "data": {
      "image/png": "[encoded data removed]",
      "text/plain": [
       "<Figure size 640x480 with 2 Axes>"
      ]
     },
     "metadata": {},
     "output_type": "display_data"
    }
   ],
   "source": [
    "plt.imshow(ld_layer.weight.squeeze().cpu().detach().numpy())\n",
    "plt.colorbar()"
   ]
  },
  {
   "cell_type": "code",
   "execution_count": 53,
   "metadata": {},
   "outputs": [],
   "source": [
    "dist_learned = ld_out.squeeze().cpu().detach().numpy()"
   ]
  },
  {
   "cell_type": "code",
   "execution_count": 55,
   "metadata": {},
   "outputs": [
    {
     "data": {
      "image/png": "[encoded data removed]",
      "text/plain": [
       "<Figure size 640x480 with 2 Axes>"
      ]
     },
     "metadata": {},
     "output_type": "display_data"
    },
    {
     "data": {
      "image/png": "[encoded data removed]",
      "text/plain": [
       "<Figure size 640x480 with 2 Axes>"
      ]
     },
     "metadata": {},
     "output_type": "display_data"
    }
   ],
   "source": [
    "plt.imshow(dist_learned, cmap='summer')\n",
    "plt.colorbar() \n",
    "plt.show()\n",
    "plt.imshow(d_out.squeeze().cpu().detach().numpy(), cmap='summer')  # You can choose a different colormap\n",
    "plt.colorbar() \n",
    "\n",
    "plt.show()"
   ]
  }
 ],
 "metadata": {
  "kernelspec": {
   "display_name": "venv3",
   "language": "python",
   "name": "python3"
  },
  "language_info": {
   "codemirror_mode": {
    "name": "ipython",
    "version": 3
   },
   "file_extension": ".py",
   "mimetype": "text/x-python",
   "name": "python",
   "nbconvert_exporter": "python",
   "pygments_lexer": "ipython3",
   "version": "3.12.1"
  },
  "orig_nbformat": 4
 },
 "nbformat": 4,
 "nbformat_minor": 2
}
